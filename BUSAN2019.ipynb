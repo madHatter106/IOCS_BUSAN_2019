{
 "cells": [
  {
   "cell_type": "markdown",
   "metadata": {},
   "source": [
    "## Open Source Tools For Rapid Statistical Model Development"
   ]
  },
  {
   "cell_type": "markdown",
   "metadata": {},
   "source": [
    "### Overview\n",
    "* Catching up with Probabilistic Programming\n",
    "* Plan models -- causalgraphicalmodels\n",
    "* Loading Data -- PANDAS\n",
    "* Preparing Data -- PANDAS, Seaborn, Scikit-learn\n",
    "* Rapid Model Development -- PyMC3\n",
    "* Beyond the Basics"
   ]
  },
  {
   "cell_type": "markdown",
   "metadata": {},
   "source": [
    "### Notebook Content:\n",
    "1. [Plan modeling](#ModelPlan)\n",
    "2. [Loading NASA's SEABASS Data](#DataLoad)\n",
    "3. [Prepare Data for Modeling](#DataPrep)\n",
    "4. [Bayesian Modelling](#PyMC3)\n",
    "   1. [Model coding](#writemodel)\n",
    "   2. [Prior evaluation & Model modification](#priors)\n",
    "   3. [Model fitting & diagnostics](#fit)\n",
    "   4. [Model Evaluation](#eval)\n",
    "       1. [PPC]\n",
    "       2. [WAIC]\n",
    "       3. [TEST set evaluation]\n",
    "5. [Not Covered](#Aftermath)"
   ]
  },
  {
   "cell_type": "code",
   "execution_count": 10,
   "metadata": {
    "collapsed": true
   },
   "outputs": [],
   "source": [
    "import pandas as pd\n",
    "import seaborn as sb\n",
    "import pymc3 as pm\n",
    "import cmocean as cm"
   ]
  },
  {
   "cell_type": "code",
   "execution_count": 11,
   "metadata": {},
   "outputs": [
    {
     "name": "stdout",
     "output_type": "stream",
     "text": [
      "pandas version 0.23.4\n",
      "seaborn version 0.8.1\n",
      "pymc3 version 3.4.1\n",
      "cmocean version 1.2\n"
     ]
    }
   ],
   "source": [
    "print('pandas version %s' % pd.__version__)\n",
    "print('seaborn version %s' %sb.__version__)\n",
    "print('pymc3 version %s' % pm.__version__)\n",
    "print('cmocean version %s' % cm.__version__)"
   ]
  },
  {
   "cell_type": "code",
   "execution_count": 8,
   "metadata": {
    "collapsed": true
   },
   "outputs": [],
   "source": [
    "% matplotlib inline"
   ]
  },
  {
   "cell_type": "markdown",
   "metadata": {},
   "source": [
    "### Loading and preparing data -- PANDAS\n",
    "* the nomad dataset\n",
    "* reading in \n",
    "* get column names\n",
    "* extract desired variables\n",
    "\n",
    "### Data Exploration -- PANDAS, Seaborn and Scikit-Learn\n",
    "* predictor isolated distributions\n",
    "* plotting predictors/predicted w/ respect to each other\n",
    "* predictor correlation, multicollinearity and pca\n",
    "\n",
    "### Modeling -- Probabilistic Programming with PyMC3\n",
    "* simple bayesian regression to predict chlorophyll from Rrs\n",
    "* rapid but transparent model development\n",
    "* evaluation of priors\n",
    "* fitting and evaluation of posterior distribution\n",
    "* model comparison/selection"
   ]
  },
  {
   "cell_type": "markdown",
   "metadata": {},
   "source": []
  }
 ],
 "metadata": {
  "kernelspec": {
   "display_name": "Python 3",
   "language": "python",
   "name": "python3"
  },
  "language_info": {
   "codemirror_mode": {
    "name": "ipython",
    "version": 3
   },
   "file_extension": ".py",
   "mimetype": "text/x-python",
   "name": "python",
   "nbconvert_exporter": "python",
   "pygments_lexer": "ipython3",
   "version": "3.7.1"
  }
 },
 "nbformat": 4,
 "nbformat_minor": 2
}
