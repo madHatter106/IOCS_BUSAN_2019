{
 "cells": [
  {
   "cell_type": "markdown",
   "metadata": {
    "slideshow": {
     "slide_type": "slide"
    }
   },
   "source": [
    "## Probabilistic Programming Workflow\n",
    "\n",
    "### Open Source Tools For Rapid Statistical (Bayesian) Model Development"
   ]
  },
  {
   "cell_type": "markdown",
   "metadata": {
    "slideshow": {
     "slide_type": "slide"
    }
   },
   "source": [
    "<a id='TOP'></a>\n",
    "### Notebook Content:\n",
    "1. [Overview](#Overview)\n",
    "    1. [Ensuring Reproducibility](#Reprod)\n",
    "    2. [PP as modeling framework](#PPOverview)\n",
    "2. [Loading Field Data](#DataLoad)\n",
    "3. [Pre-Processing](#DataPrep)\n",
    "   1. [Data Cleaning](#cleaning)\n",
    "   2. [Exogenous Feature Extraction](#endo)\n",
    "       1. [Dealing with time data](#datetime)\n",
    "       2. [Consolidating fluo/hplc chl data](#hplcfluo)\n",
    "       3. [Log-Transform](#log)\n",
    "   4. [Data Splitting into Train/Test Sets](#split)\n",
    "   5. [Endogenous Feature Extraction](#exo)\n",
    "       1. [Principal Component Analysis (PCA)](#pca)\n",
    "       2. [Scaling Data](#scale)\n",
    "   6. [Preserving the preprocessing pipeline](#picklepreprocess)\n",
    "4. [Bayesian Modelling](#PyMC3)\n",
    "   1. [Model coding](#writemodel)\n",
    "   2. [Prior evaluation & Model modification](#priors)\n",
    "   3. [Model fitting & diagnostics](#fit)\n",
    "   4. [Model evaluation](#eval)\n",
    "       1. [Deviance](#deviance)\n",
    "       2. [Approximation by WAIC](#waic)\n",
    "5. [Conclusion](Conclusion)"
   ]
  },
  {
   "cell_type": "markdown",
   "metadata": {
    "slideshow": {
     "slide_type": "skip"
    }
   },
   "source": [
    "[Back to Contents](#TOP)"
   ]
  },
  {
   "cell_type": "markdown",
   "metadata": {
    "slideshow": {
     "slide_type": "slide"
    }
   },
   "source": [
    "## 1. <u>Overview</u>\n",
    "* Catching up with Probabilistic Programming\n",
    "* Loading Data -- PanDaS\n",
    "* Preparing Data -- PanDaS, Seaborn, Scikit-learn\n",
    "* Rapid Model Development -- PyMC3\n",
    "* Beyond the Basics"
   ]
  },
  {
   "cell_type": "code",
   "execution_count": 4,
   "metadata": {
    "slideshow": {
     "slide_type": "subslide"
    }
   },
   "outputs": [],
   "source": [
    "# STL\n",
    "import os\n",
    "import pickle\n",
    "import sys\n",
    "\n",
    "# numerical libraries\n",
    "import numpy as np\n",
    "import pandas as pd\n",
    "import pymc3 as pm\n",
    "from sklearn.decomposition import PCA\n",
    "from sklearn.metrics import mean_absolute_error as mae_score\n",
    "from sklearn.metrics import r2_score\n",
    "from sklearn.model_selection import train_test_split\n",
    "from sklearn.preprocessing import StandardScaler\n",
    "from sklearn import __version__ as skver\n",
    "from theano import shared\n",
    "\n",
    "\n",
    "# graphic facilities\n",
    "import matplotlib.pyplot as pl\n",
    "from matplotlib import rcParams\n",
    "import seaborn as sb"
   ]
  },
  {
   "cell_type": "code",
   "execution_count": 2,
   "metadata": {
    "slideshow": {
     "slide_type": "skip"
    }
   },
   "outputs": [],
   "source": [
    "# NOTEBOOK-WIDE Graphical settings\n",
    "rcParams['axes.formatter.limits'] = (-2, 3)\n",
    "rcParams['axes.titlesize'] = 18\n",
    "rcParams['axes.labelsize'] = 16\n",
    "rcParams['font.size'] = 16\n",
    "rcParams['ytick.labelsize'] = 16\n",
    "rcParams['xtick.labelsize'] = 16\n",
    "rcParams['legend.fontsize'] = 16\n",
    "rcParams['xtick.minor.visible'] = True"
   ]
  },
  {
   "cell_type": "code",
   "execution_count": 7,
   "metadata": {
    "slideshow": {
     "slide_type": "subslide"
    }
   },
   "outputs": [
    {
     "name": "stdout",
     "output_type": "stream",
     "text": [
      "Python version:...... 3.6.8 \n",
      "PanDaS version:...... 0.24.1\n",
      "Seaborn version:..... 0.9.0\n",
      "Scikit-Learn version: 0.20.3\n",
      "PyMC3 version:....... 3.6\n"
     ]
    }
   ],
   "source": [
    "print(f'Python version:...... {sys.version.split(\"|\")[0]}')\n",
    "print(f'PanDaS version:...... {pd.__version__}')\n",
    "print(f'Seaborn version:..... {sb.__version__}')\n",
    "print(f'Scikit-Learn version: {skver}')\n",
    "print(f'PyMC3 version:....... {pm.__version__}')"
   ]
  },
  {
   "cell_type": "code",
   "execution_count": 8,
   "metadata": {
    "slideshow": {
     "slide_type": "skip"
    }
   },
   "outputs": [],
   "source": [
    "%matplotlib inline"
   ]
  },
  {
   "cell_type": "markdown",
   "metadata": {
    "slideshow": {
     "slide_type": "skip"
    }
   },
   "source": [
    "### Loading and preparing data -- PANDAS\n",
    "* the nomad dataset\n",
    "* reading in \n",
    "* get column names\n",
    "* extract desired variables\n",
    "\n",
    "### Data Exploration -- PANDAS, Seaborn and Scikit-Learn\n",
    "* predictor isolated distributions\n",
    "* plotting predictors/predicted w/ respect to each other\n",
    "* predictor correlation, multicollinearity and pca\n",
    "\n",
    "### Modeling -- Probabilistic Programming with PyMC3\n",
    "* simple bayesian regression to predict chlorophyll from Rrs\n",
    "* rapid but transparent model development\n",
    "* evaluation of priors\n",
    "* fitting and evaluation of posterior distribution\n",
    "* model comparison/selection"
   ]
  },
  {
   "cell_type": "markdown",
   "metadata": {
    "slideshow": {
     "slide_type": "skip"
    }
   },
   "source": [
    "[Back to Contents](#TOP)"
   ]
  },
  {
   "cell_type": "markdown",
   "metadata": {
    "slideshow": {
     "slide_type": "slide"
    }
   },
   "source": [
    "<a id=DataLoad></a>\n",
    "## 2. <u>Loading Field Data</u>\n",
    "<br>\n",
    "<span style=\"font-size:16pt\">$\\ \\ \\ \\Rightarrow$ NOMAD SeaWiFS validation match-up distribution</span><br>\n",
    "<img src='./resources/nomad_seabass_v1_seawifs_map.png' width=600 title=\"NOMAD SeaWiFS validation match-up distribution\"/>"
   ]
  },
  {
   "cell_type": "markdown",
   "metadata": {
    "slideshow": {
     "slide_type": "subslide"
    }
   },
   "source": [
    "<span style=\"font-size:16pt\">$\\Rightarrow$   <u>Predictors</u></span>\n",
    "* sat_rrs  ~ satellite remote-sensing reflectance (sr-1)\n",
    "* etopo2 ~ NGDC ETOPO2 water depth (meters)\n",
    "* oisst    ~ optimal interpolation (OI) sea surface temperature (SST) (degrees C)\n",
    "---\n",
    "<span style=\"font-size:16pt\">$\\Rightarrow$   <u>Predicted</u></span>\n",
    "* chl ~ fluorometric chlorophyll a"
   ]
  },
  {
   "cell_type": "markdown",
   "metadata": {
    "slideshow": {
     "slide_type": "skip"
    }
   },
   "source": [
    "<u>Other</u>\n",
    "* id ~ NOMAD record identifier (unitless)"
   ]
  },
  {
   "cell_type": "markdown",
   "metadata": {
    "slideshow": {
     "slide_type": "subslide"
    }
   },
   "source": [
    "<span style=\"font-size:16pt\">$\\Rightarrow$   <u>File content</u></span>\n",
    "<br><br>\n",
    "/fields=year,month,day,hour,minute,second,lat,lon,id,oisst,etopo2,chl,chl_a,kd405,kd411,kd443,kd<br>\n",
    "...<br>\n",
    "_rrs490,sat_rrs510,sat_rrs555,sat_rrs670,sat_file,tdiff,solz,senz,cv,valid<br>\n",
    "/units=-999<br>\n",
    "/end_header<br>\n",
    "1997,10,07,09,41,00,42.51,39.52,4065,19.54,1982,0.401,-999,-999,-999,-999,-999,-999,-999,-999,-999,-999,..."
   ]
  },
  {
   "cell_type": "code",
   "execution_count": 10,
   "metadata": {
    "slideshow": {
     "slide_type": "subslide"
    }
   },
   "outputs": [],
   "source": [
    "with open('./nomad_seawifs_v1.3_2005262.txt') as f:\n",
    "    for i, line in enumerate(f.readlines()):\n",
    "        if 'fields' in line:\n",
    "            # collect column labels\n",
    "            col_names = line.strip('/fields=').strip().split(',') \n",
    "        if '/end_header' in line:\n",
    "            # record rows to skip\n",
    "            rowskips = i+1 # i is 0-indexed\n",
    "            break"
   ]
  },
  {
   "cell_type": "code",
   "execution_count": 11,
   "metadata": {
    "slideshow": {
     "slide_type": "subslide"
    }
   },
   "outputs": [],
   "source": [
    "df = pd.read_csv('./nomad_seawifs_v1.3_2005262.txt', header=None,\n",
    "                 names=col_names, skiprows=rowskips, na_values=-999)"
   ]
  },
  {
   "cell_type": "code",
   "execution_count": 12,
   "metadata": {
    "slideshow": {
     "slide_type": "fragment"
    }
   },
   "outputs": [
    {
     "name": "stdout",
     "output_type": "stream",
     "text": [
      "<class 'pandas.core.frame.DataFrame'>\n",
      "RangeIndex: 292 entries, 0 to 291\n",
      "Columns: 169 entries, year to valid\n",
      "dtypes: float64(157), int64(10), object(2)\n",
      "memory usage: 385.6+ KB\n"
     ]
    }
   ],
   "source": [
    "df.info()"
   ]
  },
  {
   "cell_type": "code",
   "execution_count": 13,
   "metadata": {
    "slideshow": {
     "slide_type": "subslide"
    }
   },
   "outputs": [
    {
     "data": {
      "text/html": [
       "<div>\n",
       "<style scoped>\n",
       "    .dataframe tbody tr th:only-of-type {\n",
       "        vertical-align: middle;\n",
       "    }\n",
       "\n",
       "    .dataframe tbody tr th {\n",
       "        vertical-align: top;\n",
       "    }\n",
       "\n",
       "    .dataframe thead th {\n",
       "        text-align: right;\n",
       "    }\n",
       "</style>\n",
       "<table border=\"1\" class=\"dataframe\">\n",
       "  <thead>\n",
       "    <tr style=\"text-align: right;\">\n",
       "      <th></th>\n",
       "      <th>year</th>\n",
       "      <th>month</th>\n",
       "      <th>day</th>\n",
       "      <th>hour</th>\n",
       "      <th>minute</th>\n",
       "      <th>second</th>\n",
       "      <th>lat</th>\n",
       "      <th>lon</th>\n",
       "      <th>id</th>\n",
       "      <th>oisst</th>\n",
       "      <th>...</th>\n",
       "      <th>sat_rrs490</th>\n",
       "      <th>sat_rrs510</th>\n",
       "      <th>sat_rrs555</th>\n",
       "      <th>sat_rrs670</th>\n",
       "      <th>sat_file</th>\n",
       "      <th>tdiff</th>\n",
       "      <th>solz</th>\n",
       "      <th>senz</th>\n",
       "      <th>cv</th>\n",
       "      <th>valid</th>\n",
       "    </tr>\n",
       "  </thead>\n",
       "  <tbody>\n",
       "    <tr>\n",
       "      <th>0</th>\n",
       "      <td>1997</td>\n",
       "      <td>10</td>\n",
       "      <td>7</td>\n",
       "      <td>9</td>\n",
       "      <td>41</td>\n",
       "      <td>0</td>\n",
       "      <td>42.51</td>\n",
       "      <td>39.52</td>\n",
       "      <td>4065</td>\n",
       "      <td>19.54</td>\n",
       "      <td>...</td>\n",
       "      <td>0.00345</td>\n",
       "      <td>0.00297</td>\n",
       "      <td>0.00217</td>\n",
       "      <td>0.00026</td>\n",
       "      <td>S1997280094210.L1A_GAC</td>\n",
       "      <td>480</td>\n",
       "      <td>49.0</td>\n",
       "      <td>25.4</td>\n",
       "      <td>0.2098</td>\n",
       "      <td>0</td>\n",
       "    </tr>\n",
       "    <tr>\n",
       "      <th>1</th>\n",
       "      <td>1997</td>\n",
       "      <td>10</td>\n",
       "      <td>11</td>\n",
       "      <td>9</td>\n",
       "      <td>32</td>\n",
       "      <td>0</td>\n",
       "      <td>39.29</td>\n",
       "      <td>25.11</td>\n",
       "      <td>4069</td>\n",
       "      <td>19.57</td>\n",
       "      <td>...</td>\n",
       "      <td>0.00494</td>\n",
       "      <td>0.00348</td>\n",
       "      <td>0.00191</td>\n",
       "      <td>0.00018</td>\n",
       "      <td>S1997284110315.L1A_MLAC</td>\n",
       "      <td>5880</td>\n",
       "      <td>48.7</td>\n",
       "      <td>37.8</td>\n",
       "      <td>0.1043</td>\n",
       "      <td>1</td>\n",
       "    </tr>\n",
       "  </tbody>\n",
       "</table>\n",
       "<p>2 rows × 169 columns</p>\n",
       "</div>"
      ],
      "text/plain": [
       "   year  month  day  hour  minute  second    lat    lon    id  oisst  ...  \\\n",
       "0  1997     10    7     9      41       0  42.51  39.52  4065  19.54  ...   \n",
       "1  1997     10   11     9      32       0  39.29  25.11  4069  19.57  ...   \n",
       "\n",
       "   sat_rrs490  sat_rrs510  sat_rrs555  sat_rrs670                 sat_file  \\\n",
       "0     0.00345     0.00297     0.00217     0.00026   S1997280094210.L1A_GAC   \n",
       "1     0.00494     0.00348     0.00191     0.00018  S1997284110315.L1A_MLAC   \n",
       "\n",
       "   tdiff  solz  senz      cv  valid  \n",
       "0    480  49.0  25.4  0.2098      0  \n",
       "1   5880  48.7  37.8  0.1043      1  \n",
       "\n",
       "[2 rows x 169 columns]"
      ]
     },
     "execution_count": 13,
     "metadata": {},
     "output_type": "execute_result"
    }
   ],
   "source": [
    "df.head(2)"
   ]
  },
  {
   "cell_type": "markdown",
   "metadata": {
    "slideshow": {
     "slide_type": "skip"
    }
   },
   "source": [
    "[Back to Contents](#TOP)"
   ]
  },
  {
   "cell_type": "markdown",
   "metadata": {
    "slideshow": {
     "slide_type": "slide"
    }
   },
   "source": [
    "<a id=DataPrep></a>\n",
    "## 3. <u>Pre-Processing</u>"
   ]
  },
  {
   "cell_type": "markdown",
   "metadata": {
    "slideshow": {
     "slide_type": "subslide"
    }
   },
   "source": [
    "<a id=cleaning></a>\n",
    "### A. Cleaning data\n",
    "\n",
    "* Don't drop bad data\n",
    "* Flag it (replace with NaN)\n",
    "* Retain bad entry for possible later imputation"
   ]
  },
  {
   "cell_type": "code",
   "execution_count": 21,
   "metadata": {
    "slideshow": {
     "slide_type": "subslide"
    }
   },
   "outputs": [],
   "source": [
    "# assign Nan to nonpositive depths\n",
    "df.loc[df.etopo2<=0, 'etopo2'] = np.NaN"
   ]
  },
  {
   "cell_type": "code",
   "execution_count": 22,
   "metadata": {
    "slideshow": {
     "slide_type": "fragment"
    }
   },
   "outputs": [],
   "source": [
    "# assign Nan to nonpositive sat. Rrs\n",
    "sat_cols = df.filter(regex='sat_rrs', axis=1).columns"
   ]
  },
  {
   "cell_type": "code",
   "execution_count": 23,
   "metadata": {
    "slideshow": {
     "slide_type": "fragment"
    }
   },
   "outputs": [],
   "source": [
    "for col in sat_cols:\n",
    "    df.loc[df[col]<=0, col] = np.NaN"
   ]
  },
  {
   "cell_type": "markdown",
   "metadata": {
    "slideshow": {
     "slide_type": "skip"
    }
   },
   "source": [
    "[Back to Contents](#TOP)"
   ]
  },
  {
   "cell_type": "markdown",
   "metadata": {
    "slideshow": {
     "slide_type": "subslide"
    }
   },
   "source": [
    "<a id=EFT></a>\n",
    "### B. Exogenous Feature Transformation"
   ]
  },
  {
   "cell_type": "markdown",
   "metadata": {
    "slideshow": {
     "slide_type": "subslide"
    }
   },
   "source": [
    "<a id=datetime></a>\n",
    "#### a. Dealing with date/time data: \n",
    "$\\ \\ \\ \\rightarrow$Consolidation of multiple date/time columns into single column of datetime objects"
   ]
  },
  {
   "cell_type": "code",
   "execution_count": 14,
   "metadata": {
    "slideshow": {
     "slide_type": "fragment"
    }
   },
   "outputs": [],
   "source": [
    "date_time_columns = ['year', 'month', 'day', 'hour', 'minute', 'second']\n",
    "df.insert(0, 'datetime', pd.to_datetime(df[date_time_columns],\n",
    "                                        format='%Y-%m-%d %H:%M:%S'))\n",
    "df.drop(date_time_columns, axis=1, inplace=True)"
   ]
  },
  {
   "cell_type": "code",
   "execution_count": 15,
   "metadata": {
    "slideshow": {
     "slide_type": "subslide"
    }
   },
   "outputs": [
    {
     "data": {
      "image/png": "[encoded data removed]",
      "text/plain": [
       "<Figure size 432x288 with 1 Axes>"
      ]
     },
     "metadata": {},
     "output_type": "display_data"
    }
   ],
   "source": [
    "ax = df.datetime.dt.month_name().value_counts().plot(kind='bar')\n",
    "ax.set_ylabel('Freq.');"
   ]
  },
  {
   "cell_type": "markdown",
   "metadata": {
    "slideshow": {
     "slide_type": "skip"
    }
   },
   "source": [
    "[Back to Contents](#TOP)"
   ]
  },
  {
   "cell_type": "markdown",
   "metadata": {
    "slideshow": {
     "slide_type": "subslide"
    }
   },
   "source": [
    "<a id=hplcfluo></a>\n",
    "#### b. Consolidating hplc/fluo chlorophyll data"
   ]
  },
  {
   "cell_type": "code",
   "execution_count": 16,
   "metadata": {
    "slideshow": {
     "slide_type": "subslide"
    }
   },
   "outputs": [
    {
     "name": "stdout",
     "output_type": "stream",
     "text": [
      "<class 'pandas.core.frame.DataFrame'>\n",
      "RangeIndex: 292 entries, 0 to 291\n",
      "Data columns (total 2 columns):\n",
      "chl      262 non-null float64\n",
      "chl_a    33 non-null float64\n",
      "dtypes: float64(2)\n",
      "memory usage: 4.6 KB\n"
     ]
    }
   ],
   "source": [
    "# two types of chlorophyll a:\n",
    "df.filter(regex='chl', axis=1).info()\n",
    "# chl: obtained by fluorometry\n",
    "# chl_a: obtained by hplc"
   ]
  },
  {
   "cell_type": "code",
   "execution_count": 17,
   "metadata": {
    "slideshow": {
     "slide_type": "subslide"
    }
   },
   "outputs": [],
   "source": [
    "def fill_chl(row):\n",
    "    return row['chl_a'] if np.isfinite(row['chl_a']) else row['chl']"
   ]
  },
  {
   "cell_type": "code",
   "execution_count": 18,
   "metadata": {
    "slideshow": {
     "slide_type": "fragment"
    }
   },
   "outputs": [],
   "source": [
    "# fill consolidated chlor_a column with chl_a (hplc) when possible, chl (fluo) otherwise\n",
    "df['chlor_a'] = df.apply(fill_chl, axis=1)"
   ]
  },
  {
   "cell_type": "code",
   "execution_count": 19,
   "metadata": {
    "slideshow": {
     "slide_type": "fragment"
    }
   },
   "outputs": [],
   "source": [
    "# Flag chlor_a measurement type; hplc/fluo \n",
    "df['is_hplc'] = np.isfinite(df.chl_a)"
   ]
  },
  {
   "cell_type": "code",
   "execution_count": 20,
   "metadata": {
    "slideshow": {
     "slide_type": "subslide"
    }
   },
   "outputs": [
    {
     "name": "stdout",
     "output_type": "stream",
     "text": [
      "<class 'pandas.core.frame.DataFrame'>\n",
      "RangeIndex: 292 entries, 0 to 291\n",
      "Data columns (total 3 columns):\n",
      "chl        262 non-null float64\n",
      "chl_a      33 non-null float64\n",
      "chlor_a    292 non-null float64\n",
      "dtypes: float64(3)\n",
      "memory usage: 6.9 KB\n"
     ]
    }
   ],
   "source": [
    "df.filter(regex='chl', axis=1).info()"
   ]
  },
  {
   "cell_type": "markdown",
   "metadata": {
    "slideshow": {
     "slide_type": "skip"
    }
   },
   "source": [
    "[Back to Contents](#TOP)"
   ]
  },
  {
   "cell_type": "markdown",
   "metadata": {
    "slideshow": {
     "slide_type": "fragment"
    }
   },
   "source": [
    "<a id=log></a>\n",
    "#### c. Training-independent scaling: log-transform"
   ]
  },
  {
   "cell_type": "code",
   "execution_count": 25,
   "metadata": {
    "slideshow": {
     "slide_type": "subslide"
    }
   },
   "outputs": [],
   "source": [
    "# Log-transform Rrs Data\n",
    "for col in sat_cols:\n",
    "    df[f'log_{col}'] = np.log10(df[col])\n",
    "   "
   ]
  },
  {
   "cell_type": "code",
   "execution_count": 28,
   "metadata": {
    "slideshow": {
     "slide_type": "fragment"
    }
   },
   "outputs": [],
   "source": [
    "# Log-transform Chl Data\n",
    "df['log_chlor_a'] = np.log10(df.chlor_a)"
   ]
  },
  {
   "cell_type": "code",
   "execution_count": 38,
   "metadata": {
    "slideshow": {
     "slide_type": "fragment"
    }
   },
   "outputs": [
    {
     "data": {
      "text/html": [
       "<div>\n",
       "<style scoped>\n",
       "    .dataframe tbody tr th:only-of-type {\n",
       "        vertical-align: middle;\n",
       "    }\n",
       "\n",
       "    .dataframe tbody tr th {\n",
       "        vertical-align: top;\n",
       "    }\n",
       "\n",
       "    .dataframe thead th {\n",
       "        text-align: right;\n",
       "    }\n",
       "</style>\n",
       "<table border=\"1\" class=\"dataframe\">\n",
       "  <thead>\n",
       "    <tr style=\"text-align: right;\">\n",
       "      <th></th>\n",
       "      <th>sat_rrs412</th>\n",
       "      <th>sat_rrs443</th>\n",
       "      <th>sat_rrs490</th>\n",
       "      <th>sat_rrs510</th>\n",
       "      <th>sat_rrs555</th>\n",
       "      <th>sat_rrs670</th>\n",
       "      <th>chlor_a</th>\n",
       "      <th>log_sat_rrs412</th>\n",
       "      <th>log_sat_rrs443</th>\n",
       "      <th>log_sat_rrs490</th>\n",
       "      <th>log_sat_rrs510</th>\n",
       "      <th>log_sat_rrs555</th>\n",
       "      <th>log_sat_rrs670</th>\n",
       "      <th>log_chlor_a</th>\n",
       "    </tr>\n",
       "  </thead>\n",
       "  <tbody>\n",
       "    <tr>\n",
       "      <th>0</th>\n",
       "      <td>0.00239</td>\n",
       "      <td>0.00288</td>\n",
       "      <td>0.00345</td>\n",
       "      <td>0.00297</td>\n",
       "      <td>0.00217</td>\n",
       "      <td>0.00026</td>\n",
       "      <td>0.401</td>\n",
       "      <td>-2.621602</td>\n",
       "      <td>-2.540608</td>\n",
       "      <td>-2.462181</td>\n",
       "      <td>-2.527244</td>\n",
       "      <td>-2.663540</td>\n",
       "      <td>-3.585027</td>\n",
       "      <td>-0.396856</td>\n",
       "    </tr>\n",
       "    <tr>\n",
       "      <th>1</th>\n",
       "      <td>0.00572</td>\n",
       "      <td>0.00592</td>\n",
       "      <td>0.00494</td>\n",
       "      <td>0.00348</td>\n",
       "      <td>0.00191</td>\n",
       "      <td>0.00018</td>\n",
       "      <td>0.091</td>\n",
       "      <td>-2.242604</td>\n",
       "      <td>-2.227678</td>\n",
       "      <td>-2.306273</td>\n",
       "      <td>-2.458421</td>\n",
       "      <td>-2.718967</td>\n",
       "      <td>-3.744727</td>\n",
       "      <td>-1.040959</td>\n",
       "    </tr>\n",
       "  </tbody>\n",
       "</table>\n",
       "</div>"
      ],
      "text/plain": [
       "   sat_rrs412  sat_rrs443  sat_rrs490  sat_rrs510  sat_rrs555  sat_rrs670  \\\n",
       "0     0.00239     0.00288     0.00345     0.00297     0.00217     0.00026   \n",
       "1     0.00572     0.00592     0.00494     0.00348     0.00191     0.00018   \n",
       "\n",
       "   chlor_a  log_sat_rrs412  log_sat_rrs443  log_sat_rrs490  log_sat_rrs510  \\\n",
       "0    0.401       -2.621602       -2.540608       -2.462181       -2.527244   \n",
       "1    0.091       -2.242604       -2.227678       -2.306273       -2.458421   \n",
       "\n",
       "   log_sat_rrs555  log_sat_rrs670  log_chlor_a  \n",
       "0       -2.663540       -3.585027    -0.396856  \n",
       "1       -2.718967       -3.744727    -1.040959  "
      ]
     },
     "execution_count": 38,
     "metadata": {},
     "output_type": "execute_result"
    }
   ],
   "source": [
    "df.filter(regex='(rrs|chlor_a)', axis=1).head(2)"
   ]
  },
  {
   "cell_type": "markdown",
   "metadata": {},
   "source": [
    "#### d. Sub-grouping"
   ]
  },
  {
   "cell_type": "code",
   "execution_count": 54,
   "metadata": {},
   "outputs": [],
   "source": [
    "df['coastal'] = df.etopo2.apply(lambda x: x<=30)"
   ]
  },
  {
   "cell_type": "code",
   "execution_count": 55,
   "metadata": {
    "slideshow": {
     "slide_type": "fragment"
    }
   },
   "outputs": [],
   "source": [
    "df['coastal_idx'] = df.coastal.astype('category').cat.codes.astype('int')"
   ]
  },
  {
   "cell_type": "code",
   "execution_count": 65,
   "metadata": {},
   "outputs": [
    {
     "data": {
      "text/html": [
       "<div>\n",
       "<style scoped>\n",
       "    .dataframe tbody tr th:only-of-type {\n",
       "        vertical-align: middle;\n",
       "    }\n",
       "\n",
       "    .dataframe tbody tr th {\n",
       "        vertical-align: top;\n",
       "    }\n",
       "\n",
       "    .dataframe thead th {\n",
       "        text-align: right;\n",
       "    }\n",
       "</style>\n",
       "<table border=\"1\" class=\"dataframe\">\n",
       "  <thead>\n",
       "    <tr style=\"text-align: right;\">\n",
       "      <th></th>\n",
       "      <th>coastal</th>\n",
       "      <th>coastal_idx</th>\n",
       "    </tr>\n",
       "  </thead>\n",
       "  <tbody>\n",
       "    <tr>\n",
       "      <th>0</th>\n",
       "      <td>False</td>\n",
       "      <td>0</td>\n",
       "    </tr>\n",
       "    <tr>\n",
       "      <th>1</th>\n",
       "      <td>False</td>\n",
       "      <td>0</td>\n",
       "    </tr>\n",
       "    <tr>\n",
       "      <th>2</th>\n",
       "      <td>False</td>\n",
       "      <td>0</td>\n",
       "    </tr>\n",
       "    <tr>\n",
       "      <th>3</th>\n",
       "      <td>False</td>\n",
       "      <td>0</td>\n",
       "    </tr>\n",
       "    <tr>\n",
       "      <th>4</th>\n",
       "      <td>False</td>\n",
       "      <td>0</td>\n",
       "    </tr>\n",
       "  </tbody>\n",
       "</table>\n",
       "</div>"
      ],
      "text/plain": [
       "   coastal  coastal_idx\n",
       "0    False            0\n",
       "1    False            0\n",
       "2    False            0\n",
       "3    False            0\n",
       "4    False            0"
      ]
     },
     "execution_count": 65,
     "metadata": {},
     "output_type": "execute_result"
    }
   ],
   "source": [
    "df.filter(regex='coastal', axis=1).head()"
   ]
  },
  {
   "cell_type": "markdown",
   "metadata": {
    "slideshow": {
     "slide_type": "skip"
    }
   },
   "source": [
    "[Back to Contents](#TOP)"
   ]
  },
  {
   "cell_type": "markdown",
   "metadata": {
    "slideshow": {
     "slide_type": "subslide"
    }
   },
   "source": [
    "<a id=split></a>\n",
    "### C. Splitting Data into Train/Test Sets"
   ]
  },
  {
   "cell_type": "markdown",
   "metadata": {
    "slideshow": {
     "slide_type": "subslide"
    }
   },
   "source": [
    "#### a. Extract relevant subset"
   ]
  },
  {
   "cell_type": "code",
   "execution_count": 66,
   "metadata": {
    "slideshow": {
     "slide_type": "subslide"
    }
   },
   "outputs": [],
   "source": [
    "data_extr = [f'log_{col}' for col in sat_cols] + ['oisst', 'coastal', 'coastal_idx', 'log_chlor_a'] "
   ]
  },
  {
   "cell_type": "code",
   "execution_count": 67,
   "metadata": {
    "slideshow": {
     "slide_type": "fragment"
    }
   },
   "outputs": [
    {
     "data": {
      "text/html": [
       "<div>\n",
       "<style scoped>\n",
       "    .dataframe tbody tr th:only-of-type {\n",
       "        vertical-align: middle;\n",
       "    }\n",
       "\n",
       "    .dataframe tbody tr th {\n",
       "        vertical-align: top;\n",
       "    }\n",
       "\n",
       "    .dataframe thead th {\n",
       "        text-align: right;\n",
       "    }\n",
       "</style>\n",
       "<table border=\"1\" class=\"dataframe\">\n",
       "  <thead>\n",
       "    <tr style=\"text-align: right;\">\n",
       "      <th></th>\n",
       "      <th>log_sat_rrs412</th>\n",
       "      <th>log_sat_rrs443</th>\n",
       "      <th>log_sat_rrs490</th>\n",
       "      <th>log_sat_rrs510</th>\n",
       "      <th>log_sat_rrs555</th>\n",
       "      <th>log_sat_rrs670</th>\n",
       "      <th>oisst</th>\n",
       "      <th>coastal</th>\n",
       "      <th>coastal_idx</th>\n",
       "      <th>log_chlor_a</th>\n",
       "    </tr>\n",
       "  </thead>\n",
       "  <tbody>\n",
       "    <tr>\n",
       "      <th>0</th>\n",
       "      <td>-2.621602</td>\n",
       "      <td>-2.540608</td>\n",
       "      <td>-2.462181</td>\n",
       "      <td>-2.527244</td>\n",
       "      <td>-2.663540</td>\n",
       "      <td>-3.585027</td>\n",
       "      <td>19.54</td>\n",
       "      <td>False</td>\n",
       "      <td>0</td>\n",
       "      <td>-0.396856</td>\n",
       "    </tr>\n",
       "    <tr>\n",
       "      <th>1</th>\n",
       "      <td>-2.242604</td>\n",
       "      <td>-2.227678</td>\n",
       "      <td>-2.306273</td>\n",
       "      <td>-2.458421</td>\n",
       "      <td>-2.718967</td>\n",
       "      <td>-3.744727</td>\n",
       "      <td>19.57</td>\n",
       "      <td>False</td>\n",
       "      <td>0</td>\n",
       "      <td>-1.040959</td>\n",
       "    </tr>\n",
       "    <tr>\n",
       "      <th>2</th>\n",
       "      <td>-2.003051</td>\n",
       "      <td>-2.073143</td>\n",
       "      <td>-2.204120</td>\n",
       "      <td>-2.425969</td>\n",
       "      <td>-2.774691</td>\n",
       "      <td>-3.657577</td>\n",
       "      <td>24.67</td>\n",
       "      <td>False</td>\n",
       "      <td>0</td>\n",
       "      <td>-0.801343</td>\n",
       "    </tr>\n",
       "    <tr>\n",
       "      <th>3</th>\n",
       "      <td>-3.154902</td>\n",
       "      <td>-2.910095</td>\n",
       "      <td>-2.752027</td>\n",
       "      <td>-2.714443</td>\n",
       "      <td>-2.707744</td>\n",
       "      <td>-3.259637</td>\n",
       "      <td>17.21</td>\n",
       "      <td>False</td>\n",
       "      <td>0</td>\n",
       "      <td>0.420995</td>\n",
       "    </tr>\n",
       "    <tr>\n",
       "      <th>4</th>\n",
       "      <td>-3.136677</td>\n",
       "      <td>-2.903090</td>\n",
       "      <td>-2.744727</td>\n",
       "      <td>-2.703335</td>\n",
       "      <td>-2.701147</td>\n",
       "      <td>-3.251812</td>\n",
       "      <td>17.21</td>\n",
       "      <td>False</td>\n",
       "      <td>0</td>\n",
       "      <td>0.401228</td>\n",
       "    </tr>\n",
       "  </tbody>\n",
       "</table>\n",
       "</div>"
      ],
      "text/plain": [
       "   log_sat_rrs412  log_sat_rrs443  log_sat_rrs490  log_sat_rrs510  \\\n",
       "0       -2.621602       -2.540608       -2.462181       -2.527244   \n",
       "1       -2.242604       -2.227678       -2.306273       -2.458421   \n",
       "2       -2.003051       -2.073143       -2.204120       -2.425969   \n",
       "3       -3.154902       -2.910095       -2.752027       -2.714443   \n",
       "4       -3.136677       -2.903090       -2.744727       -2.703335   \n",
       "\n",
       "   log_sat_rrs555  log_sat_rrs670  oisst  coastal  coastal_idx  log_chlor_a  \n",
       "0       -2.663540       -3.585027  19.54    False            0    -0.396856  \n",
       "1       -2.718967       -3.744727  19.57    False            0    -1.040959  \n",
       "2       -2.774691       -3.657577  24.67    False            0    -0.801343  \n",
       "3       -2.707744       -3.259637  17.21    False            0     0.420995  \n",
       "4       -2.701147       -3.251812  17.21    False            0     0.401228  "
      ]
     },
     "execution_count": 67,
     "metadata": {},
     "output_type": "execute_result"
    }
   ],
   "source": [
    "df_extr = df.loc[:, data_extr]\n",
    "df_extr.head()"
   ]
  },
  {
   "cell_type": "markdown",
   "metadata": {
    "slideshow": {
     "slide_type": "skip"
    }
   },
   "source": [
    "[Back to Contents](#TOP)"
   ]
  },
  {
   "cell_type": "markdown",
   "metadata": {
    "slideshow": {
     "slide_type": "subslide"
    }
   },
   "source": [
    "#### b. Split into train/test sets"
   ]
  },
  {
   "cell_type": "code",
   "execution_count": 21,
   "metadata": {
    "slideshow": {
     "slide_type": "fragment"
    }
   },
   "outputs": [],
   "source": [
    "X = df_extr.loc[:, :'coastal']\n",
    "y = df_extr.loc[:, ['log_chlor_a']] # extra brackets to retain DataFrame type"
   ]
  },
  {
   "cell_type": "code",
   "execution_count": 22,
   "metadata": {
    "slideshow": {
     "slide_type": "fragment"
    }
   },
   "outputs": [],
   "source": [
    "from sklearn.model_selection import train_test_split\n",
    "X_train, X_test, y_train, y_test = train_test_split(X, y, test_size=0.25)"
   ]
  },
  {
   "cell_type": "markdown",
   "metadata": {
    "slideshow": {
     "slide_type": "subslide"
    }
   },
   "source": [
    "### D. Endogenous Feature Extraction"
   ]
  },
  {
   "cell_type": "markdown",
   "metadata": {
    "slideshow": {
     "slide_type": "subslide"
    }
   },
   "source": [
    "<a id=pca></a>\n",
    "#### a. Principal component analysis (PCA)\n",
    "\n",
    "* commonly employed to address multicollinearity\n",
    "\n",
    "* parameterize scikit-learn PCA transformer using training set\n",
    "* test set and any future data $\\rightarrow$ use parameterized PCA transformer"
   ]
  },
  {
   "cell_type": "code",
   "execution_count": 34,
   "metadata": {
    "slideshow": {
     "slide_type": "skip"
    }
   },
   "outputs": [],
   "source": [
    "def make_heatmap(input_, figsize=(6, 5), **heatmap_kwargs):\n",
    "    f, ax = pl.subplots(figsize=figsize)\n",
    "    ax.set_facecolor('k')\n",
    "    corr_mat = input_.dropna().corr().iloc[1:, :-1]\n",
    "    sb.heatmap(corr_mat, ax=ax, vmin=-1, vmax=1, \n",
    "               mask=np.triu(np.ones(corr_mat.shape),k=1), cmap='RdBu', fmt='.2f',\n",
    "               annot=True, **heatmap_kwargs)\n",
    "    ax.yaxis.set_minor_locator(pl.NullLocator())\n",
    "    ax.xaxis.set_minor_locator(pl.NullLocator())\n",
    "    return f"
   ]
  },
  {
   "cell_type": "code",
   "execution_count": 35,
   "metadata": {
    "slideshow": {
     "slide_type": "skip"
    }
   },
   "outputs": [
    {
     "data": {
      "image/png": "[encoded data removed]",
      "text/plain": [
       "<Figure size 432x360 with 2 Axes>"
      ]
     },
     "metadata": {},
     "output_type": "display_data"
    }
   ],
   "source": [
    "f = make_heatmap(X_train.filter(regex='rrs'))\n",
    "f.tight_layout()\n",
    "f.savefig('./resources/heatmap_train.png')"
   ]
  },
  {
   "cell_type": "code",
   "execution_count": 36,
   "metadata": {
    "slideshow": {
     "slide_type": "skip"
    }
   },
   "outputs": [
    {
     "data": {
      "image/png": "[encoded data removed]",
      "text/plain": [
       "<Figure size 432x360 with 2 Axes>"
      ]
     },
     "metadata": {},
     "output_type": "display_data"
    }
   ],
   "source": [
    "f = make_heatmap(X_test.filter(regex='rrs'))\n",
    "f.tight_layout()\n",
    "f.savefig('./resources/heatmap_test.png')"
   ]
  },
  {
   "cell_type": "markdown",
   "metadata": {
    "slideshow": {
     "slide_type": "fragment"
    }
   },
   "source": [
    "<center><img src='./resources/heatmap_train.png?:2' width=500/></center>"
   ]
  },
  {
   "cell_type": "code",
   "execution_count": 37,
   "metadata": {
    "slideshow": {
     "slide_type": "subslide"
    }
   },
   "outputs": [],
   "source": [
    "# Isolate Rrs data in both training and test sets\n",
    "X_train_rrs = X_train.filter(regex='rrs', axis=1).dropna()\n",
    "X_test_rrs = X_test.filter(regex='rrs', axis=1).dropna()\n",
    "\n",
    "# Instantiate PCA transformers\n",
    "pca_transformer = PCA()"
   ]
  },
  {
   "cell_type": "code",
   "execution_count": 38,
   "metadata": {
    "slideshow": {
     "slide_type": "fragment"
    }
   },
   "outputs": [],
   "source": [
    "# parameterize transformer while rotating training data\n",
    "X_train_pca = pca_transformer.fit_transform(X=X_train_rrs)\n",
    "\n",
    "# apply same transformation to test set without altering parameterization\n",
    "X_test_pca = pca_transformer.transform(X=X_test_rrs)"
   ]
  },
  {
   "cell_type": "code",
   "execution_count": 39,
   "metadata": {
    "slideshow": {
     "slide_type": "skip"
    }
   },
   "outputs": [],
   "source": [
    "X_train_pca = pd.DataFrame(X_train_pca,\n",
    "                           columns=[f'PC{i}' for i in range(1, X_train_pca.shape[1]+1)],\n",
    "                           index=X_train_rrs.index)\n",
    "X_test_pca =  pd.DataFrame(X_test_pca, \n",
    "                           columns=[f'PC{i}' for i in range(1, X_test_pca.shape[1]+1)],\n",
    "                           index=X_test_rrs.index)"
   ]
  },
  {
   "cell_type": "code",
   "execution_count": 41,
   "metadata": {
    "slideshow": {
     "slide_type": "skip"
    }
   },
   "outputs": [],
   "source": [
    "X_train_pca = X_train_pca.merge(X_train[['oisst', 'coastal_idx']], how='outer',\n",
    "                               right_index=True, left_index=True)\n",
    "X_test_pca = X_test_pca.merge(X_test[['oisst', 'coastal_idx']], how='outer',\n",
    "                             right_index=True, left_index=True)"
   ]
  },
  {
   "cell_type": "code",
   "execution_count": 42,
   "metadata": {
    "slideshow": {
     "slide_type": "skip"
    }
   },
   "outputs": [
    {
     "name": "stdout",
     "output_type": "stream",
     "text": [
      "<class 'pandas.core.frame.DataFrame'>\n",
      "Int64Index: 219 entries, 1 to 291\n",
      "Data columns (total 8 columns):\n",
      "PC1        205 non-null float64\n",
      "PC2        205 non-null float64\n",
      "PC3        205 non-null float64\n",
      "PC4        205 non-null float64\n",
      "PC5        205 non-null float64\n",
      "PC6        205 non-null float64\n",
      "oisst      219 non-null float64\n",
      "coastal    219 non-null int64\n",
      "dtypes: float64(7), int64(1)\n",
      "memory usage: 15.4 KB\n"
     ]
    }
   ],
   "source": [
    "X_train_pca.info()"
   ]
  },
  {
   "cell_type": "code",
   "execution_count": 40,
   "metadata": {
    "slideshow": {
     "slide_type": "skip"
    }
   },
   "outputs": [
    {
     "data": {
      "image/png": "[encoded data removed]",
      "text/plain": [
       "<Figure size 648x576 with 2 Axes>"
      ]
     },
     "metadata": {},
     "output_type": "display_data"
    }
   ],
   "source": [
    "rrs_pc = X_train_rrs.merge(X_train_pca, how='outer',\n",
    "                                left_index=True, right_index=True)\n",
    "f = make_heatmap(rrs_pc, figsize=(9, 8))\n",
    "f.tight_layout()\n",
    "f.savefig('./resources/heatmap_x_train_pca.png', dpi=300)"
   ]
  },
  {
   "cell_type": "markdown",
   "metadata": {
    "slideshow": {
     "slide_type": "subslide"
    }
   },
   "source": [
    "<center><img src='./resources/heatmap_x_train_pca.png?:1' width=600 /><center>"
   ]
  },
  {
   "cell_type": "markdown",
   "metadata": {
    "slideshow": {
     "slide_type": "subslide"
    }
   },
   "source": [
    "<a id=std></a>\n",
    "#### b. Standardization\n",
    "\n",
    "* Most often refers to $$\\frac{X - mean(X)}{std(X)}$$\n",
    "* good modeling practice generally\n",
    "* helps putting different variables on comparable scale\n",
    "* helps relate input to output in terms of z-score"
   ]
  },
  {
   "cell_type": "markdown",
   "metadata": {},
   "source": [
    "[Back to Contents](#TOP)"
   ]
  },
  {
   "cell_type": "code",
   "execution_count": 48,
   "metadata": {
    "slideshow": {
     "slide_type": "subslide"
    }
   },
   "outputs": [],
   "source": [
    "# Instantiate scaler\n",
    "sc_X_pca = StandardScaler()\n",
    "sc_y = StandardScaler()"
   ]
  },
  {
   "cell_type": "code",
   "execution_count": 49,
   "metadata": {
    "slideshow": {
     "slide_type": "skip"
    }
   },
   "outputs": [
    {
     "name": "stdout",
     "output_type": "stream",
     "text": [
      "<class 'pandas.core.frame.DataFrame'>\n",
      "Int64Index: 219 entries, 1 to 291\n",
      "Data columns (total 8 columns):\n",
      "PC1        205 non-null float64\n",
      "PC2        205 non-null float64\n",
      "PC3        205 non-null float64\n",
      "PC4        205 non-null float64\n",
      "PC5        205 non-null float64\n",
      "PC6        205 non-null float64\n",
      "oisst      219 non-null float64\n",
      "coastal    219 non-null int64\n",
      "dtypes: float64(7), int64(1)\n",
      "memory usage: 15.4 KB\n"
     ]
    }
   ],
   "source": [
    "X_train_pca.info()"
   ]
  },
  {
   "cell_type": "code",
   "execution_count": 50,
   "metadata": {
    "slideshow": {
     "slide_type": "subslide"
    }
   },
   "outputs": [],
   "source": [
    "X_train_pca_s = sc_X_pca.fit_transform(X_train_pca.iloc[:, :-1])\n",
    "y_train_s = sc_y.fit_transform(y_train)"
   ]
  },
  {
   "cell_type": "code",
   "execution_count": 52,
   "metadata": {
    "slideshow": {
     "slide_type": "skip"
    }
   },
   "outputs": [],
   "source": [
    "# make new dataframe with standardized data using same index as before to retain link to original observations\n",
    "X_train_pca_s = pd.DataFrame(X_train_pca_s, index=X_train_pca.index,\n",
    "                            columns=[f'{col}_s' \n",
    "                                     for col in X_train_pca.iloc[:, :-1].columns])\n",
    "# add coastal dummy variable to standardize data\n",
    "X_train_pca_s = X_train_pca_s.merge(X_train_pca[['coastal_idx']], how='outer',\n",
    "                                   right_index=True, left_index=True)\n",
    "\n",
    "y_train_s = pd.DataFrame(y_train_s, columns=y_train.columns,\n",
    "                         index=y_train.index)"
   ]
  },
  {
   "cell_type": "code",
   "execution_count": 53,
   "metadata": {
    "slideshow": {
     "slide_type": "skip"
    }
   },
   "outputs": [
    {
     "name": "stdout",
     "output_type": "stream",
     "text": [
      "<class 'pandas.core.frame.DataFrame'>\n",
      "Int64Index: 219 entries, 30 to 133\n",
      "Data columns (total 8 columns):\n",
      "oisst_s             219 non-null float64\n",
      "log_sat_rrs412_s    211 non-null float64\n",
      "log_sat_rrs443_s    215 non-null float64\n",
      "log_sat_rrs490_s    219 non-null float64\n",
      "log_sat_rrs510_s    219 non-null float64\n",
      "log_sat_rrs555_s    219 non-null float64\n",
      "log_sat_rrs670_s    211 non-null float64\n",
      "coastal             219 non-null int64\n",
      "dtypes: float64(7), int64(1)\n",
      "memory usage: 25.4 KB\n"
     ]
    }
   ],
   "source": [
    "X_train_s.info()"
   ]
  },
  {
   "cell_type": "code",
   "execution_count": 54,
   "metadata": {
    "slideshow": {
     "slide_type": "skip"
    }
   },
   "outputs": [
    {
     "name": "stdout",
     "output_type": "stream",
     "text": [
      "<class 'pandas.core.frame.DataFrame'>\n",
      "Int64Index: 219 entries, 1 to 291\n",
      "Data columns (total 8 columns):\n",
      "PC1_s      205 non-null float64\n",
      "PC2_s      205 non-null float64\n",
      "PC3_s      205 non-null float64\n",
      "PC4_s      205 non-null float64\n",
      "PC5_s      205 non-null float64\n",
      "PC6_s      205 non-null float64\n",
      "oisst_s    219 non-null float64\n",
      "coastal    219 non-null int64\n",
      "dtypes: float64(7), int64(1)\n",
      "memory usage: 25.4 KB\n"
     ]
    }
   ],
   "source": [
    "X_train_pca_s.info()"
   ]
  },
  {
   "cell_type": "code",
   "execution_count": 55,
   "metadata": {
    "slideshow": {
     "slide_type": "skip"
    }
   },
   "outputs": [
    {
     "name": "stdout",
     "output_type": "stream",
     "text": [
      "<class 'pandas.core.frame.DataFrame'>\n",
      "Int64Index: 73 entries, 217 to 269\n",
      "Data columns (total 8 columns):\n",
      "oisst             73 non-null float64\n",
      "log_sat_rrs412    65 non-null float64\n",
      "log_sat_rrs443    70 non-null float64\n",
      "log_sat_rrs490    72 non-null float64\n",
      "log_sat_rrs510    73 non-null float64\n",
      "log_sat_rrs555    73 non-null float64\n",
      "log_sat_rrs670    70 non-null float64\n",
      "coastal           73 non-null int64\n",
      "dtypes: float64(7), int64(1)\n",
      "memory usage: 7.6 KB\n"
     ]
    }
   ],
   "source": [
    "X_test.info()"
   ]
  },
  {
   "cell_type": "code",
   "execution_count": 56,
   "metadata": {
    "slideshow": {
     "slide_type": "skip"
    }
   },
   "outputs": [
    {
     "name": "stdout",
     "output_type": "stream",
     "text": [
      "<class 'pandas.core.frame.DataFrame'>\n",
      "Int64Index: 73 entries, 0 to 287\n",
      "Data columns (total 8 columns):\n",
      "PC1        64 non-null float64\n",
      "PC2        64 non-null float64\n",
      "PC3        64 non-null float64\n",
      "PC4        64 non-null float64\n",
      "PC5        64 non-null float64\n",
      "PC6        64 non-null float64\n",
      "oisst      73 non-null float64\n",
      "coastal    73 non-null int64\n",
      "dtypes: float64(7), int64(1)\n",
      "memory usage: 5.1 KB\n"
     ]
    }
   ],
   "source": [
    "X_test_pca.info()"
   ]
  },
  {
   "cell_type": "code",
   "execution_count": 57,
   "metadata": {
    "slideshow": {
     "slide_type": "subslide"
    }
   },
   "outputs": [],
   "source": [
    "# Standardize test sets with parameterized scalers\n",
    "X_test_pca_s = sc_X_pca.transform(X_test_pca.iloc[:, :-1])\n",
    "y_test_s = sc_y.transform(y_test)"
   ]
  },
  {
   "cell_type": "code",
   "execution_count": 59,
   "metadata": {
    "slideshow": {
     "slide_type": "skip"
    }
   },
   "outputs": [],
   "source": [
    "X_test_pca_s = pd.DataFrame(X_test_pca_s, index=X_test_pca.index,\n",
    "                            columns=[f'{col}_s' \n",
    "                                     for col in X_train_pca.iloc[:, :-1].columns])\n",
    "X_test_pca_s = X_test_pca_s.merge(X_test_pca[['coastal_idx']], how='outer',\n",
    "                                   right_index=True, left_index=True)\n",
    "\n",
    "y_test_s = pd.DataFrame(y_test_s, columns=y_test.columns,\n",
    "                        index=y_test.index)"
   ]
  },
  {
   "cell_type": "markdown",
   "metadata": {
    "slideshow": {
     "slide_type": "subslide"
    }
   },
   "source": [
    "### Before modeling: stash data sets and various transformer objects"
   ]
  },
  {
   "cell_type": "code",
   "execution_count": 64,
   "metadata": {
    "slideshow": {
     "slide_type": "fragment"
    }
   },
   "outputs": [],
   "source": [
    "train_dict = dict(X_rrs=X_train, \n",
    "                  X_pca=X_train_pca,\n",
    "                  X_pca_s=X_train_pca_s,\n",
    "                  y=y_train, \n",
    "                  y_s=y_train_s)"
   ]
  },
  {
   "cell_type": "code",
   "execution_count": 65,
   "metadata": {
    "slideshow": {
     "slide_type": "skip"
    }
   },
   "outputs": [],
   "source": [
    "test_dict = dict(X_rrs=X_test,\n",
    "                 X_pca=X_test_pca,\n",
    "                 X_pca_s=X_test_pca_s, \n",
    "                 y=y_test,\n",
    "                 y_s=y_test_s)"
   ]
  },
  {
   "cell_type": "code",
   "execution_count": 66,
   "metadata": {
    "slideshow": {
     "slide_type": "skip"
    }
   },
   "outputs": [],
   "source": [
    "transformers_dict = dict(X_pca_scaler=sc_X_pca,\n",
    "                         y_scaler=sc_y,\n",
    "                         pca_tranf=pca_transformer)"
   ]
  },
  {
   "cell_type": "code",
   "execution_count": 67,
   "metadata": {
    "slideshow": {
     "slide_type": "fragment"
    }
   },
   "outputs": [],
   "source": [
    "preprocess_dict = dict(raw_data=df,\n",
    "                       training=train_dict,\n",
    "                       testing=test_dict,\n",
    "                       transformers=transformers_dict)"
   ]
  },
  {
   "cell_type": "code",
   "execution_count": 68,
   "metadata": {
    "slideshow": {
     "slide_type": "fragment"
    }
   },
   "outputs": [],
   "source": [
    "with open('./preprocess_dicts.pkl', 'wb') as fb:\n",
    "    pickle.dump(preprocess_dict, fb, protocol=pickle.HIGHEST_PROTOCOL)"
   ]
  },
  {
   "cell_type": "code",
   "execution_count": 69,
   "metadata": {
    "slideshow": {
     "slide_type": "skip"
    }
   },
   "outputs": [
    {
     "name": "stdout",
     "output_type": "stream",
     "text": [
      "108.111kB\n"
     ]
    }
   ],
   "source": [
    "print(f\"{os.path.getsize('./preprocess_dicts.pkl')/1000}kB\")"
   ]
  },
  {
   "cell_type": "markdown",
   "metadata": {
    "slideshow": {
     "slide_type": "slide"
    }
   },
   "source": [
    "## 4. Models:\n",
    "\n",
    "* $OC_4$-like polynomial regression model\n",
    "* Hierarchical $OC_4$-like polynomial model \n",
    "* Multivariate regression model with Rrs data\n",
    "* Multivariate regression model with Rrs data and SST\n",
    "* Multivariate regression model with PC data \n",
    "* Multivariate regression model with PC data and SST"
   ]
  },
  {
   "cell_type": "code",
   "execution_count": 57,
   "metadata": {
    "slideshow": {
     "slide_type": "skip"
    }
   },
   "outputs": [
    {
     "data": {
      "text/html": [
       "<div>\n",
       "<style scoped>\n",
       "    .dataframe tbody tr th:only-of-type {\n",
       "        vertical-align: middle;\n",
       "    }\n",
       "\n",
       "    .dataframe tbody tr th {\n",
       "        vertical-align: top;\n",
       "    }\n",
       "\n",
       "    .dataframe thead th {\n",
       "        text-align: right;\n",
       "    }\n",
       "</style>\n",
       "<table border=\"1\" class=\"dataframe\">\n",
       "  <thead>\n",
       "    <tr style=\"text-align: right;\">\n",
       "      <th></th>\n",
       "      <th>PC1_s</th>\n",
       "      <th>PC2_s</th>\n",
       "      <th>PC3_s</th>\n",
       "      <th>PC4_s</th>\n",
       "      <th>PC5_s</th>\n",
       "      <th>PC6_s</th>\n",
       "      <th>oisst_s</th>\n",
       "      <th>coastal</th>\n",
       "    </tr>\n",
       "  </thead>\n",
       "  <tbody>\n",
       "    <tr>\n",
       "      <th>0</th>\n",
       "      <td>0.235672</td>\n",
       "      <td>0.809555</td>\n",
       "      <td>0.076862</td>\n",
       "      <td>0.205850</td>\n",
       "      <td>-0.977104</td>\n",
       "      <td>0.324827</td>\n",
       "      <td>-0.329025</td>\n",
       "      <td>0</td>\n",
       "    </tr>\n",
       "    <tr>\n",
       "      <th>1</th>\n",
       "      <td>-0.549944</td>\n",
       "      <td>0.013807</td>\n",
       "      <td>-0.242928</td>\n",
       "      <td>0.315448</td>\n",
       "      <td>0.746546</td>\n",
       "      <td>1.532314</td>\n",
       "      <td>-0.324089</td>\n",
       "      <td>0</td>\n",
       "    </tr>\n",
       "    <tr>\n",
       "      <th>2</th>\n",
       "      <td>-0.770027</td>\n",
       "      <td>-0.574232</td>\n",
       "      <td>-1.151153</td>\n",
       "      <td>1.039777</td>\n",
       "      <td>-0.446911</td>\n",
       "      <td>1.031471</td>\n",
       "      <td>0.515097</td>\n",
       "      <td>0</td>\n",
       "    </tr>\n",
       "    <tr>\n",
       "      <th>3</th>\n",
       "      <td>1.361573</td>\n",
       "      <td>2.004275</td>\n",
       "      <td>-0.647140</td>\n",
       "      <td>1.426060</td>\n",
       "      <td>-0.328707</td>\n",
       "      <td>0.799141</td>\n",
       "      <td>-0.712418</td>\n",
       "      <td>0</td>\n",
       "    </tr>\n",
       "    <tr>\n",
       "      <th>5</th>\n",
       "      <td>NaN</td>\n",
       "      <td>NaN</td>\n",
       "      <td>NaN</td>\n",
       "      <td>NaN</td>\n",
       "      <td>NaN</td>\n",
       "      <td>NaN</td>\n",
       "      <td>-0.761782</td>\n",
       "      <td>0</td>\n",
       "    </tr>\n",
       "  </tbody>\n",
       "</table>\n",
       "</div>"
      ],
      "text/plain": [
       "      PC1_s     PC2_s     PC3_s     PC4_s     PC5_s     PC6_s   oisst_s  \\\n",
       "0  0.235672  0.809555  0.076862  0.205850 -0.977104  0.324827 -0.329025   \n",
       "1 -0.549944  0.013807 -0.242928  0.315448  0.746546  1.532314 -0.324089   \n",
       "2 -0.770027 -0.574232 -1.151153  1.039777 -0.446911  1.031471  0.515097   \n",
       "3  1.361573  2.004275 -0.647140  1.426060 -0.328707  0.799141 -0.712418   \n",
       "5       NaN       NaN       NaN       NaN       NaN       NaN -0.761782   \n",
       "\n",
       "   coastal  \n",
       "0        0  \n",
       "1        0  \n",
       "2        0  \n",
       "3        0  \n",
       "5        0  "
      ]
     },
     "execution_count": 57,
     "metadata": {},
     "output_type": "execute_result"
    }
   ],
   "source": [
    "X_train_pca_s.head()"
   ]
  },
  {
   "cell_type": "code",
   "execution_count": 94,
   "metadata": {
    "slideshow": {
     "slide_type": "subslide"
    }
   },
   "outputs": [],
   "source": [
    "X_ = X_train_pca_s.filter(regex='PC', axis=1)\n",
    "\n",
    "with pm.Model() as m_pca:\n",
    "    α = pm.Normal('α', 0, 1) # prior on intercept\n",
    "    β = pm.Normal('β', 0, 5, shape=X_.columns.size) # prior on slopes\n",
    "    σ = pm.Exponential('σ', 1) # prior on likelihood variance\n",
    "    μ = α + pm.math.dot(X_.values, β) # likelihood's mean deterministic model\n",
    "    log_chl = pm.Normal('log_chl', mu=μ, sd=σ, observed=y_train.values) # likelihood"
   ]
  },
  {
   "cell_type": "code",
   "execution_count": 95,
   "metadata": {
    "slideshow": {
     "slide_type": "skip"
    }
   },
   "outputs": [],
   "source": [
    "m_pca_graph = pm.model_to_graphviz(m_pca)\n",
    "m_pca_graph.render(filename='m_pca_graph', directory='./resources/', format='png');"
   ]
  },
  {
   "cell_type": "markdown",
   "metadata": {
    "slideshow": {
     "slide_type": "fragment"
    }
   },
   "source": [
    "<center><img src='./resources/m_oc4_graph.png?:1' width=700 /></center>"
   ]
  },
  {
   "cell_type": "markdown",
   "metadata": {
    "slideshow": {
     "slide_type": "subslide"
    }
   },
   "source": [
    "### Prior Checks"
   ]
  },
  {
   "cell_type": "code",
   "execution_count": 172,
   "metadata": {
    "slideshow": {
     "slide_type": "skip"
    }
   },
   "outputs": [],
   "source": [
    "x_dummy = np.linspace(-1., 1., num=50).reshape(-1, 1)\n",
    "x_dummy = np.array([np.power(x_dummy, i) for i in range(1, 5)]).squeeze()"
   ]
  },
  {
   "cell_type": "code",
   "execution_count": 175,
   "metadata": {
    "slideshow": {
     "slide_type": "skip"
    }
   },
   "outputs": [],
   "source": [
    "priors = pm.sample_prior_predictive(model=m_pca, vars=['α', 'β', 'y_oc4'])\n",
    "β_prior = priors['β']\n",
    "α_prior = priors['α'].reshape(-1, 1)\n",
    "log_chl_prior = priors['log_chl']\n",
    "log_chl_lines = α_prior + np.dot(β_prior, x_dummy)"
   ]
  },
  {
   "cell_type": "code",
   "execution_count": 196,
   "metadata": {
    "slideshow": {
     "slide_type": "skip"
    }
   },
   "outputs": [
    {
     "data": {
      "image/png": "[encoded data removed]",
      "text/plain": [
       "<Figure size 864x288 with 3 Axes>"
      ]
     },
     "metadata": {
      "needs_background": "light"
     },
     "output_type": "display_data"
    }
   ],
   "source": [
    "f, ax = pl.subplots(ncols=2, figsize=(12, 4))\n",
    "for i in range(500):\n",
    "    ax[0].plot(x_dummy[0], oc4_lines[i], alpha=0.03, color='k')\n",
    "ax[0].set_ylim(-5, 5);\n",
    "ax[0]. set_xlabel(r'$ log_{10} \\left( \\frac{max(Rrs_{443}, Rrs_{490}, Rrs_{510})}{Rrs_{555}}\\right)$')\n",
    "ax[0].set_ylabel(r'$log_{10}(chl)$')\n",
    "ax[1].hist(priors['y_oc4'].flatten(), density=True, alpha=0.3, bins=100,\n",
    "           orientation='horizontal', label='prior');\n",
    "ax[1].set_ylim(-5, 5)\n",
    "ax[1].set_xticklabels([])\n",
    "ax[1].yaxis.tick_right()\n",
    "ax[1].legend()\n",
    "ax2 = ax[1].twiny()\n",
    "ax2.hist(y_train.values, color='k', density=True, alpha=0.5, bins=20,\n",
    "         orientation='horizontal', label='observed');\n",
    "ax2.set_xticklabels([])\n",
    "ax2.legend(loc='lower right')\n",
    "f.tight_layout()\n",
    "f.savefig('./resources/priors_predictive_oc4_wk_reg.png', dpi=300)"
   ]
  },
  {
   "cell_type": "code",
   "execution_count": 96,
   "metadata": {
    "slideshow": {
     "slide_type": "subslide"
    }
   },
   "outputs": [
    {
     "name": "stderr",
     "output_type": "stream",
     "text": [
      "Auto-assigning NUTS sampler...\n",
      "Initializing NUTS using jitter+adapt_diag...\n",
      "Multiprocess sampling (2 chains in 2 jobs)\n",
      "NUTS: [σ, β, α]\n",
      "Sampling 2 chains: 100%|██████████| 6000/6000 [03:15<00:00, 30.72draws/s]\n"
     ]
    }
   ],
   "source": [
    "with m_oc4:\n",
    "    trace_oc4 = pm.sample(2000, tune=1000)"
   ]
  },
  {
   "cell_type": "code",
   "execution_count": 198,
   "metadata": {},
   "outputs": [
    {
     "data": {
      "image/png": "[encoded data removed]",
      "text/plain": [
       "<Figure size 432x288 with 1 Axes>"
      ]
     },
     "metadata": {
      "needs_background": "light"
     },
     "output_type": "display_data"
    }
   ],
   "source": [
    "pm.forestplot(trace=trace_oc4, varnames=['α', 'β', 'σ'], rhat=False);"
   ]
  },
  {
   "cell_type": "code",
   "execution_count": null,
   "metadata": {},
   "outputs": [],
   "source": []
  }
 ],
 "metadata": {
  "celltoolbar": "Slideshow",
  "kernelspec": {
   "display_name": "Python 3",
   "language": "python",
   "name": "python3"
  },
  "language_info": {
   "codemirror_mode": {
    "name": "ipython",
    "version": 3
   },
   "file_extension": ".py",
   "mimetype": "text/x-python",
   "name": "python",
   "nbconvert_exporter": "python",
   "pygments_lexer": "ipython3",
   "version": "3.6.8"
  }
 },
 "nbformat": 4,
 "nbformat_minor": 2
}
