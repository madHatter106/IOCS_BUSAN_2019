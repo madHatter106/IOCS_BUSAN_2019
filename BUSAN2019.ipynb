{
 "cells": [
  {
   "cell_type": "markdown",
   "metadata": {
    "slideshow": {
     "slide_type": "slide"
    }
   },
   "source": [
    "## Probabilistic Programming Workflow\n",
    "\n",
    "### Open Source Tools For Rapid Statistical (Bayesian) Model Development"
   ]
  },
  {
   "cell_type": "markdown",
   "metadata": {
    "slideshow": {
     "slide_type": "slide"
    }
   },
   "source": [
    "### Overview\n",
    "* Catching up with Probabilistic Programming\n",
    "* Plan models -- causalgraphicalmodels\n",
    "* Loading Data -- PanDaS\n",
    "* Preparing Data -- PanDaS, Seaborn, Scikit-learn\n",
    "* Rapid Model Development -- PyMC3\n",
    "* Beyond the Basics"
   ]
  },
  {
   "cell_type": "markdown",
   "metadata": {
    "slideshow": {
     "slide_type": "slide"
    }
   },
   "source": [
    "<a id='TOP'></a>\n",
    "### Notebook Content:\n",
    "1. [PP Overview](#Overview)\n",
    "    1. PP as modeling framework\n",
    "    2. Emphasis on generalizing predictive models\n",
    "1. [Plan modeling](#ModelPlan)\n",
    "2. [Loading Field Data](#DataLoad)\n",
    "3. [Prepare Data for Modeling](#DataPrep)\n",
    "4. [Bayesian Modelling](#PyMC3)\n",
    "   1. [Model coding](#writemodel)\n",
    "   2. [Prior evaluation & Model modification](#priors)\n",
    "   3. [Model fitting & diagnostics](#fit)\n",
    "   4. [Model Evaluation](#eval)\n",
    "       1. [Deviance](#deviance)\n",
    "       2. [Approximation by WAIC](#waic)\n",
    "5. [Conclusion](Conclusion)"
   ]
  },
  {
   "cell_type": "code",
   "execution_count": 1,
   "metadata": {
    "slideshow": {
     "slide_type": "subslide"
    }
   },
   "outputs": [],
   "source": [
    "# STL\n",
    "import os\n",
    "import pickle\n",
    "import sys\n",
    "\n",
    "# numerical libraries\n",
    "import numpy as np\n",
    "import pandas as pd\n",
    "import pymc3 as pm\n",
    "from sklearn.decomposition import PCA\n",
    "from sklearn.model_selection import train_test_split\n",
    "from sklearn.preprocessing import StandardScaler\n",
    "\n",
    "# graphic facilities\n",
    "import matplotlib.pyplot as pl\n",
    "from matplotlib import rcParams\n",
    "import seaborn as sb"
   ]
  },
  {
   "cell_type": "code",
   "execution_count": 2,
   "metadata": {
    "slideshow": {
     "slide_type": "skip"
    }
   },
   "outputs": [],
   "source": [
    "# NOTEBOOK-WIDE Graphical settings\n",
    "rcParams['axes.formatter.limits'] = (-2, 3)\n",
    "rcParams['axes.titlesize'] = 18\n",
    "rcParams['axes.labelsize'] = 16\n",
    "rcParams['font.size'] = 16\n",
    "rcParams['ytick.labelsize'] = 16\n",
    "rcParams['xtick.labelsize'] = 16\n",
    "rcParams['legend.fontsize'] = 16\n",
    "rcParams['xtick.minor.visible'] = True"
   ]
  },
  {
   "cell_type": "code",
   "execution_count": 3,
   "metadata": {
    "slideshow": {
     "slide_type": "subslide"
    }
   },
   "outputs": [
    {
     "name": "stdout",
     "output_type": "stream",
     "text": [
      "Python: version 3.7.1 \n",
      "PanDaS version 0.24.1\n",
      "Seaborn version 0.9.0\n",
      "PyMC3 version 3.6\n"
     ]
    }
   ],
   "source": [
    "print(f'Python: version {sys.version.split(\"|\")[0]}')\n",
    "print(f'PanDaS version {pd.__version__}')\n",
    "print(f'Seaborn version {sb.__version__}')\n",
    "print(f'PyMC3 version {pm.__version__}')"
   ]
  },
  {
   "cell_type": "code",
   "execution_count": 4,
   "metadata": {
    "slideshow": {
     "slide_type": "skip"
    }
   },
   "outputs": [],
   "source": [
    "%matplotlib inline"
   ]
  },
  {
   "cell_type": "markdown",
   "metadata": {
    "slideshow": {
     "slide_type": "skip"
    }
   },
   "source": [
    "### Loading and preparing data -- PANDAS\n",
    "* the nomad dataset\n",
    "* reading in \n",
    "* get column names\n",
    "* extract desired variables\n",
    "\n",
    "### Data Exploration -- PANDAS, Seaborn and Scikit-Learn\n",
    "* predictor isolated distributions\n",
    "* plotting predictors/predicted w/ respect to each other\n",
    "* predictor correlation, multicollinearity and pca\n",
    "\n",
    "### Modeling -- Probabilistic Programming with PyMC3\n",
    "* simple bayesian regression to predict chlorophyll from Rrs\n",
    "* rapid but transparent model development\n",
    "* evaluation of priors\n",
    "* fitting and evaluation of posterior distribution\n",
    "* model comparison/selection"
   ]
  },
  {
   "cell_type": "markdown",
   "metadata": {
    "slideshow": {
     "slide_type": "slide"
    }
   },
   "source": [
    "<a id=DataLoad></a>\n",
    "## 2. \"<u>Loading Field Data</u>\n",
    "<br>\n",
    "<span style=\"font-size:16pt\">$\\ \\ \\ \\Rightarrow$ NOMAD SeaWiFS validation match-up distribution</span><br>\n",
    "<img src='./resources/nomad_seabass_v1_seawifs_map.png' width=600 title=\"NOMAD SeaWiFS validation match-up distribution\"/>"
   ]
  },
  {
   "cell_type": "markdown",
   "metadata": {
    "slideshow": {
     "slide_type": "subslide"
    }
   },
   "source": [
    "<span style=\"font-size:16pt\">$\\Rightarrow$   <u>Predictors</u></span>\n",
    "* sat_rrs  ~ satellite remote-sensing reflectance (sr-1)\n",
    "* etopo2 ~ NGDC ETOPO2 water depth (meters)\n",
    "* oisst    ~ optimal interpolation (OI) sea surface temperature (SST) (degrees C)\n",
    "* senz     ~ satellite viewing (zenith) angle (degrees)\n",
    "* solz     ~ solar zenith angle at time of satellite overpass (degrees)\n",
    "---\n",
    "<span style=\"font-size:16pt\">$\\Rightarrow$   <u>Predicted</u></span>\n",
    "* chl ~ fluorometric chlorophyll a"
   ]
  },
  {
   "cell_type": "markdown",
   "metadata": {
    "slideshow": {
     "slide_type": "skip"
    }
   },
   "source": [
    "<u>Other</u>\n",
    "* id ~ NOMAD record identifier (unitless)"
   ]
  },
  {
   "cell_type": "markdown",
   "metadata": {
    "slideshow": {
     "slide_type": "subslide"
    }
   },
   "source": [
    "<span style=\"font-size:16pt\">$\\Rightarrow$   <u>File content</u></span>\n",
    "<br><br>\n",
    "/fields=year,month,day,hour,minute,second,lat,lon,id,oisst,etopo2,chl,chl_a,kd405,kd411,kd443,kd<br>\n",
    "...<br>\n",
    "_rrs490,sat_rrs510,sat_rrs555,sat_rrs670,sat_file,tdiff,solz,senz,cv,valid<br>\n",
    "/units=-999<br>\n",
    "/end_header<br>\n",
    "1997,10,07,09,41,00,42.51,39.52,4065,19.54,1982,0.401,-999,-999,-999,-999,-999,-999,-999,-999,-999,-999,"
   ]
  },
  {
   "cell_type": "code",
   "execution_count": 5,
   "metadata": {
    "slideshow": {
     "slide_type": "subslide"
    }
   },
   "outputs": [],
   "source": [
    "with open('./nomad_seawifs_v1.3_2005262.txt') as f:\n",
    "    for i, line in enumerate(f.readlines()):\n",
    "        if 'fields' in line:\n",
    "            # collect column labels\n",
    "            col_names = line.strip('/fields=').strip().split(',') \n",
    "        if '/end_header' in line:\n",
    "            # record columns to skip\n",
    "            rowskips = i+1\n",
    "            break"
   ]
  },
  {
   "cell_type": "code",
   "execution_count": 6,
   "metadata": {
    "slideshow": {
     "slide_type": "subslide"
    }
   },
   "outputs": [],
   "source": [
    "df = pd.read_csv('./nomad_seawifs_v1.3_2005262.txt', header=None,\n",
    "                 names=col_names, skiprows=rowskips, na_values=-999)"
   ]
  },
  {
   "cell_type": "code",
   "execution_count": 7,
   "metadata": {
    "slideshow": {
     "slide_type": "fragment"
    }
   },
   "outputs": [
    {
     "name": "stdout",
     "output_type": "stream",
     "text": [
      "<class 'pandas.core.frame.DataFrame'>\n",
      "RangeIndex: 292 entries, 0 to 291\n",
      "Columns: 169 entries, year to valid\n",
      "dtypes: float64(157), int64(10), object(2)\n",
      "memory usage: 385.6+ KB\n"
     ]
    }
   ],
   "source": [
    "df.info()"
   ]
  },
  {
   "cell_type": "code",
   "execution_count": 8,
   "metadata": {
    "slideshow": {
     "slide_type": "subslide"
    }
   },
   "outputs": [
    {
     "data": {
      "text/html": [
       "<div>\n",
       "<style scoped>\n",
       "    .dataframe tbody tr th:only-of-type {\n",
       "        vertical-align: middle;\n",
       "    }\n",
       "\n",
       "    .dataframe tbody tr th {\n",
       "        vertical-align: top;\n",
       "    }\n",
       "\n",
       "    .dataframe thead th {\n",
       "        text-align: right;\n",
       "    }\n",
       "</style>\n",
       "<table border=\"1\" class=\"dataframe\">\n",
       "  <thead>\n",
       "    <tr style=\"text-align: right;\">\n",
       "      <th></th>\n",
       "      <th>year</th>\n",
       "      <th>month</th>\n",
       "      <th>day</th>\n",
       "      <th>hour</th>\n",
       "      <th>minute</th>\n",
       "      <th>second</th>\n",
       "      <th>lat</th>\n",
       "      <th>lon</th>\n",
       "      <th>id</th>\n",
       "      <th>oisst</th>\n",
       "      <th>...</th>\n",
       "      <th>sat_rrs490</th>\n",
       "      <th>sat_rrs510</th>\n",
       "      <th>sat_rrs555</th>\n",
       "      <th>sat_rrs670</th>\n",
       "      <th>sat_file</th>\n",
       "      <th>tdiff</th>\n",
       "      <th>solz</th>\n",
       "      <th>senz</th>\n",
       "      <th>cv</th>\n",
       "      <th>valid</th>\n",
       "    </tr>\n",
       "  </thead>\n",
       "  <tbody>\n",
       "    <tr>\n",
       "      <th>0</th>\n",
       "      <td>1997</td>\n",
       "      <td>10</td>\n",
       "      <td>7</td>\n",
       "      <td>9</td>\n",
       "      <td>41</td>\n",
       "      <td>0</td>\n",
       "      <td>42.51</td>\n",
       "      <td>39.52</td>\n",
       "      <td>4065</td>\n",
       "      <td>19.54</td>\n",
       "      <td>...</td>\n",
       "      <td>0.00345</td>\n",
       "      <td>0.00297</td>\n",
       "      <td>0.00217</td>\n",
       "      <td>0.00026</td>\n",
       "      <td>S1997280094210.L1A_GAC</td>\n",
       "      <td>480</td>\n",
       "      <td>49.0</td>\n",
       "      <td>25.4</td>\n",
       "      <td>0.2098</td>\n",
       "      <td>0</td>\n",
       "    </tr>\n",
       "    <tr>\n",
       "      <th>1</th>\n",
       "      <td>1997</td>\n",
       "      <td>10</td>\n",
       "      <td>11</td>\n",
       "      <td>9</td>\n",
       "      <td>32</td>\n",
       "      <td>0</td>\n",
       "      <td>39.29</td>\n",
       "      <td>25.11</td>\n",
       "      <td>4069</td>\n",
       "      <td>19.57</td>\n",
       "      <td>...</td>\n",
       "      <td>0.00494</td>\n",
       "      <td>0.00348</td>\n",
       "      <td>0.00191</td>\n",
       "      <td>0.00018</td>\n",
       "      <td>S1997284110315.L1A_MLAC</td>\n",
       "      <td>5880</td>\n",
       "      <td>48.7</td>\n",
       "      <td>37.8</td>\n",
       "      <td>0.1043</td>\n",
       "      <td>1</td>\n",
       "    </tr>\n",
       "  </tbody>\n",
       "</table>\n",
       "<p>2 rows × 169 columns</p>\n",
       "</div>"
      ],
      "text/plain": [
       "   year  month  day  hour  minute  second    lat    lon    id  oisst  ...  \\\n",
       "0  1997     10    7     9      41       0  42.51  39.52  4065  19.54  ...   \n",
       "1  1997     10   11     9      32       0  39.29  25.11  4069  19.57  ...   \n",
       "\n",
       "   sat_rrs490  sat_rrs510  sat_rrs555  sat_rrs670                 sat_file  \\\n",
       "0     0.00345     0.00297     0.00217     0.00026   S1997280094210.L1A_GAC   \n",
       "1     0.00494     0.00348     0.00191     0.00018  S1997284110315.L1A_MLAC   \n",
       "\n",
       "   tdiff  solz  senz      cv  valid  \n",
       "0    480  49.0  25.4  0.2098      0  \n",
       "1   5880  48.7  37.8  0.1043      1  \n",
       "\n",
       "[2 rows x 169 columns]"
      ]
     },
     "execution_count": 8,
     "metadata": {},
     "output_type": "execute_result"
    }
   ],
   "source": [
    "df.head(2)"
   ]
  },
  {
   "cell_type": "markdown",
   "metadata": {
    "slideshow": {
     "slide_type": "slide"
    }
   },
   "source": [
    "<a id=DataPrep></a>\n",
    "## 3. <u>Data Preparation</u>\n",
    "<br>"
   ]
  },
  {
   "cell_type": "code",
   "execution_count": 9,
   "metadata": {
    "slideshow": {
     "slide_type": "fragment"
    }
   },
   "outputs": [],
   "source": [
    "date_time_columns = ['year', 'month', 'day', 'hour', 'minute', 'second']\n",
    "df.insert(0, 'datetime', pd.to_datetime(df[date_time_columns],\n",
    "                                        format='%Y-%m-%d %H:%M:%S'))\n",
    "df.drop(date_time_columns, axis=1, inplace=True)"
   ]
  },
  {
   "cell_type": "code",
   "execution_count": 10,
   "metadata": {
    "slideshow": {
     "slide_type": "skip"
    }
   },
   "outputs": [
    {
     "name": "stdout",
     "output_type": "stream",
     "text": [
      "<class 'pandas.core.frame.DataFrame'>\n",
      "RangeIndex: 292 entries, 0 to 291\n",
      "Data columns (total 2 columns):\n",
      "chl      262 non-null float64\n",
      "chl_a    33 non-null float64\n",
      "dtypes: float64(2)\n",
      "memory usage: 4.6 KB\n"
     ]
    }
   ],
   "source": [
    "# two types of chlorophyll a:\n",
    "df.filter(regex='chl', axis=1).info()\n",
    "# chl: obtained by fluorometry\n",
    "# chl_a: obtained by hplc"
   ]
  },
  {
   "cell_type": "code",
   "execution_count": 11,
   "metadata": {},
   "outputs": [],
   "source": [
    "def fill_chl(row):\n",
    "    return row['chl_a'] if np.isfinite(row['chl_a']) else row['chl']"
   ]
  },
  {
   "cell_type": "code",
   "execution_count": 12,
   "metadata": {},
   "outputs": [],
   "source": [
    "df['chlor_a'] = df.apply(fill_chl, axis=1)"
   ]
  },
  {
   "cell_type": "code",
   "execution_count": 13,
   "metadata": {},
   "outputs": [],
   "source": [
    "df['is_hplc'] = np.isfinite(df.chl_a)"
   ]
  },
  {
   "cell_type": "code",
   "execution_count": 14,
   "metadata": {},
   "outputs": [
    {
     "name": "stdout",
     "output_type": "stream",
     "text": [
      "<class 'pandas.core.frame.DataFrame'>\n",
      "RangeIndex: 292 entries, 0 to 291\n",
      "Data columns (total 3 columns):\n",
      "chl        262 non-null float64\n",
      "chl_a      33 non-null float64\n",
      "chlor_a    292 non-null float64\n",
      "dtypes: float64(3)\n",
      "memory usage: 6.9 KB\n"
     ]
    }
   ],
   "source": [
    "df.filter(regex='chl', axis=1).info()"
   ]
  },
  {
   "cell_type": "code",
   "execution_count": 15,
   "metadata": {},
   "outputs": [
    {
     "data": {
      "text/html": [
       "<div>\n",
       "<style scoped>\n",
       "    .dataframe tbody tr th:only-of-type {\n",
       "        vertical-align: middle;\n",
       "    }\n",
       "\n",
       "    .dataframe tbody tr th {\n",
       "        vertical-align: top;\n",
       "    }\n",
       "\n",
       "    .dataframe thead th {\n",
       "        text-align: right;\n",
       "    }\n",
       "</style>\n",
       "<table border=\"1\" class=\"dataframe\">\n",
       "  <thead>\n",
       "    <tr style=\"text-align: right;\">\n",
       "      <th></th>\n",
       "      <th>chl</th>\n",
       "      <th>chl_a</th>\n",
       "      <th>chlor_a</th>\n",
       "    </tr>\n",
       "  </thead>\n",
       "  <tbody>\n",
       "    <tr>\n",
       "      <th>49</th>\n",
       "      <td>0.28200</td>\n",
       "      <td>0.222000</td>\n",
       "      <td>0.222000</td>\n",
       "    </tr>\n",
       "    <tr>\n",
       "      <th>52</th>\n",
       "      <td>3.67900</td>\n",
       "      <td>1.985000</td>\n",
       "      <td>1.985000</td>\n",
       "    </tr>\n",
       "    <tr>\n",
       "      <th>200</th>\n",
       "      <td>0.21639</td>\n",
       "      <td>0.274645</td>\n",
       "      <td>0.274645</td>\n",
       "    </tr>\n",
       "  </tbody>\n",
       "</table>\n",
       "</div>"
      ],
      "text/plain": [
       "         chl     chl_a   chlor_a\n",
       "49   0.28200  0.222000  0.222000\n",
       "52   3.67900  1.985000  1.985000\n",
       "200  0.21639  0.274645  0.274645"
      ]
     },
     "execution_count": 15,
     "metadata": {},
     "output_type": "execute_result"
    }
   ],
   "source": [
    "df.loc[((np.isfinite(df.chl)) & (np.isfinite(df.chl_a))),['chl', 'chl_a', 'chlor_a']]"
   ]
  },
  {
   "cell_type": "code",
   "execution_count": 16,
   "metadata": {
    "slideshow": {
     "slide_type": "skip"
    }
   },
   "outputs": [],
   "source": [
    "# Preprocess satellite data\n",
    "df_sat = df.filter(regex='sat_rrs', axis=1).copy()\n",
    "# Invalidate negative readings\n",
    "df_sat[df_sat<=0] = np.NaN\n",
    "# Log-transform rrs\n",
    "df_log_sat = pd.DataFrame(np.log10(df_sat.values),\n",
    "                          columns=[f'log_{col}' for col in df_sat.columns]\n",
    "                         )"
   ]
  },
  {
   "cell_type": "code",
   "execution_count": 17,
   "metadata": {},
   "outputs": [],
   "source": [
    "df.loc[df.etopo2<=0, 'etopo2'] = np.NaN"
   ]
  },
  {
   "cell_type": "code",
   "execution_count": 18,
   "metadata": {
    "slideshow": {
     "slide_type": "skip"
    }
   },
   "outputs": [],
   "source": [
    "# Preprocess \n",
    "df_extr = df[['oisst']].merge(df_log_sat,\n",
    "                                  right_index=True,\n",
    "                                  left_index=True)\n",
    "df_extr['coastal'] = df.etopo2<=30\n",
    "df_extr['coastal'] = df_extr.coastal.astype('category').cat.codes.astype('int')\n",
    "df_extr['log_chlor_a'] = np.log10(df.chlor_a.values)"
   ]
  },
  {
   "cell_type": "code",
   "execution_count": 19,
   "metadata": {
    "slideshow": {
     "slide_type": "subslide"
    }
   },
   "outputs": [
    {
     "name": "stdout",
     "output_type": "stream",
     "text": [
      "<class 'pandas.core.frame.DataFrame'>\n",
      "RangeIndex: 292 entries, 0 to 291\n",
      "Data columns (total 9 columns):\n",
      "oisst             292 non-null float64\n",
      "log_sat_rrs412    276 non-null float64\n",
      "log_sat_rrs443    285 non-null float64\n",
      "log_sat_rrs490    291 non-null float64\n",
      "log_sat_rrs510    292 non-null float64\n",
      "log_sat_rrs555    292 non-null float64\n",
      "log_sat_rrs670    281 non-null float64\n",
      "coastal           292 non-null int64\n",
      "log_chlor_a       292 non-null float64\n",
      "dtypes: float64(8), int64(1)\n",
      "memory usage: 20.6 KB\n"
     ]
    }
   ],
   "source": [
    "df_extr.info()"
   ]
  },
  {
   "cell_type": "markdown",
   "metadata": {
    "slideshow": {
     "slide_type": "subslide"
    }
   },
   "source": [
    "### Splitting data into training & testing sets"
   ]
  },
  {
   "cell_type": "code",
   "execution_count": 20,
   "metadata": {
    "slideshow": {
     "slide_type": "fragment"
    }
   },
   "outputs": [],
   "source": [
    "X = df_extr.loc[:, :'coastal']\n",
    "y = df_extr.loc[:, ['log_chlor_a']] # extra brackets to retain DataFrame type"
   ]
  },
  {
   "cell_type": "code",
   "execution_count": 21,
   "metadata": {
    "slideshow": {
     "slide_type": "fragment"
    }
   },
   "outputs": [],
   "source": [
    "from sklearn.model_selection import train_test_split\n",
    "X_train, X_test, y_train, y_test = train_test_split(X, y, test_size=0.25,\n",
    "                                                    stratify=X.coastal)"
   ]
  },
  {
   "cell_type": "code",
   "execution_count": 22,
   "metadata": {
    "slideshow": {
     "slide_type": "subslide"
    }
   },
   "outputs": [
    {
     "data": {
      "text/plain": [
       "0    67.808219\n",
       "1    32.191781\n",
       "Name: coastal, dtype: float64"
      ]
     },
     "execution_count": 22,
     "metadata": {},
     "output_type": "execute_result"
    }
   ],
   "source": [
    "X.coastal.value_counts(normalize=True)*100"
   ]
  },
  {
   "cell_type": "code",
   "execution_count": 23,
   "metadata": {
    "slideshow": {
     "slide_type": "fragment"
    }
   },
   "outputs": [
    {
     "data": {
      "text/plain": [
       "0    67.579909\n",
       "1    32.420091\n",
       "Name: coastal, dtype: float64"
      ]
     },
     "execution_count": 23,
     "metadata": {},
     "output_type": "execute_result"
    }
   ],
   "source": [
    "X_train.coastal.value_counts(normalize=True)*100"
   ]
  },
  {
   "cell_type": "code",
   "execution_count": 24,
   "metadata": {
    "slideshow": {
     "slide_type": "fragment"
    }
   },
   "outputs": [
    {
     "data": {
      "text/plain": [
       "0    68.493151\n",
       "1    31.506849\n",
       "Name: coastal, dtype: float64"
      ]
     },
     "execution_count": 24,
     "metadata": {},
     "output_type": "execute_result"
    }
   ],
   "source": [
    "X_test.coastal.value_counts(normalize=True)*100"
   ]
  },
  {
   "cell_type": "code",
   "execution_count": 25,
   "metadata": {
    "slideshow": {
     "slide_type": "skip"
    }
   },
   "outputs": [
    {
     "data": {
      "image/png": "[encoded data removed]",
      "text/plain": [
       "<Figure size 967.85x900 with 30 Axes>"
      ]
     },
     "metadata": {
      "needs_background": "light"
     },
     "output_type": "display_data"
    }
   ],
   "source": [
    "g = sb.pairplot(df_extr.iloc[X_train.index], hue='coastal', vars=['oisst', 'log_sat_rrs443',\n",
    "                                              'log_sat_rrs490', 'log_sat_rrs670',\n",
    "                                             'log_chlor_a'])\n",
    "# mask upper triangle for readability\n",
    "for i, j in zip(*np.triu_indices_from(g.axes, 1)):\n",
    "    g.axes[i, j].set_visible(False)\n",
    "#f = pl.gcf()\n",
    "g.savefig('./resources/pairgrid.png', dpi=300)"
   ]
  },
  {
   "cell_type": "markdown",
   "metadata": {
    "slideshow": {
     "slide_type": "subslide"
    }
   },
   "source": [
    "<img src='./resources/pairgrid.png?:2'/>"
   ]
  },
  {
   "cell_type": "code",
   "execution_count": 26,
   "metadata": {
    "slideshow": {
     "slide_type": "skip"
    }
   },
   "outputs": [],
   "source": [
    "def make_heatmap(input_, filter_=None, figsize=(6, 5)):\n",
    "    f, ax = pl.subplots(figsize=figsize)\n",
    "    ax.set_facecolor('k')\n",
    "    if filter_:\n",
    "        input_ = input_.filter(regex=filter_, axis=1)\n",
    "    corr_mat = input_.dropna().corr().iloc[1:, :-1]\n",
    "    sb.heatmap(corr_mat, ax=ax, vmin=-1, vmax=1, \n",
    "               mask=np.triu(np.ones(corr_mat.shape),k=1), cmap='RdBu', fmt='.2f',\n",
    "               annot=True)\n",
    "    return f"
   ]
  },
  {
   "cell_type": "code",
   "execution_count": 27,
   "metadata": {
    "slideshow": {
     "slide_type": "skip"
    }
   },
   "outputs": [
    {
     "data": {
      "image/png": "[encoded data removed]",
      "text/plain": [
       "<Figure size 432x360 with 2 Axes>"
      ]
     },
     "metadata": {
      "needs_background": "light"
     },
     "output_type": "display_data"
    }
   ],
   "source": [
    "f = make_heatmap(X_train, filter_='rrs')\n",
    "f.tight_layout()\n",
    "f.savefig('./resources/heatmap_train.png')"
   ]
  },
  {
   "cell_type": "code",
   "execution_count": 28,
   "metadata": {
    "slideshow": {
     "slide_type": "skip"
    }
   },
   "outputs": [
    {
     "data": {
      "image/png": "[encoded data removed]",
      "text/plain": [
       "<Figure size 432x360 with 2 Axes>"
      ]
     },
     "metadata": {
      "needs_background": "light"
     },
     "output_type": "display_data"
    }
   ],
   "source": [
    "f = make_heatmap(X_test, filter_='rrs')\n",
    "f.tight_layout()\n",
    "f.savefig('./resources/heatmap_test.png')"
   ]
  },
  {
   "cell_type": "markdown",
   "metadata": {
    "slideshow": {
     "slide_type": "subslide"
    }
   },
   "source": [
    "<img src='./resources/heatmap_train.png?:2'/>"
   ]
  },
  {
   "cell_type": "markdown",
   "metadata": {
    "slideshow": {
     "slide_type": "subslide"
    }
   },
   "source": [
    "### Computing Principle Components\n",
    "\n",
    "* parameterize PCA transformer using training set\n",
    "* compute principle components for training set\n",
    "* compute principle components for testing set with the same PCA transformer"
   ]
  },
  {
   "cell_type": "code",
   "execution_count": 29,
   "metadata": {
    "slideshow": {
     "slide_type": "subslide"
    }
   },
   "outputs": [],
   "source": [
    "# Isolate Rrs data in both training and test sets\n",
    "X_train_rrs = X_train.filter(regex='rrs', axis=1).dropna()\n",
    "X_test_rrs = X_test.filter(regex='rrs', axis=1).dropna()\n",
    "\n",
    "# Instantiate PCA transformers\n",
    "pca_transformer = PCA()"
   ]
  },
  {
   "cell_type": "code",
   "execution_count": 30,
   "metadata": {
    "slideshow": {
     "slide_type": "fragment"
    }
   },
   "outputs": [],
   "source": [
    "# parameterize transformer while rotating training data\n",
    "X_train_pca = pca_transformer.fit_transform(X=X_train_rrs)\n",
    "\n",
    "# apply same transformation to test set\n",
    "X_test_pca = pca_transformer.transform(X=X_test_rrs)"
   ]
  },
  {
   "cell_type": "code",
   "execution_count": 31,
   "metadata": {
    "slideshow": {
     "slide_type": "skip"
    }
   },
   "outputs": [],
   "source": [
    "X_train_pca = pd.DataFrame(X_train_pca,\n",
    "                           columns=[f'PC{i}' for i in range(1, X_train_pca.shape[1]+1)],\n",
    "                           index=X_train_rrs.index)\n",
    "X_test_pca =  pd.DataFrame(X_test_pca, \n",
    "                           columns=[f'PC{i}' for i in range(1, X_test_pca.shape[1]+1)],\n",
    "                           index=X_test_rrs.index)"
   ]
  },
  {
   "cell_type": "code",
   "execution_count": 32,
   "metadata": {},
   "outputs": [
    {
     "data": {
      "image/png": "[encoded data removed]",
      "text/plain": [
       "<Figure size 648x576 with 2 Axes>"
      ]
     },
     "metadata": {
      "needs_background": "light"
     },
     "output_type": "display_data"
    }
   ],
   "source": [
    "rrs_pc = X_train_rrs.merge(X_train_pca, how='outer',\n",
    "                                left_index=True, right_index=True)\n",
    "f = make_heatmap(rrs_pc, figsize=(9, 8))\n",
    "f.tight_layout()\n",
    "f.savefig('./resources/heatmap_x_train_pca.png', dpi=300)"
   ]
  },
  {
   "cell_type": "markdown",
   "metadata": {},
   "source": [
    "<img src='./resources/heatmap_x_train_pca.png?:3'/>"
   ]
  },
  {
   "cell_type": "code",
   "execution_count": 33,
   "metadata": {
    "slideshow": {
     "slide_type": "skip"
    }
   },
   "outputs": [],
   "source": [
    "X_train_pca = X_train_pca.merge(X_train[['oisst', 'coastal']], how='outer',\n",
    "                               right_index=True, left_index=True)\n",
    "X_test_pca = X_test_pca.merge(X_test[['oisst', 'coastal']], how='outer',\n",
    "                             right_index=True, left_index=True)"
   ]
  },
  {
   "cell_type": "code",
   "execution_count": 34,
   "metadata": {
    "slideshow": {
     "slide_type": "skip"
    }
   },
   "outputs": [
    {
     "name": "stdout",
     "output_type": "stream",
     "text": [
      "<class 'pandas.core.frame.DataFrame'>\n",
      "Int64Index: 219 entries, 4 to 291\n",
      "Data columns (total 8 columns):\n",
      "PC1        201 non-null float64\n",
      "PC2        201 non-null float64\n",
      "PC3        201 non-null float64\n",
      "PC4        201 non-null float64\n",
      "PC5        201 non-null float64\n",
      "PC6        201 non-null float64\n",
      "oisst      219 non-null float64\n",
      "coastal    219 non-null int64\n",
      "dtypes: float64(7), int64(1)\n",
      "memory usage: 15.4 KB\n"
     ]
    }
   ],
   "source": [
    "X_train_pca.info()"
   ]
  },
  {
   "cell_type": "code",
   "execution_count": 35,
   "metadata": {
    "slideshow": {
     "slide_type": "skip"
    }
   },
   "outputs": [
    {
     "name": "stdout",
     "output_type": "stream",
     "text": [
      "<class 'pandas.core.frame.DataFrame'>\n",
      "Int64Index: 219 entries, 153 to 81\n",
      "Data columns (total 8 columns):\n",
      "oisst             219 non-null float64\n",
      "log_sat_rrs412    205 non-null float64\n",
      "log_sat_rrs443    212 non-null float64\n",
      "log_sat_rrs490    218 non-null float64\n",
      "log_sat_rrs510    219 non-null float64\n",
      "log_sat_rrs555    219 non-null float64\n",
      "log_sat_rrs670    211 non-null float64\n",
      "coastal           219 non-null int64\n",
      "dtypes: float64(7), int64(1)\n",
      "memory usage: 25.4 KB\n"
     ]
    }
   ],
   "source": [
    "X_train.info()"
   ]
  },
  {
   "cell_type": "markdown",
   "metadata": {
    "slideshow": {
     "slide_type": "subslide"
    }
   },
   "source": [
    "### Standardize data:"
   ]
  },
  {
   "cell_type": "code",
   "execution_count": 36,
   "metadata": {
    "slideshow": {
     "slide_type": "subslide"
    }
   },
   "outputs": [],
   "source": [
    "# Instantiate scalers\n",
    "\n",
    "sc_X_rrs = StandardScaler()\n",
    "sc_X_pca = StandardScaler()\n",
    "sc_y = StandardScaler()"
   ]
  },
  {
   "cell_type": "code",
   "execution_count": 37,
   "metadata": {
    "slideshow": {
     "slide_type": "skip"
    }
   },
   "outputs": [
    {
     "name": "stdout",
     "output_type": "stream",
     "text": [
      "<class 'pandas.core.frame.DataFrame'>\n",
      "Int64Index: 219 entries, 153 to 81\n",
      "Data columns (total 8 columns):\n",
      "oisst             219 non-null float64\n",
      "log_sat_rrs412    205 non-null float64\n",
      "log_sat_rrs443    212 non-null float64\n",
      "log_sat_rrs490    218 non-null float64\n",
      "log_sat_rrs510    219 non-null float64\n",
      "log_sat_rrs555    219 non-null float64\n",
      "log_sat_rrs670    211 non-null float64\n",
      "coastal           219 non-null int64\n",
      "dtypes: float64(7), int64(1)\n",
      "memory usage: 25.4 KB\n"
     ]
    }
   ],
   "source": [
    "X_train.info()"
   ]
  },
  {
   "cell_type": "code",
   "execution_count": 38,
   "metadata": {
    "slideshow": {
     "slide_type": "skip"
    }
   },
   "outputs": [
    {
     "name": "stdout",
     "output_type": "stream",
     "text": [
      "<class 'pandas.core.frame.DataFrame'>\n",
      "Int64Index: 219 entries, 4 to 291\n",
      "Data columns (total 8 columns):\n",
      "PC1        201 non-null float64\n",
      "PC2        201 non-null float64\n",
      "PC3        201 non-null float64\n",
      "PC4        201 non-null float64\n",
      "PC5        201 non-null float64\n",
      "PC6        201 non-null float64\n",
      "oisst      219 non-null float64\n",
      "coastal    219 non-null int64\n",
      "dtypes: float64(7), int64(1)\n",
      "memory usage: 15.4 KB\n"
     ]
    }
   ],
   "source": [
    "X_train_pca.info()"
   ]
  },
  {
   "cell_type": "code",
   "execution_count": 39,
   "metadata": {
    "slideshow": {
     "slide_type": "subslide"
    }
   },
   "outputs": [],
   "source": [
    "# Parameterize scalers while standardizing training sets\n",
    "X_train_s = sc_X_rrs.fit_transform(X_train.iloc[:, :-1])\n",
    "X_train_pca_s = sc_X_pca.fit_transform(X_train_pca.iloc[:, :-1])\n",
    "y_train_s = sc_y.fit_transform(y_train)"
   ]
  },
  {
   "cell_type": "code",
   "execution_count": 40,
   "metadata": {
    "slideshow": {
     "slide_type": "skip"
    }
   },
   "outputs": [],
   "source": [
    "X_train_s = pd.DataFrame(X_train_s, index=X_train.index,\n",
    "                         columns=[f'{col}_s' for col in X_train.iloc[:, :-1].columns])\n",
    "X_train_s = X_train_s.merge(X_train[['coastal']], how='outer',\n",
    "                            right_index=True, left_index=True)\n",
    "X_train_pca_s = pd.DataFrame(X_train_pca_s, index=X_train_pca.index,\n",
    "                            columns=[f'{col}_s' \n",
    "                                     for col in X_train_pca.iloc[:, :-1].columns])\n",
    "X_train_pca_s = X_train_pca_s.merge(X_train_pca[['coastal']], how='outer',\n",
    "                                   right_index=True, left_index=True)"
   ]
  },
  {
   "cell_type": "code",
   "execution_count": 41,
   "metadata": {
    "slideshow": {
     "slide_type": "skip"
    }
   },
   "outputs": [],
   "source": [
    "y_train_s = pd.DataFrame(y_train_s, columns=y_train.columns, index=y_train.index)"
   ]
  },
  {
   "cell_type": "code",
   "execution_count": 42,
   "metadata": {
    "slideshow": {
     "slide_type": "skip"
    }
   },
   "outputs": [
    {
     "name": "stdout",
     "output_type": "stream",
     "text": [
      "<class 'pandas.core.frame.DataFrame'>\n",
      "Int64Index: 219 entries, 153 to 81\n",
      "Data columns (total 8 columns):\n",
      "oisst_s             219 non-null float64\n",
      "log_sat_rrs412_s    205 non-null float64\n",
      "log_sat_rrs443_s    212 non-null float64\n",
      "log_sat_rrs490_s    218 non-null float64\n",
      "log_sat_rrs510_s    219 non-null float64\n",
      "log_sat_rrs555_s    219 non-null float64\n",
      "log_sat_rrs670_s    211 non-null float64\n",
      "coastal             219 non-null int64\n",
      "dtypes: float64(7), int64(1)\n",
      "memory usage: 25.4 KB\n"
     ]
    }
   ],
   "source": [
    "X_train_s.info()"
   ]
  },
  {
   "cell_type": "code",
   "execution_count": 43,
   "metadata": {
    "slideshow": {
     "slide_type": "skip"
    }
   },
   "outputs": [
    {
     "name": "stdout",
     "output_type": "stream",
     "text": [
      "<class 'pandas.core.frame.DataFrame'>\n",
      "Int64Index: 219 entries, 4 to 291\n",
      "Data columns (total 8 columns):\n",
      "PC1_s      201 non-null float64\n",
      "PC2_s      201 non-null float64\n",
      "PC3_s      201 non-null float64\n",
      "PC4_s      201 non-null float64\n",
      "PC5_s      201 non-null float64\n",
      "PC6_s      201 non-null float64\n",
      "oisst_s    219 non-null float64\n",
      "coastal    219 non-null int64\n",
      "dtypes: float64(7), int64(1)\n",
      "memory usage: 25.4 KB\n"
     ]
    }
   ],
   "source": [
    "X_train_pca_s.info()"
   ]
  },
  {
   "cell_type": "code",
   "execution_count": 44,
   "metadata": {
    "slideshow": {
     "slide_type": "skip"
    }
   },
   "outputs": [
    {
     "name": "stdout",
     "output_type": "stream",
     "text": [
      "<class 'pandas.core.frame.DataFrame'>\n",
      "Int64Index: 73 entries, 224 to 183\n",
      "Data columns (total 8 columns):\n",
      "oisst             73 non-null float64\n",
      "log_sat_rrs412    71 non-null float64\n",
      "log_sat_rrs443    73 non-null float64\n",
      "log_sat_rrs490    73 non-null float64\n",
      "log_sat_rrs510    73 non-null float64\n",
      "log_sat_rrs555    73 non-null float64\n",
      "log_sat_rrs670    70 non-null float64\n",
      "coastal           73 non-null int64\n",
      "dtypes: float64(7), int64(1)\n",
      "memory usage: 7.6 KB\n"
     ]
    }
   ],
   "source": [
    "X_test.info()"
   ]
  },
  {
   "cell_type": "code",
   "execution_count": 45,
   "metadata": {},
   "outputs": [
    {
     "name": "stdout",
     "output_type": "stream",
     "text": [
      "<class 'pandas.core.frame.DataFrame'>\n",
      "Int64Index: 73 entries, 0 to 286\n",
      "Data columns (total 8 columns):\n",
      "PC1        68 non-null float64\n",
      "PC2        68 non-null float64\n",
      "PC3        68 non-null float64\n",
      "PC4        68 non-null float64\n",
      "PC5        68 non-null float64\n",
      "PC6        68 non-null float64\n",
      "oisst      73 non-null float64\n",
      "coastal    73 non-null int64\n",
      "dtypes: float64(7), int64(1)\n",
      "memory usage: 5.1 KB\n"
     ]
    }
   ],
   "source": [
    "X_test_pca.info()"
   ]
  },
  {
   "cell_type": "code",
   "execution_count": 46,
   "metadata": {
    "slideshow": {
     "slide_type": "subslide"
    }
   },
   "outputs": [],
   "source": [
    "# Standardize test sets with parameterized scalers\n",
    "X_test_s = sc_X_rrs.transform(X_test.iloc[:, :-1])\n",
    "X_test_pca_s = sc_X_pca.transform(X_test_pca.iloc[:, :-1])\n",
    "y_test_s = sc_y.transform(y_test)"
   ]
  },
  {
   "cell_type": "code",
   "execution_count": 47,
   "metadata": {},
   "outputs": [],
   "source": [
    "X_test_s = pd.DataFrame(X_test_s, index=X_test.index,\n",
    "                         columns=[f'{col}_s' for col in X_test.iloc[:, :-1].columns])\n",
    "\n",
    "X_test_s = X_test_s.merge(X_test[['coastal']], how='outer',\n",
    "                            right_index=True, left_index=True)\n",
    "X_test_pca_s = pd.DataFrame(X_test_pca_s, index=X_test_pca.index,\n",
    "                            columns=[f'{col}_s' \n",
    "                                     for col in X_train_pca.iloc[:, :-1].columns])\n",
    "X_test_pca_s = X_test_pca_s.merge(X_test_pca[['coastal']], how='outer',\n",
    "                                   right_index=True, left_index=True)"
   ]
  },
  {
   "cell_type": "code",
   "execution_count": 49,
   "metadata": {
    "slideshow": {
     "slide_type": "skip"
    }
   },
   "outputs": [],
   "source": [
    "y_test_s = pd.DataFrame(y_test_s, columns=y_test.columns, index=y_test.index)"
   ]
  },
  {
   "cell_type": "markdown",
   "metadata": {},
   "source": [
    "Modify X_train and X_test to make an OC4 compatible dataset"
   ]
  },
  {
   "cell_type": "code",
   "execution_count": 71,
   "metadata": {},
   "outputs": [],
   "source": [
    "X_train = X_train.copy()\n",
    "X_test = X_test.copy()\n",
    "blue_band_cols = ['log_sat_rrs443', 'log_sat_rrs490', 'log_sat_rrs510']\n",
    "X_train['MaxBlue'] = X_train[blue_band_cols].max(axis=1)\n",
    "X_test['MaxBlue'] = X_test[blue_band_cols].max(axis=1)\n",
    "X_train['MaxBlueId'] = X_train[blue_band_cols].idxmax(axis=1).astype('category').cat.codes\n",
    "X_test['MaxBlueId'] = X_test[blue_band_cols].idxmax(axis=1).astype('category').cat.codes\n",
    "X_train['MaxBlue2Gr'] = X_train.MaxBlue - X_train.log_sat_rrs555\n",
    "X_test['MaxBlue2Gr'] = X_test.MaxBlue - X_test.log_sat_rrs555"
   ]
  },
  {
   "cell_type": "code",
   "execution_count": 72,
   "metadata": {},
   "outputs": [
    {
     "data": {
      "text/html": [
       "<div>\n",
       "<style scoped>\n",
       "    .dataframe tbody tr th:only-of-type {\n",
       "        vertical-align: middle;\n",
       "    }\n",
       "\n",
       "    .dataframe tbody tr th {\n",
       "        vertical-align: top;\n",
       "    }\n",
       "\n",
       "    .dataframe thead th {\n",
       "        text-align: right;\n",
       "    }\n",
       "</style>\n",
       "<table border=\"1\" class=\"dataframe\">\n",
       "  <thead>\n",
       "    <tr style=\"text-align: right;\">\n",
       "      <th></th>\n",
       "      <th>oisst</th>\n",
       "      <th>log_sat_rrs412</th>\n",
       "      <th>log_sat_rrs443</th>\n",
       "      <th>log_sat_rrs490</th>\n",
       "      <th>log_sat_rrs510</th>\n",
       "      <th>log_sat_rrs555</th>\n",
       "      <th>log_sat_rrs670</th>\n",
       "      <th>coastal</th>\n",
       "      <th>MaxBlue</th>\n",
       "      <th>MaxBlueId</th>\n",
       "      <th>MaxBlue2Gr</th>\n",
       "    </tr>\n",
       "  </thead>\n",
       "  <tbody>\n",
       "    <tr>\n",
       "      <th>153</th>\n",
       "      <td>29.78</td>\n",
       "      <td>-2.366532</td>\n",
       "      <td>-2.324222</td>\n",
       "      <td>-2.25649</td>\n",
       "      <td>-2.319664</td>\n",
       "      <td>-2.422508</td>\n",
       "      <td>-3.292430</td>\n",
       "      <td>1</td>\n",
       "      <td>-2.25649</td>\n",
       "      <td>1</td>\n",
       "      <td>0.166018</td>\n",
       "    </tr>\n",
       "    <tr>\n",
       "      <th>117</th>\n",
       "      <td>20.39</td>\n",
       "      <td>-2.191789</td>\n",
       "      <td>-2.071092</td>\n",
       "      <td>-1.94424</td>\n",
       "      <td>-2.015023</td>\n",
       "      <td>-2.176526</td>\n",
       "      <td>-3.221849</td>\n",
       "      <td>1</td>\n",
       "      <td>-1.94424</td>\n",
       "      <td>1</td>\n",
       "      <td>0.232286</td>\n",
       "    </tr>\n",
       "  </tbody>\n",
       "</table>\n",
       "</div>"
      ],
      "text/plain": [
       "     oisst  log_sat_rrs412  log_sat_rrs443  log_sat_rrs490  log_sat_rrs510  \\\n",
       "153  29.78       -2.366532       -2.324222        -2.25649       -2.319664   \n",
       "117  20.39       -2.191789       -2.071092        -1.94424       -2.015023   \n",
       "\n",
       "     log_sat_rrs555  log_sat_rrs670  coastal  MaxBlue  MaxBlueId  MaxBlue2Gr  \n",
       "153       -2.422508       -3.292430        1 -2.25649          1    0.166018  \n",
       "117       -2.176526       -3.221849        1 -1.94424          1    0.232286  "
      ]
     },
     "execution_count": 72,
     "metadata": {},
     "output_type": "execute_result"
    }
   ],
   "source": [
    "X_train.head(2)"
   ]
  },
  {
   "cell_type": "markdown",
   "metadata": {
    "slideshow": {
     "slide_type": "subslide"
    }
   },
   "source": [
    "### Before modeling: stash data sets and various transformer objects"
   ]
  },
  {
   "cell_type": "code",
   "execution_count": 73,
   "metadata": {
    "slideshow": {
     "slide_type": "fragment"
    }
   },
   "outputs": [],
   "source": [
    "train_dict = dict(X_rrs=X_train, X_rrs_s=X_train_s,\n",
    "                  X_pca=X_train_pca, X_pca_s=X_train_pca_s,\n",
    "                  y=y_train, y_s=y_train_s)"
   ]
  },
  {
   "cell_type": "code",
   "execution_count": 74,
   "metadata": {
    "slideshow": {
     "slide_type": "skip"
    }
   },
   "outputs": [],
   "source": [
    "test_dict = dict(X_rrs=X_test, X_rrs_s=X_test_s,\n",
    "                 X_pca=X_test_pca, X_pca_s=X_test_pca_s, \n",
    "                 y=y_test, y_s=y_test_s)"
   ]
  },
  {
   "cell_type": "code",
   "execution_count": 75,
   "metadata": {
    "slideshow": {
     "slide_type": "skip"
    }
   },
   "outputs": [],
   "source": [
    "transformers_dict = dict(X_rrs_scaler=sc_X_rrs, X_pca_scaler=sc_X_pca, y_scaler=sc_y,\n",
    "                         pca_tranf=pca_transformer)"
   ]
  },
  {
   "cell_type": "code",
   "execution_count": 76,
   "metadata": {
    "slideshow": {
     "slide_type": "fragment"
    }
   },
   "outputs": [],
   "source": [
    "preprocess_dict = dict(training=train_dict, testing=test_dict,\n",
    "                       transformers=transformers_dict)"
   ]
  },
  {
   "cell_type": "code",
   "execution_count": 77,
   "metadata": {
    "slideshow": {
     "slide_type": "fragment"
    }
   },
   "outputs": [],
   "source": [
    "with open('./preprocess_dicts.pkl', 'wb') as fb:\n",
    "    pickle.dump(preprocess_dict, fb, protocol=pickle.HIGHEST_PROTOCOL)"
   ]
  },
  {
   "cell_type": "code",
   "execution_count": 78,
   "metadata": {
    "slideshow": {
     "slide_type": "slide"
    }
   },
   "outputs": [
    {
     "name": "stdout",
     "output_type": "stream",
     "text": [
      "101.708kB\n"
     ]
    }
   ],
   "source": [
    "print(f\"{os.path.getsize('./preprocess_dicts.pkl')/1000}kB\")"
   ]
  },
  {
   "cell_type": "markdown",
   "metadata": {
    "slideshow": {
     "slide_type": "slide"
    }
   },
   "source": [
    "## 4. Models:\n",
    "\n",
    "* Polynomial model a la $OC_4$\n",
    "* Multivariate model with Rrs data\n",
    "* Multivariate model with Rrs data and SST\n",
    "* Multivariate model with PC data \n",
    "* Multivariate model with PC data and SST"
   ]
  },
  {
   "cell_type": "code",
   "execution_count": 60,
   "metadata": {},
   "outputs": [
    {
     "data": {
      "text/html": [
       "<div>\n",
       "<style scoped>\n",
       "    .dataframe tbody tr th:only-of-type {\n",
       "        vertical-align: middle;\n",
       "    }\n",
       "\n",
       "    .dataframe tbody tr th {\n",
       "        vertical-align: top;\n",
       "    }\n",
       "\n",
       "    .dataframe thead th {\n",
       "        text-align: right;\n",
       "    }\n",
       "</style>\n",
       "<table border=\"1\" class=\"dataframe\">\n",
       "  <thead>\n",
       "    <tr style=\"text-align: right;\">\n",
       "      <th></th>\n",
       "      <th>PC1</th>\n",
       "      <th>PC2</th>\n",
       "      <th>PC3</th>\n",
       "      <th>PC4</th>\n",
       "      <th>PC5</th>\n",
       "      <th>PC6</th>\n",
       "      <th>oisst</th>\n",
       "      <th>coastal</th>\n",
       "    </tr>\n",
       "  </thead>\n",
       "  <tbody>\n",
       "    <tr>\n",
       "      <th>0</th>\n",
       "      <td>0.178337</td>\n",
       "      <td>0.347346</td>\n",
       "      <td>0.014426</td>\n",
       "      <td>0.005602</td>\n",
       "      <td>-0.020029</td>\n",
       "      <td>0.003312</td>\n",
       "      <td>19.54</td>\n",
       "      <td>0</td>\n",
       "    </tr>\n",
       "    <tr>\n",
       "      <th>1</th>\n",
       "      <td>-0.283880</td>\n",
       "      <td>0.061130</td>\n",
       "      <td>-0.030231</td>\n",
       "      <td>0.016749</td>\n",
       "      <td>0.015289</td>\n",
       "      <td>0.019246</td>\n",
       "      <td>19.57</td>\n",
       "      <td>0</td>\n",
       "    </tr>\n",
       "    <tr>\n",
       "      <th>2</th>\n",
       "      <td>-0.441037</td>\n",
       "      <td>-0.176296</td>\n",
       "      <td>-0.173152</td>\n",
       "      <td>0.054049</td>\n",
       "      <td>-0.007605</td>\n",
       "      <td>0.012586</td>\n",
       "      <td>24.67</td>\n",
       "      <td>0</td>\n",
       "    </tr>\n",
       "    <tr>\n",
       "      <th>3</th>\n",
       "      <td>0.840595</td>\n",
       "      <td>0.786076</td>\n",
       "      <td>-0.104212</td>\n",
       "      <td>0.055694</td>\n",
       "      <td>-0.008955</td>\n",
       "      <td>0.009622</td>\n",
       "      <td>17.21</td>\n",
       "      <td>0</td>\n",
       "    </tr>\n",
       "    <tr>\n",
       "      <th>8</th>\n",
       "      <td>-0.054809</td>\n",
       "      <td>0.118185</td>\n",
       "      <td>-0.161581</td>\n",
       "      <td>0.036608</td>\n",
       "      <td>-0.006798</td>\n",
       "      <td>-0.010470</td>\n",
       "      <td>26.60</td>\n",
       "      <td>0</td>\n",
       "    </tr>\n",
       "  </tbody>\n",
       "</table>\n",
       "</div>"
      ],
      "text/plain": [
       "        PC1       PC2       PC3       PC4       PC5       PC6  oisst  coastal\n",
       "0  0.178337  0.347346  0.014426  0.005602 -0.020029  0.003312  19.54        0\n",
       "1 -0.283880  0.061130 -0.030231  0.016749  0.015289  0.019246  19.57        0\n",
       "2 -0.441037 -0.176296 -0.173152  0.054049 -0.007605  0.012586  24.67        0\n",
       "3  0.840595  0.786076 -0.104212  0.055694 -0.008955  0.009622  17.21        0\n",
       "8 -0.054809  0.118185 -0.161581  0.036608 -0.006798 -0.010470  26.60        0"
      ]
     },
     "execution_count": 60,
     "metadata": {},
     "output_type": "execute_result"
    }
   ],
   "source": [
    "X_train_pca_s.head()"
   ]
  },
  {
   "cell_type": "code",
   "execution_count": null,
   "metadata": {},
   "outputs": [],
   "source": []
  }
 ],
 "metadata": {
  "celltoolbar": "Slideshow",
  "kernelspec": {
   "display_name": "Python [conda env:busan_2019] *",
   "language": "python",
   "name": "conda-env-busan_2019-py"
  },
  "language_info": {
   "codemirror_mode": {
    "name": "ipython",
    "version": 3
   },
   "file_extension": ".py",
   "mimetype": "text/x-python",
   "name": "python",
   "nbconvert_exporter": "python",
   "pygments_lexer": "ipython3",
   "version": "3.7.1"
  }
 },
 "nbformat": 4,
 "nbformat_minor": 2
}
