{
 "cells": [
  {
   "cell_type": "markdown",
   "metadata": {
    "slideshow": {
     "slide_type": "slide"
    }
   },
   "source": [
    "## <center>Probabilistic Programming Workflow</center>\n",
    "\n",
    "### <center>Open Source Tools for Rapid Reproducible Bayesian Model Development</center>"
   ]
  },
  {
   "cell_type": "markdown",
   "metadata": {
    "slideshow": {
     "slide_type": "slide"
    }
   },
   "source": [
    "<a id='TOP'></a>\n",
    "### Notebook Content:\n",
    "1. [Overview](#Overview)\n",
    "    1. [Ensuring Reproducibility](#Reprod)\n",
    "    2. [PP as modeling framework](#PPOverview)\n",
    "2. [Loading Field Data](#DataLoad)\n",
    "3. [Pre-Processing](#DataPrep)\n",
    "   1. [Data Cleaning](#cleaning)\n",
    "   2. [Exogenous Feature Extraction](#exo)\n",
    "       1. [Dealing with time data](#datetime)\n",
    "       2. [Consolidating fluo/hplc chl](#fluo/hplc)\n",
    "       2. [Log-transform](#log)\n",
    "       3. [Green-to-max(Blue) ratio](#green2blue)\n",
    "       4. [Sub-grouping](#sub)\n",
    "   4. [Data Splitting into Train/Test Sets](#split)\n",
    "   5. [Endogenous Data Transformation](#endo)\n",
    "       1. [Scaling Data](#scale)\n",
    "   6. [Preserving the preprocessing pipeline](#picklepreprocess)\n",
    "4. [Bayesian Modelling](#PyMC3)\n",
    "   1. [Model coding](#writemodel)\n",
    "   2. [Prior evaluation & Model modification](#priors)\n",
    "   3. [Model fitting & diagnostics](#fit)\n",
    "   4. [Model evaluation](#eval)\n",
    "       1. [Deviance](#deviance)\n",
    "       2. [Approximation by WAIC](#waic)\n",
    "5. [Conclusion](Conclusion)"
   ]
  },
  {
   "cell_type": "markdown",
   "metadata": {
    "slideshow": {
     "slide_type": "skip"
    }
   },
   "source": [
    "[Back to Contents](#TOP)"
   ]
  },
  {
   "cell_type": "markdown",
   "metadata": {
    "slideshow": {
     "slide_type": "slide"
    }
   },
   "source": [
    "## 1. <u>Overview</u>\n",
    "* Catching up with Probabilistic Programming\n",
    "* Loading Data -- PanDaS\n",
    "* Preparing Data -- PanDaS, Seaborn, Scikit-learn\n",
    "* Rapid Model Development -- PyMC3\n",
    "* Beyond the Basics"
   ]
  },
  {
   "cell_type": "code",
   "execution_count": 1,
   "metadata": {
    "slideshow": {
     "slide_type": "subslide"
    }
   },
   "outputs": [],
   "source": [
    "# STL\n",
    "import os\n",
    "import pickle\n",
    "import sys\n",
    "\n",
    "# numerical libraries\n",
    "import numpy as np\n",
    "import pandas as pd\n",
    "import pymc3 as pm\n",
    "from sklearn.model_selection import train_test_split\n",
    "from sklearn.preprocessing import StandardScaler\n",
    "from sklearn import __version__ as skver\n",
    "\n",
    "\n",
    "# graphic facilities\n",
    "import matplotlib.pyplot as pl\n",
    "from matplotlib import rcParams\n",
    "from matplotlib import __version__ as mpver\n",
    "import seaborn as sb"
   ]
  },
  {
   "cell_type": "code",
   "execution_count": 2,
   "metadata": {
    "slideshow": {
     "slide_type": "skip"
    }
   },
   "outputs": [],
   "source": [
    "# NOTEBOOK-WIDE Graphical settings\n",
    "rcParams['axes.formatter.limits'] = (-2, 3)\n",
    "rcParams['axes.titlesize'] = 18\n",
    "rcParams['axes.labelsize'] = 16\n",
    "rcParams['font.size'] = 16\n",
    "rcParams['ytick.labelsize'] = 16\n",
    "rcParams['xtick.labelsize'] = 16\n",
    "rcParams['legend.fontsize'] = 16\n",
    "rcParams['xtick.minor.visible'] = True"
   ]
  },
  {
   "cell_type": "code",
   "execution_count": 3,
   "metadata": {
    "slideshow": {
     "slide_type": "subslide"
    }
   },
   "outputs": [
    {
     "name": "stdout",
     "output_type": "stream",
     "text": [
      "Matplotlib version..: 3.0.3\n",
      "Python version......: 3.7.1 \n",
      "PanDaS version......: 0.24.1\n",
      "Scikit-Learn version: 0.20.3\n",
      "Seaborn version.....: 0.9.0\n",
      "PyMC3 version.......: 3.6\n"
     ]
    }
   ],
   "source": [
    "print(f'Matplotlib version..: {mpver}')\n",
    "print(f'Python version......: {sys.version.split(\"|\")[0]}')\n",
    "print(f'PanDaS version......: {pd.__version__}')\n",
    "print(f'Scikit-Learn version: {skver}')\n",
    "print(f'Seaborn version.....: {sb.__version__}')\n",
    "print(f'PyMC3 version.......: {pm.__version__}')"
   ]
  },
  {
   "cell_type": "code",
   "execution_count": 4,
   "metadata": {
    "slideshow": {
     "slide_type": "skip"
    }
   },
   "outputs": [],
   "source": [
    "%matplotlib inline"
   ]
  },
  {
   "cell_type": "markdown",
   "metadata": {
    "slideshow": {
     "slide_type": "skip"
    }
   },
   "source": [
    "### Loading and preparing data -- PANDAS\n",
    "* the nomad dataset\n",
    "* reading in \n",
    "* get column names\n",
    "* extract desired variables\n",
    "\n",
    "### Data Exploration -- PANDAS, Seaborn and Scikit-Learn\n",
    "* predictor isolated distributions\n",
    "* plotting predictors/predicted w/ respect to each other\n",
    "* predictor correlation, multicollinearity and pca\n",
    "\n",
    "### Modeling -- Probabilistic Programming with PyMC3\n",
    "* simple bayesian regression to predict chlorophyll from Rrs\n",
    "* rapid but transparent model development\n",
    "* evaluation of priors\n",
    "* fitting and evaluation of posterior distribution\n",
    "* model comparison/selection"
   ]
  },
  {
   "cell_type": "markdown",
   "metadata": {
    "slideshow": {
     "slide_type": "skip"
    }
   },
   "source": [
    "[Back to Contents](#TOP)"
   ]
  },
  {
   "cell_type": "markdown",
   "metadata": {
    "slideshow": {
     "slide_type": "slide"
    }
   },
   "source": [
    "<a id=DataLoad></a>\n",
    "## 2. <u>Loading Field Data</u>\n",
    "<br>\n",
    "<span style=\"font-size:16pt\">$\\ \\ \\ \\Rightarrow$ NOMAD SeaWiFS validation match-up distribution</span><br>\n",
    "<center><img src='./resources/nomad_seabass_v1_seawifs_map.png?:2' width=900 title=\"NOMAD SeaWiFS validation match-up distribution\"/></center>"
   ]
  },
  {
   "cell_type": "markdown",
   "metadata": {
    "slideshow": {
     "slide_type": "subslide"
    }
   },
   "source": [
    "<span style=\"font-size:16pt\">$\\Rightarrow$   <u>Predictors</u></span>\n",
    "* sat_rrs  $\\rightarrow$ satellite remote-sensing reflectance (sr-1)\n",
    "* oisst    $\\ \\ \\rightarrow$ optimal interpolation sea surface temperature ($^\\circ$C)\n",
    "---\n",
    "<span style=\"font-size:16pt\">$\\Rightarrow$   <u>Predicted</u></span>\n",
    "* chl/chl_a $\\rightarrow$ chlorophyll a"
   ]
  },
  {
   "cell_type": "markdown",
   "metadata": {
    "slideshow": {
     "slide_type": "skip"
    }
   },
   "source": [
    "<u>Other</u>\n",
    "* id ~ NOMAD record identifier (unitless)"
   ]
  },
  {
   "cell_type": "markdown",
   "metadata": {
    "slideshow": {
     "slide_type": "subslide"
    }
   },
   "source": [
    "<span style=\"font-size:16pt\">$\\Rightarrow$   <u>File content</u></span>\n",
    "<br><br>\n",
    "/fields=year,month,day,hour,minute,second,lat,lon,id,oisst,etopo2,chl,chl_a,kd405,kd411,kd443,kd<br>\n",
    "...<br>\n",
    "_rrs490,sat_rrs510,sat_rrs555,sat_rrs670,sat_file,tdiff,solz,senz,cv,valid<br>\n",
    "/units=-999<br>\n",
    "/end_header<br>\n",
    "1997,10,07,09,41,00,42.51,39.52,4065,19.54,1982,0.401,-999,-999,-999,-999,-999,-999,-999,-999,-999,-999,..."
   ]
  },
  {
   "cell_type": "code",
   "execution_count": 8,
   "metadata": {
    "slideshow": {
     "slide_type": "subslide"
    }
   },
   "outputs": [],
   "source": [
    "with open('./nomad_seawifs_v1.3_2005262.txt') as f:\n",
    "    for i, line in enumerate(f.readlines()):\n",
    "        if 'fields' in line:\n",
    "            # collect column labels\n",
    "            col_names = line.strip('/fields=').strip().split(',') \n",
    "        if '/end_header' in line:\n",
    "            # record rows to skip\n",
    "            rowskips = i+1 # i is 0-indexed\n",
    "            break"
   ]
  },
  {
   "cell_type": "code",
   "execution_count": 9,
   "metadata": {
    "slideshow": {
     "slide_type": "subslide"
    }
   },
   "outputs": [],
   "source": [
    "df = pd.read_csv('./nomad_seawifs_v1.3_2005262.txt', header=None,\n",
    "                 names=col_names, skiprows=rowskips, na_values=-999)"
   ]
  },
  {
   "cell_type": "code",
   "execution_count": 10,
   "metadata": {
    "slideshow": {
     "slide_type": "fragment"
    }
   },
   "outputs": [
    {
     "name": "stdout",
     "output_type": "stream",
     "text": [
      "<class 'pandas.core.frame.DataFrame'>\n",
      "RangeIndex: 292 entries, 0 to 291\n",
      "Columns: 169 entries, year to valid\n",
      "dtypes: float64(157), int64(10), object(2)\n",
      "memory usage: 385.6+ KB\n"
     ]
    }
   ],
   "source": [
    "df.info()"
   ]
  },
  {
   "cell_type": "markdown",
   "metadata": {
    "slideshow": {
     "slide_type": "skip"
    }
   },
   "source": [
    "[Back to Contents](#TOP)"
   ]
  },
  {
   "cell_type": "markdown",
   "metadata": {
    "slideshow": {
     "slide_type": "slide"
    }
   },
   "source": [
    "<a id=DataPrep></a>\n",
    "## 3. <u>Pre-Processing</u>"
   ]
  },
  {
   "cell_type": "markdown",
   "metadata": {
    "slideshow": {
     "slide_type": "subslide"
    }
   },
   "source": [
    "<a id=cleaning></a>\n",
    "### A. Developing a Data Cleaning Plan\n",
    "\n",
    "* Don't drop bad data\n",
    "* Flag (NaN) and retain for optional imputation"
   ]
  },
  {
   "cell_type": "code",
   "execution_count": 11,
   "metadata": {
    "slideshow": {
     "slide_type": "subslide"
    }
   },
   "outputs": [
    {
     "data": {
      "text/html": [
       "<div>\n",
       "<style scoped>\n",
       "    .dataframe tbody tr th:only-of-type {\n",
       "        vertical-align: middle;\n",
       "    }\n",
       "\n",
       "    .dataframe tbody tr th {\n",
       "        vertical-align: top;\n",
       "    }\n",
       "\n",
       "    .dataframe thead th {\n",
       "        text-align: right;\n",
       "    }\n",
       "</style>\n",
       "<table border=\"1\" class=\"dataframe\">\n",
       "  <thead>\n",
       "    <tr style=\"text-align: right;\">\n",
       "      <th></th>\n",
       "      <th>year</th>\n",
       "      <th>month</th>\n",
       "      <th>day</th>\n",
       "      <th>hour</th>\n",
       "      <th>minute</th>\n",
       "      <th>second</th>\n",
       "      <th>lat</th>\n",
       "      <th>lon</th>\n",
       "      <th>id</th>\n",
       "      <th>oisst</th>\n",
       "      <th>...</th>\n",
       "      <th>sat_rrs490</th>\n",
       "      <th>sat_rrs510</th>\n",
       "      <th>sat_rrs555</th>\n",
       "      <th>sat_rrs670</th>\n",
       "      <th>sat_file</th>\n",
       "      <th>tdiff</th>\n",
       "      <th>solz</th>\n",
       "      <th>senz</th>\n",
       "      <th>cv</th>\n",
       "      <th>valid</th>\n",
       "    </tr>\n",
       "  </thead>\n",
       "  <tbody>\n",
       "    <tr>\n",
       "      <th>0</th>\n",
       "      <td>1997</td>\n",
       "      <td>10</td>\n",
       "      <td>7</td>\n",
       "      <td>9</td>\n",
       "      <td>41</td>\n",
       "      <td>0</td>\n",
       "      <td>42.51</td>\n",
       "      <td>39.52</td>\n",
       "      <td>4065</td>\n",
       "      <td>19.54</td>\n",
       "      <td>...</td>\n",
       "      <td>0.00345</td>\n",
       "      <td>0.00297</td>\n",
       "      <td>0.00217</td>\n",
       "      <td>0.00026</td>\n",
       "      <td>S1997280094210.L1A_GAC</td>\n",
       "      <td>480</td>\n",
       "      <td>49.0</td>\n",
       "      <td>25.4</td>\n",
       "      <td>0.2098</td>\n",
       "      <td>0</td>\n",
       "    </tr>\n",
       "    <tr>\n",
       "      <th>1</th>\n",
       "      <td>1997</td>\n",
       "      <td>10</td>\n",
       "      <td>11</td>\n",
       "      <td>9</td>\n",
       "      <td>32</td>\n",
       "      <td>0</td>\n",
       "      <td>39.29</td>\n",
       "      <td>25.11</td>\n",
       "      <td>4069</td>\n",
       "      <td>19.57</td>\n",
       "      <td>...</td>\n",
       "      <td>0.00494</td>\n",
       "      <td>0.00348</td>\n",
       "      <td>0.00191</td>\n",
       "      <td>0.00018</td>\n",
       "      <td>S1997284110315.L1A_MLAC</td>\n",
       "      <td>5880</td>\n",
       "      <td>48.7</td>\n",
       "      <td>37.8</td>\n",
       "      <td>0.1043</td>\n",
       "      <td>1</td>\n",
       "    </tr>\n",
       "  </tbody>\n",
       "</table>\n",
       "<p>2 rows × 169 columns</p>\n",
       "</div>"
      ],
      "text/plain": [
       "   year  month  day  hour  minute  second    lat    lon    id  oisst  ...  \\\n",
       "0  1997     10    7     9      41       0  42.51  39.52  4065  19.54  ...   \n",
       "1  1997     10   11     9      32       0  39.29  25.11  4069  19.57  ...   \n",
       "\n",
       "   sat_rrs490  sat_rrs510  sat_rrs555  sat_rrs670                 sat_file  \\\n",
       "0     0.00345     0.00297     0.00217     0.00026   S1997280094210.L1A_GAC   \n",
       "1     0.00494     0.00348     0.00191     0.00018  S1997284110315.L1A_MLAC   \n",
       "\n",
       "   tdiff  solz  senz      cv  valid  \n",
       "0    480  49.0  25.4  0.2098      0  \n",
       "1   5880  48.7  37.8  0.1043      1  \n",
       "\n",
       "[2 rows x 169 columns]"
      ]
     },
     "execution_count": 11,
     "metadata": {},
     "output_type": "execute_result"
    }
   ],
   "source": [
    "df.head(2)"
   ]
  },
  {
   "cell_type": "code",
   "execution_count": 12,
   "metadata": {
    "slideshow": {
     "slide_type": "subslide"
    }
   },
   "outputs": [
    {
     "data": {
      "text/html": [
       "<div>\n",
       "<style scoped>\n",
       "    .dataframe tbody tr th:only-of-type {\n",
       "        vertical-align: middle;\n",
       "    }\n",
       "\n",
       "    .dataframe tbody tr th {\n",
       "        vertical-align: top;\n",
       "    }\n",
       "\n",
       "    .dataframe thead th {\n",
       "        text-align: right;\n",
       "    }\n",
       "</style>\n",
       "<table border=\"1\" class=\"dataframe\">\n",
       "  <thead>\n",
       "    <tr style=\"text-align: right;\">\n",
       "      <th></th>\n",
       "      <th>chl</th>\n",
       "      <th>chl_a</th>\n",
       "      <th>sat_rrs412</th>\n",
       "      <th>sat_rrs443</th>\n",
       "      <th>sat_rrs490</th>\n",
       "      <th>sat_rrs510</th>\n",
       "      <th>sat_rrs555</th>\n",
       "      <th>sat_rrs670</th>\n",
       "    </tr>\n",
       "  </thead>\n",
       "  <tbody>\n",
       "    <tr>\n",
       "      <th>count</th>\n",
       "      <td>262.000000</td>\n",
       "      <td>33.000000</td>\n",
       "      <td>292.000000</td>\n",
       "      <td>292.000000</td>\n",
       "      <td>292.000000</td>\n",
       "      <td>292.000000</td>\n",
       "      <td>292.000000</td>\n",
       "      <td>292.000000</td>\n",
       "    </tr>\n",
       "    <tr>\n",
       "      <th>mean</th>\n",
       "      <td>1.527438</td>\n",
       "      <td>1.658129</td>\n",
       "      <td>0.005039</td>\n",
       "      <td>0.005038</td>\n",
       "      <td>0.005050</td>\n",
       "      <td>0.004010</td>\n",
       "      <td>0.003162</td>\n",
       "      <td>0.000501</td>\n",
       "    </tr>\n",
       "    <tr>\n",
       "      <th>std</th>\n",
       "      <td>3.600463</td>\n",
       "      <td>3.846960</td>\n",
       "      <td>0.003753</td>\n",
       "      <td>0.002865</td>\n",
       "      <td>0.002460</td>\n",
       "      <td>0.002301</td>\n",
       "      <td>0.002645</td>\n",
       "      <td>0.000706</td>\n",
       "    </tr>\n",
       "    <tr>\n",
       "      <th>min</th>\n",
       "      <td>0.030000</td>\n",
       "      <td>0.027000</td>\n",
       "      <td>-0.006620</td>\n",
       "      <td>-0.002560</td>\n",
       "      <td>-0.000680</td>\n",
       "      <td>0.000850</td>\n",
       "      <td>0.001090</td>\n",
       "      <td>-0.000790</td>\n",
       "    </tr>\n",
       "    <tr>\n",
       "      <th>25%</th>\n",
       "      <td>0.172525</td>\n",
       "      <td>0.060000</td>\n",
       "      <td>0.002107</td>\n",
       "      <td>0.002780</td>\n",
       "      <td>0.003395</td>\n",
       "      <td>0.002770</td>\n",
       "      <td>0.001708</td>\n",
       "      <td>0.000140</td>\n",
       "    </tr>\n",
       "    <tr>\n",
       "      <th>50%</th>\n",
       "      <td>0.381000</td>\n",
       "      <td>0.135000</td>\n",
       "      <td>0.004625</td>\n",
       "      <td>0.005265</td>\n",
       "      <td>0.005040</td>\n",
       "      <td>0.003405</td>\n",
       "      <td>0.002120</td>\n",
       "      <td>0.000230</td>\n",
       "    </tr>\n",
       "    <tr>\n",
       "      <th>75%</th>\n",
       "      <td>1.382400</td>\n",
       "      <td>1.761000</td>\n",
       "      <td>0.007120</td>\n",
       "      <td>0.006877</td>\n",
       "      <td>0.006262</td>\n",
       "      <td>0.004370</td>\n",
       "      <td>0.003555</td>\n",
       "      <td>0.000560</td>\n",
       "    </tr>\n",
       "    <tr>\n",
       "      <th>max</th>\n",
       "      <td>43.100000</td>\n",
       "      <td>20.602000</td>\n",
       "      <td>0.015460</td>\n",
       "      <td>0.012450</td>\n",
       "      <td>0.018730</td>\n",
       "      <td>0.019950</td>\n",
       "      <td>0.021740</td>\n",
       "      <td>0.005000</td>\n",
       "    </tr>\n",
       "  </tbody>\n",
       "</table>\n",
       "</div>"
      ],
      "text/plain": [
       "              chl      chl_a  sat_rrs412  sat_rrs443  sat_rrs490  sat_rrs510  \\\n",
       "count  262.000000  33.000000  292.000000  292.000000  292.000000  292.000000   \n",
       "mean     1.527438   1.658129    0.005039    0.005038    0.005050    0.004010   \n",
       "std      3.600463   3.846960    0.003753    0.002865    0.002460    0.002301   \n",
       "min      0.030000   0.027000   -0.006620   -0.002560   -0.000680    0.000850   \n",
       "25%      0.172525   0.060000    0.002107    0.002780    0.003395    0.002770   \n",
       "50%      0.381000   0.135000    0.004625    0.005265    0.005040    0.003405   \n",
       "75%      1.382400   1.761000    0.007120    0.006877    0.006262    0.004370   \n",
       "max     43.100000  20.602000    0.015460    0.012450    0.018730    0.019950   \n",
       "\n",
       "       sat_rrs555  sat_rrs670  \n",
       "count  292.000000  292.000000  \n",
       "mean     0.003162    0.000501  \n",
       "std      0.002645    0.000706  \n",
       "min      0.001090   -0.000790  \n",
       "25%      0.001708    0.000140  \n",
       "50%      0.002120    0.000230  \n",
       "75%      0.003555    0.000560  \n",
       "max      0.021740    0.005000  "
      ]
     },
     "execution_count": 12,
     "metadata": {},
     "output_type": "execute_result"
    }
   ],
   "source": [
    "df.filter(regex=('(sat_rrs|chl)'), axis=1).describe()"
   ]
  },
  {
   "cell_type": "markdown",
   "metadata": {
    "slideshow": {
     "slide_type": "fragment"
    }
   },
   "source": [
    "$\\rightarrow$ consolidate date/time columns<br>\n",
    "$\\rightarrow$ consolidate fluo/hplc chlorophyll columns<br>\n",
    "$\\rightarrow$ deal with negative Rrs values"
   ]
  },
  {
   "cell_type": "markdown",
   "metadata": {
    "slideshow": {
     "slide_type": "subslide"
    }
   },
   "source": [
    "<a id=datetime></a>\n",
    "#### a. Dealing with date/time data: \n",
    "$\\ \\ \\ \\Rightarrow$ Consolidation of multiple date/time columns into single column of datetime objects"
   ]
  },
  {
   "cell_type": "code",
   "execution_count": 13,
   "metadata": {
    "slideshow": {
     "slide_type": "fragment"
    }
   },
   "outputs": [],
   "source": [
    "date_time_columns = ['year', 'month', 'day', 'hour', 'minute', 'second']\n",
    "df.insert(0, 'datetime', pd.to_datetime(df[date_time_columns],\n",
    "                                        format='%Y-%m-%d %H:%M:%S'))\n",
    "df.drop(date_time_columns, axis=1, inplace=True)"
   ]
  },
  {
   "cell_type": "code",
   "execution_count": 14,
   "metadata": {
    "slideshow": {
     "slide_type": "subslide"
    }
   },
   "outputs": [
    {
     "data": {
      "image/png": "[encoded data removed]",
      "text/plain": [
       "<Figure size 432x288 with 1 Axes>"
      ]
     },
     "metadata": {
      "needs_background": "light"
     },
     "output_type": "display_data"
    }
   ],
   "source": [
    "ax = df.datetime.dt.month_name().value_counts().plot(kind='bar')\n",
    "ax.set_ylabel('Freq.');"
   ]
  },
  {
   "cell_type": "markdown",
   "metadata": {
    "slideshow": {
     "slide_type": "subslide"
    }
   },
   "source": [
    "<a id=hplcfluo></a>\n",
    "#### b. Consolidating hplc/fluo chlorophyll data"
   ]
  },
  {
   "cell_type": "code",
   "execution_count": 15,
   "metadata": {
    "slideshow": {
     "slide_type": "subslide"
    }
   },
   "outputs": [
    {
     "name": "stdout",
     "output_type": "stream",
     "text": [
      "<class 'pandas.core.frame.DataFrame'>\n",
      "RangeIndex: 292 entries, 0 to 291\n",
      "Data columns (total 2 columns):\n",
      "chl      262 non-null float64\n",
      "chl_a    33 non-null float64\n",
      "dtypes: float64(2)\n",
      "memory usage: 4.6 KB\n"
     ]
    }
   ],
   "source": [
    "# two types of chlorophyll a:\n",
    "df.filter(regex='chl', axis=1).info()\n",
    "# chl: obtained by fluorometry\n",
    "# chl_a: obtained by hplc"
   ]
  },
  {
   "cell_type": "code",
   "execution_count": 16,
   "metadata": {
    "slideshow": {
     "slide_type": "subslide"
    }
   },
   "outputs": [],
   "source": [
    "def fill_chl(row):\n",
    "    return row['chl_a'] if np.isfinite(row['chl_a']) else row['chl']"
   ]
  },
  {
   "cell_type": "code",
   "execution_count": 17,
   "metadata": {
    "slideshow": {
     "slide_type": "fragment"
    }
   },
   "outputs": [],
   "source": [
    "# fill consolidated chlor_a column with chl_a (hplc) when possible, chl (fluo) otherwise\n",
    "df['chlor_a'] = df.apply(fill_chl, axis=1)"
   ]
  },
  {
   "cell_type": "code",
   "execution_count": 18,
   "metadata": {
    "slideshow": {
     "slide_type": "fragment"
    }
   },
   "outputs": [],
   "source": [
    "# Flag chlor_a measurement type; hplc/fluo \n",
    "df['is_hplc'] = np.isfinite(df.chl_a)"
   ]
  },
  {
   "cell_type": "code",
   "execution_count": 19,
   "metadata": {
    "slideshow": {
     "slide_type": "subslide"
    }
   },
   "outputs": [
    {
     "name": "stdout",
     "output_type": "stream",
     "text": [
      "<class 'pandas.core.frame.DataFrame'>\n",
      "RangeIndex: 292 entries, 0 to 291\n",
      "Data columns (total 3 columns):\n",
      "chl        262 non-null float64\n",
      "chl_a      33 non-null float64\n",
      "chlor_a    292 non-null float64\n",
      "dtypes: float64(3)\n",
      "memory usage: 6.9 KB\n"
     ]
    }
   ],
   "source": [
    "df.filter(regex='chl', axis=1).info()"
   ]
  },
  {
   "cell_type": "markdown",
   "metadata": {
    "slideshow": {
     "slide_type": "skip"
    }
   },
   "source": [
    "[Back to Contents](#TOP)"
   ]
  },
  {
   "cell_type": "markdown",
   "metadata": {},
   "source": [
    "#### c. Cleaning Rrs"
   ]
  },
  {
   "cell_type": "code",
   "execution_count": 20,
   "metadata": {
    "slideshow": {
     "slide_type": "fragment"
    }
   },
   "outputs": [],
   "source": [
    "# assign Nan to nonpositive sat. Rrs\n",
    "sat_cols = df.filter(regex='sat_rrs', axis=1).columns"
   ]
  },
  {
   "cell_type": "code",
   "execution_count": 21,
   "metadata": {
    "slideshow": {
     "slide_type": "fragment"
    }
   },
   "outputs": [],
   "source": [
    "for col in sat_cols:\n",
    "    df.loc[df[col]<=0, col] = np.NaN"
   ]
  },
  {
   "cell_type": "markdown",
   "metadata": {
    "slideshow": {
     "slide_type": "skip"
    }
   },
   "source": [
    "[Back to Contents](#TOP)"
   ]
  },
  {
   "cell_type": "markdown",
   "metadata": {
    "slideshow": {
     "slide_type": "subslide"
    }
   },
   "source": [
    "<a id=exo></a>\n",
    "### B. Exogenous Feature Transformation\n",
    "\n",
    "$\\ \\ \\ \\Rightarrow$ Transformation that is independent of dataset properties"
   ]
  },
  {
   "cell_type": "markdown",
   "metadata": {
    "slideshow": {
     "slide_type": "skip"
    }
   },
   "source": [
    "[Back to Contents](#TOP)"
   ]
  },
  {
   "cell_type": "markdown",
   "metadata": {
    "slideshow": {
     "slide_type": "fragment"
    }
   },
   "source": [
    "<a id=log></a>\n",
    "#### a. Log-transform"
   ]
  },
  {
   "cell_type": "code",
   "execution_count": 22,
   "metadata": {
    "slideshow": {
     "slide_type": "subslide"
    }
   },
   "outputs": [],
   "source": [
    "# Log-transform Rrs Data\n",
    "for col in sat_cols:\n",
    "    df[f'log_{col}'] = np.log10(df[col])"
   ]
  },
  {
   "cell_type": "code",
   "execution_count": 23,
   "metadata": {
    "slideshow": {
     "slide_type": "fragment"
    }
   },
   "outputs": [],
   "source": [
    "# Log-transform Chl Data\n",
    "df['log_chlor_a'] = np.log10(df.chlor_a)"
   ]
  },
  {
   "cell_type": "code",
   "execution_count": 24,
   "metadata": {
    "slideshow": {
     "slide_type": "fragment"
    }
   },
   "outputs": [
    {
     "data": {
      "text/html": [
       "<div>\n",
       "<style scoped>\n",
       "    .dataframe tbody tr th:only-of-type {\n",
       "        vertical-align: middle;\n",
       "    }\n",
       "\n",
       "    .dataframe tbody tr th {\n",
       "        vertical-align: top;\n",
       "    }\n",
       "\n",
       "    .dataframe thead th {\n",
       "        text-align: right;\n",
       "    }\n",
       "</style>\n",
       "<table border=\"1\" class=\"dataframe\">\n",
       "  <thead>\n",
       "    <tr style=\"text-align: right;\">\n",
       "      <th></th>\n",
       "      <th>sat_rrs412</th>\n",
       "      <th>sat_rrs443</th>\n",
       "      <th>sat_rrs490</th>\n",
       "      <th>sat_rrs510</th>\n",
       "      <th>sat_rrs555</th>\n",
       "      <th>sat_rrs670</th>\n",
       "      <th>chlor_a</th>\n",
       "      <th>log_sat_rrs412</th>\n",
       "      <th>log_sat_rrs443</th>\n",
       "      <th>log_sat_rrs490</th>\n",
       "      <th>log_sat_rrs510</th>\n",
       "      <th>log_sat_rrs555</th>\n",
       "      <th>log_sat_rrs670</th>\n",
       "      <th>log_chlor_a</th>\n",
       "    </tr>\n",
       "  </thead>\n",
       "  <tbody>\n",
       "    <tr>\n",
       "      <th>0</th>\n",
       "      <td>0.00239</td>\n",
       "      <td>0.00288</td>\n",
       "      <td>0.00345</td>\n",
       "      <td>0.00297</td>\n",
       "      <td>0.00217</td>\n",
       "      <td>0.00026</td>\n",
       "      <td>0.401</td>\n",
       "      <td>-2.621602</td>\n",
       "      <td>-2.540608</td>\n",
       "      <td>-2.462181</td>\n",
       "      <td>-2.527244</td>\n",
       "      <td>-2.663540</td>\n",
       "      <td>-3.585027</td>\n",
       "      <td>-0.396856</td>\n",
       "    </tr>\n",
       "    <tr>\n",
       "      <th>1</th>\n",
       "      <td>0.00572</td>\n",
       "      <td>0.00592</td>\n",
       "      <td>0.00494</td>\n",
       "      <td>0.00348</td>\n",
       "      <td>0.00191</td>\n",
       "      <td>0.00018</td>\n",
       "      <td>0.091</td>\n",
       "      <td>-2.242604</td>\n",
       "      <td>-2.227678</td>\n",
       "      <td>-2.306273</td>\n",
       "      <td>-2.458421</td>\n",
       "      <td>-2.718967</td>\n",
       "      <td>-3.744727</td>\n",
       "      <td>-1.040959</td>\n",
       "    </tr>\n",
       "  </tbody>\n",
       "</table>\n",
       "</div>"
      ],
      "text/plain": [
       "   sat_rrs412  sat_rrs443  sat_rrs490  sat_rrs510  sat_rrs555  sat_rrs670  \\\n",
       "0     0.00239     0.00288     0.00345     0.00297     0.00217     0.00026   \n",
       "1     0.00572     0.00592     0.00494     0.00348     0.00191     0.00018   \n",
       "\n",
       "   chlor_a  log_sat_rrs412  log_sat_rrs443  log_sat_rrs490  log_sat_rrs510  \\\n",
       "0    0.401       -2.621602       -2.540608       -2.462181       -2.527244   \n",
       "1    0.091       -2.242604       -2.227678       -2.306273       -2.458421   \n",
       "\n",
       "   log_sat_rrs555  log_sat_rrs670  log_chlor_a  \n",
       "0       -2.663540       -3.585027    -0.396856  \n",
       "1       -2.718967       -3.744727    -1.040959  "
      ]
     },
     "execution_count": 24,
     "metadata": {},
     "output_type": "execute_result"
    }
   ],
   "source": [
    "df.filter(regex='(rrs|chlor_a)', axis=1).head(2)"
   ]
  },
  {
   "cell_type": "markdown",
   "metadata": {
    "slideshow": {
     "slide_type": "skip"
    }
   },
   "source": [
    "[Back to Contents](#TOP)"
   ]
  },
  {
   "cell_type": "markdown",
   "metadata": {
    "slideshow": {
     "slide_type": "subslide"
    }
   },
   "source": [
    "#### b. Blue-green ratio\n",
    "\n",
    "* similar to OC4 variable but inverse\n",
    "* not polynomial\n",
    "* takes into account dominant blue band\n",
    "$$\\large{X=log_{10}\\left(\\frac{Rrs_{555}}{max(Rrs_{443}, Rrs_{490}, Rrs_{510})}\\right)}$$"
   ]
  },
  {
   "cell_type": "code",
   "execution_count": 31,
   "metadata": {
    "slideshow": {
     "slide_type": "skip"
    }
   },
   "outputs": [],
   "source": [
    "blue_band_cols = ['log_sat_rrs443', 'log_sat_rrs490', 'log_sat_rrs510']\n",
    "df['log_maxBlue'] = df[blue_band_cols].max(axis=1)"
   ]
  },
  {
   "cell_type": "code",
   "execution_count": 32,
   "metadata": {
    "slideshow": {
     "slide_type": "subslide"
    }
   },
   "outputs": [],
   "source": [
    "df['green2MaxBlue'] = df.log_sat_rrs555 - df.log_maxBlue"
   ]
  },
  {
   "cell_type": "markdown",
   "metadata": {
    "slideshow": {
     "slide_type": "subslide"
    }
   },
   "source": [
    "#### e. Sub-grouping"
   ]
  },
  {
   "cell_type": "code",
   "execution_count": 33,
   "metadata": {
    "slideshow": {
     "slide_type": "subslide"
    }
   },
   "outputs": [],
   "source": [
    "df['maxBlueID'] = df[blue_band_cols].idxmax(axis=1)\n",
    "df['maxBlueID'] = df.maxBlueID.str.extract('(rrs[0-9]+)').iloc[:, 0].str.capitalize()"
   ]
  },
  {
   "cell_type": "code",
   "execution_count": 37,
   "metadata": {
    "slideshow": {
     "slide_type": "skip"
    }
   },
   "outputs": [],
   "source": [
    "maxBlueCat = pd.CategoricalDtype(categories=np.sort(df.maxBlueID.unique()), ordered=True)\n",
    "df['maxBlueIdx'] = df.maxBlueID.astype(maxBlueCat).cat.codes"
   ]
  },
  {
   "cell_type": "code",
   "execution_count": 38,
   "metadata": {
    "slideshow": {
     "slide_type": "fragment"
    }
   },
   "outputs": [
    {
     "data": {
      "text/html": [
       "<div>\n",
       "<style scoped>\n",
       "    .dataframe tbody tr th:only-of-type {\n",
       "        vertical-align: middle;\n",
       "    }\n",
       "\n",
       "    .dataframe tbody tr th {\n",
       "        vertical-align: top;\n",
       "    }\n",
       "\n",
       "    .dataframe thead th {\n",
       "        text-align: right;\n",
       "    }\n",
       "</style>\n",
       "<table border=\"1\" class=\"dataframe\">\n",
       "  <thead>\n",
       "    <tr style=\"text-align: right;\">\n",
       "      <th></th>\n",
       "      <th>log_sat_rrs443</th>\n",
       "      <th>log_sat_rrs490</th>\n",
       "      <th>log_sat_rrs510</th>\n",
       "      <th>log_maxBlue</th>\n",
       "      <th>maxBlueID</th>\n",
       "      <th>maxBlueIdx</th>\n",
       "      <th>green2MaxBlue</th>\n",
       "    </tr>\n",
       "  </thead>\n",
       "  <tbody>\n",
       "    <tr>\n",
       "      <th>0</th>\n",
       "      <td>-2.540608</td>\n",
       "      <td>-2.462181</td>\n",
       "      <td>-2.527244</td>\n",
       "      <td>-2.462181</td>\n",
       "      <td>Rrs490</td>\n",
       "      <td>1</td>\n",
       "      <td>-0.201359</td>\n",
       "    </tr>\n",
       "    <tr>\n",
       "      <th>1</th>\n",
       "      <td>-2.227678</td>\n",
       "      <td>-2.306273</td>\n",
       "      <td>-2.458421</td>\n",
       "      <td>-2.227678</td>\n",
       "      <td>Rrs443</td>\n",
       "      <td>0</td>\n",
       "      <td>-0.491288</td>\n",
       "    </tr>\n",
       "    <tr>\n",
       "      <th>2</th>\n",
       "      <td>-2.073143</td>\n",
       "      <td>-2.204120</td>\n",
       "      <td>-2.425969</td>\n",
       "      <td>-2.073143</td>\n",
       "      <td>Rrs443</td>\n",
       "      <td>0</td>\n",
       "      <td>-0.701547</td>\n",
       "    </tr>\n",
       "    <tr>\n",
       "      <th>3</th>\n",
       "      <td>-2.910095</td>\n",
       "      <td>-2.752027</td>\n",
       "      <td>-2.714443</td>\n",
       "      <td>-2.714443</td>\n",
       "      <td>Rrs510</td>\n",
       "      <td>2</td>\n",
       "      <td>0.006699</td>\n",
       "    </tr>\n",
       "    <tr>\n",
       "      <th>4</th>\n",
       "      <td>-2.903090</td>\n",
       "      <td>-2.744727</td>\n",
       "      <td>-2.703335</td>\n",
       "      <td>-2.703335</td>\n",
       "      <td>Rrs510</td>\n",
       "      <td>2</td>\n",
       "      <td>0.002188</td>\n",
       "    </tr>\n",
       "  </tbody>\n",
       "</table>\n",
       "</div>"
      ],
      "text/plain": [
       "   log_sat_rrs443  log_sat_rrs490  log_sat_rrs510  log_maxBlue maxBlueID  \\\n",
       "0       -2.540608       -2.462181       -2.527244    -2.462181    Rrs490   \n",
       "1       -2.227678       -2.306273       -2.458421    -2.227678    Rrs443   \n",
       "2       -2.073143       -2.204120       -2.425969    -2.073143    Rrs443   \n",
       "3       -2.910095       -2.752027       -2.714443    -2.714443    Rrs510   \n",
       "4       -2.903090       -2.744727       -2.703335    -2.703335    Rrs510   \n",
       "\n",
       "   maxBlueIdx  green2MaxBlue  \n",
       "0           1      -0.201359  \n",
       "1           0      -0.491288  \n",
       "2           0      -0.701547  \n",
       "3           2       0.006699  \n",
       "4           2       0.002188  "
      ]
     },
     "execution_count": 38,
     "metadata": {},
     "output_type": "execute_result"
    }
   ],
   "source": [
    "df[blue_band_cols + ['log_maxBlue', 'maxBlueID', 'maxBlueIdx', 'green2MaxBlue']].head()"
   ]
  },
  {
   "cell_type": "code",
   "execution_count": 39,
   "metadata": {
    "slideshow": {
     "slide_type": "fragment"
    }
   },
   "outputs": [
    {
     "data": {
      "text/plain": [
       "Rrs443    44.520548\n",
       "Rrs490    30.479452\n",
       "Rrs510    25.000000\n",
       "Name: maxBlueID, dtype: float64"
      ]
     },
     "execution_count": 39,
     "metadata": {},
     "output_type": "execute_result"
    }
   ],
   "source": [
    "df.maxBlueID.value_counts(normalize=True)* 100"
   ]
  },
  {
   "cell_type": "code",
   "execution_count": 41,
   "metadata": {
    "slideshow": {
     "slide_type": "skip"
    }
   },
   "outputs": [
    {
     "data": {
      "image/png": "[encoded data removed]",
      "text/plain": [
       "<Figure size 474.225x360 with 6 Axes>"
      ]
     },
     "metadata": {
      "needs_background": "light"
     },
     "output_type": "display_data"
    }
   ],
   "source": [
    "sb.pairplot(df, vars=['green2MaxBlue', 'log_chlor_a'], hue='maxBlueID',\n",
    "            hue_order=['Rrs443', 'Rrs490', 'Rrs510'], palette='Dark2');\n",
    "f = pl.gcf()\n",
    "f.savefig('./resources/pairplot.png', dpi=300)"
   ]
  },
  {
   "cell_type": "markdown",
   "metadata": {
    "slideshow": {
     "slide_type": "subslide"
    }
   },
   "source": [
    "<center><img src='./resources/pairplot.png?:1'/></center>"
   ]
  },
  {
   "cell_type": "markdown",
   "metadata": {
    "slideshow": {
     "slide_type": "skip"
    }
   },
   "source": [
    "[Back to Contents](#TOP)"
   ]
  },
  {
   "cell_type": "markdown",
   "metadata": {
    "slideshow": {
     "slide_type": "subslide"
    }
   },
   "source": [
    "<a id=split></a>\n",
    "### C. Splitting Data into Train/Test Sets"
   ]
  },
  {
   "cell_type": "markdown",
   "metadata": {
    "slideshow": {
     "slide_type": "subslide"
    }
   },
   "source": [
    "#### a. Extract relevant subset"
   ]
  },
  {
   "cell_type": "code",
   "execution_count": 43,
   "metadata": {
    "slideshow": {
     "slide_type": "fragment"
    }
   },
   "outputs": [
    {
     "data": {
      "text/html": [
       "<div>\n",
       "<style scoped>\n",
       "    .dataframe tbody tr th:only-of-type {\n",
       "        vertical-align: middle;\n",
       "    }\n",
       "\n",
       "    .dataframe tbody tr th {\n",
       "        vertical-align: top;\n",
       "    }\n",
       "\n",
       "    .dataframe thead th {\n",
       "        text-align: right;\n",
       "    }\n",
       "</style>\n",
       "<table border=\"1\" class=\"dataframe\">\n",
       "  <thead>\n",
       "    <tr style=\"text-align: right;\">\n",
       "      <th></th>\n",
       "      <th>datetime</th>\n",
       "      <th>green2MaxBlue</th>\n",
       "      <th>maxBlueID</th>\n",
       "      <th>maxBlueIdx</th>\n",
       "      <th>log_chlor_a</th>\n",
       "    </tr>\n",
       "  </thead>\n",
       "  <tbody>\n",
       "    <tr>\n",
       "      <th>0</th>\n",
       "      <td>1997-10-07 09:41:00</td>\n",
       "      <td>-0.201359</td>\n",
       "      <td>Rrs490</td>\n",
       "      <td>1</td>\n",
       "      <td>-0.396856</td>\n",
       "    </tr>\n",
       "    <tr>\n",
       "      <th>1</th>\n",
       "      <td>1997-10-11 09:32:00</td>\n",
       "      <td>-0.491288</td>\n",
       "      <td>Rrs443</td>\n",
       "      <td>0</td>\n",
       "      <td>-1.040959</td>\n",
       "    </tr>\n",
       "    <tr>\n",
       "      <th>2</th>\n",
       "      <td>1997-09-27 11:29:00</td>\n",
       "      <td>-0.701547</td>\n",
       "      <td>Rrs443</td>\n",
       "      <td>0</td>\n",
       "      <td>-0.801343</td>\n",
       "    </tr>\n",
       "    <tr>\n",
       "      <th>3</th>\n",
       "      <td>1998-05-16 08:30:00</td>\n",
       "      <td>0.006699</td>\n",
       "      <td>Rrs510</td>\n",
       "      <td>2</td>\n",
       "      <td>0.420995</td>\n",
       "    </tr>\n",
       "    <tr>\n",
       "      <th>4</th>\n",
       "      <td>1998-05-16 09:16:00</td>\n",
       "      <td>0.002188</td>\n",
       "      <td>Rrs510</td>\n",
       "      <td>2</td>\n",
       "      <td>0.401228</td>\n",
       "    </tr>\n",
       "  </tbody>\n",
       "</table>\n",
       "</div>"
      ],
      "text/plain": [
       "             datetime  green2MaxBlue maxBlueID  maxBlueIdx  log_chlor_a\n",
       "0 1997-10-07 09:41:00      -0.201359    Rrs490           1    -0.396856\n",
       "1 1997-10-11 09:32:00      -0.491288    Rrs443           0    -1.040959\n",
       "2 1997-09-27 11:29:00      -0.701547    Rrs443           0    -0.801343\n",
       "3 1998-05-16 08:30:00       0.006699    Rrs510           2     0.420995\n",
       "4 1998-05-16 09:16:00       0.002188    Rrs510           2     0.401228"
      ]
     },
     "execution_count": 43,
     "metadata": {},
     "output_type": "execute_result"
    }
   ],
   "source": [
    "df_extr = df[['datetime', 'green2MaxBlue', 'maxBlueID', 'maxBlueIdx', 'log_chlor_a']]\n",
    "df_extr.head()"
   ]
  },
  {
   "cell_type": "markdown",
   "metadata": {
    "slideshow": {
     "slide_type": "skip"
    }
   },
   "source": [
    "[Back to Contents](#TOP)"
   ]
  },
  {
   "cell_type": "markdown",
   "metadata": {
    "slideshow": {
     "slide_type": "subslide"
    }
   },
   "source": [
    "#### b. Split into train/test sets"
   ]
  },
  {
   "cell_type": "code",
   "execution_count": 44,
   "metadata": {
    "slideshow": {
     "slide_type": "fragment"
    }
   },
   "outputs": [],
   "source": [
    "X = df_extr.iloc[:, :-1]\n",
    "y = df_extr.loc[:, ['log_chlor_a']] # extra brackets to retain DataFrame type"
   ]
  },
  {
   "cell_type": "code",
   "execution_count": 46,
   "metadata": {
    "slideshow": {
     "slide_type": "fragment"
    }
   },
   "outputs": [],
   "source": [
    "X_train, X_test, y_train, y_test = train_test_split(X, y, test_size=0.15, stratify=X.maxBlueID)"
   ]
  },
  {
   "cell_type": "code",
   "execution_count": 47,
   "metadata": {
    "slideshow": {
     "slide_type": "fragment"
    }
   },
   "outputs": [
    {
     "data": {
      "text/plain": [
       "Rrs443    44.520548\n",
       "Rrs490    30.479452\n",
       "Rrs510    25.000000\n",
       "Name: maxBlueID, dtype: float64"
      ]
     },
     "execution_count": 47,
     "metadata": {},
     "output_type": "execute_result"
    }
   ],
   "source": [
    "X.maxBlueID.value_counts(normalize=True)*100"
   ]
  },
  {
   "cell_type": "code",
   "execution_count": 48,
   "metadata": {
    "slideshow": {
     "slide_type": "fragment"
    }
   },
   "outputs": [
    {
     "data": {
      "text/plain": [
       "Rrs443    44.354839\n",
       "Rrs490    30.645161\n",
       "Rrs510    25.000000\n",
       "Name: maxBlueID, dtype: float64"
      ]
     },
     "execution_count": 48,
     "metadata": {},
     "output_type": "execute_result"
    }
   ],
   "source": [
    "X_train.maxBlueID.value_counts(normalize=True)*100"
   ]
  },
  {
   "cell_type": "code",
   "execution_count": 49,
   "metadata": {},
   "outputs": [
    {
     "data": {
      "text/html": [
       "<div>\n",
       "<style scoped>\n",
       "    .dataframe tbody tr th:only-of-type {\n",
       "        vertical-align: middle;\n",
       "    }\n",
       "\n",
       "    .dataframe tbody tr th {\n",
       "        vertical-align: top;\n",
       "    }\n",
       "\n",
       "    .dataframe thead th {\n",
       "        text-align: right;\n",
       "    }\n",
       "</style>\n",
       "<table border=\"1\" class=\"dataframe\">\n",
       "  <thead>\n",
       "    <tr style=\"text-align: right;\">\n",
       "      <th></th>\n",
       "      <th>datetime</th>\n",
       "      <th>green2MaxBlue</th>\n",
       "      <th>maxBlueID</th>\n",
       "      <th>maxBlueIdx</th>\n",
       "    </tr>\n",
       "  </thead>\n",
       "  <tbody>\n",
       "    <tr>\n",
       "      <th>216</th>\n",
       "      <td>1999-01-29 14:33:00</td>\n",
       "      <td>-0.233493</td>\n",
       "      <td>Rrs490</td>\n",
       "      <td>1</td>\n",
       "    </tr>\n",
       "    <tr>\n",
       "      <th>242</th>\n",
       "      <td>2000-08-22 14:30:00</td>\n",
       "      <td>0.002292</td>\n",
       "      <td>Rrs510</td>\n",
       "      <td>2</td>\n",
       "    </tr>\n",
       "  </tbody>\n",
       "</table>\n",
       "</div>"
      ],
      "text/plain": [
       "               datetime  green2MaxBlue maxBlueID  maxBlueIdx\n",
       "216 1999-01-29 14:33:00      -0.233493    Rrs490           1\n",
       "242 2000-08-22 14:30:00       0.002292    Rrs510           2"
      ]
     },
     "execution_count": 49,
     "metadata": {},
     "output_type": "execute_result"
    }
   ],
   "source": [
    "X_train.head(2)"
   ]
  },
  {
   "cell_type": "markdown",
   "metadata": {
    "slideshow": {
     "slide_type": "skip"
    }
   },
   "source": [
    "[Back to Contents](#TOP)"
   ]
  },
  {
   "cell_type": "markdown",
   "metadata": {
    "slideshow": {
     "slide_type": "subslide"
    }
   },
   "source": [
    "<a id=endo> </a>\n",
    "\n",
    "### D. Endogenous Feature Extraction: Standardization\n",
    "$\\ \\ \\ \\Rightarrow$ Transformation is dependent on data properties"
   ]
  },
  {
   "cell_type": "markdown",
   "metadata": {
    "slideshow": {
     "slide_type": "subslide"
    }
   },
   "source": [
    "* Most often refers to $$\\frac{X - mean(X)}{std(X)}$$\n",
    "* good modeling practice generally\n",
    "* helps putting different variables on comparable scale\n",
    "* helps relate input to output in terms of z-score"
   ]
  },
  {
   "cell_type": "markdown",
   "metadata": {
    "slideshow": {
     "slide_type": "skip"
    }
   },
   "source": [
    "[Back to Contents](#TOP)"
   ]
  },
  {
   "cell_type": "code",
   "execution_count": 50,
   "metadata": {
    "slideshow": {
     "slide_type": "subslide"
    }
   },
   "outputs": [],
   "source": [
    "# Instantiate scaler\n",
    "sc_X = StandardScaler()\n",
    "sc_y = StandardScaler()"
   ]
  },
  {
   "cell_type": "code",
   "execution_count": 51,
   "metadata": {
    "slideshow": {
     "slide_type": "subslide"
    }
   },
   "outputs": [],
   "source": [
    "# don't standardize datetime, maxBlueID, maxBlueIdx columns\n",
    "X_train_s_array = sc_X.fit_transform(X_train.iloc[:, 1:-2]) \n",
    "y_train_s_array = sc_y.fit_transform(y_train)"
   ]
  },
  {
   "cell_type": "code",
   "execution_count": 52,
   "metadata": {
    "slideshow": {
     "slide_type": "skip"
    }
   },
   "outputs": [],
   "source": [
    "# make new dataframe with standardized data using same index as before to retain link to original observations\n",
    "X_train_s = pd.DataFrame(X_train_s_array, index=X_train.index,\n",
    "                        columns=[f'{col}_s' for col in X_train.iloc[:, 1:-2].columns])\n",
    "X_train_s = X_train[['datetime', 'maxBlueID', 'maxBlueIdx']].merge(X_train_s, how='outer',\n",
    "                                                     left_index=True, right_index=True)\n",
    "y_train_s = pd.DataFrame(y_train_s_array, columns=[f'{col}_s'\n",
    "                                             for col in y_train.columns],\n",
    "                         index=y_train.index)"
   ]
  },
  {
   "cell_type": "code",
   "execution_count": 53,
   "metadata": {},
   "outputs": [
    {
     "data": {
      "text/html": [
       "<div>\n",
       "<style scoped>\n",
       "    .dataframe tbody tr th:only-of-type {\n",
       "        vertical-align: middle;\n",
       "    }\n",
       "\n",
       "    .dataframe tbody tr th {\n",
       "        vertical-align: top;\n",
       "    }\n",
       "\n",
       "    .dataframe thead th {\n",
       "        text-align: right;\n",
       "    }\n",
       "</style>\n",
       "<table border=\"1\" class=\"dataframe\">\n",
       "  <thead>\n",
       "    <tr style=\"text-align: right;\">\n",
       "      <th></th>\n",
       "      <th>datetime</th>\n",
       "      <th>maxBlueID</th>\n",
       "      <th>maxBlueIdx</th>\n",
       "      <th>green2MaxBlue_s</th>\n",
       "    </tr>\n",
       "  </thead>\n",
       "  <tbody>\n",
       "    <tr>\n",
       "      <th>216</th>\n",
       "      <td>1999-01-29 14:33:00</td>\n",
       "      <td>Rrs490</td>\n",
       "      <td>1</td>\n",
       "      <td>0.203137</td>\n",
       "    </tr>\n",
       "    <tr>\n",
       "      <th>242</th>\n",
       "      <td>2000-08-22 14:30:00</td>\n",
       "      <td>Rrs510</td>\n",
       "      <td>2</td>\n",
       "      <td>0.987330</td>\n",
       "    </tr>\n",
       "    <tr>\n",
       "      <th>278</th>\n",
       "      <td>1999-10-25 13:20:00</td>\n",
       "      <td>Rrs510</td>\n",
       "      <td>2</td>\n",
       "      <td>1.670619</td>\n",
       "    </tr>\n",
       "    <tr>\n",
       "      <th>141</th>\n",
       "      <td>1999-07-07 14:35:00</td>\n",
       "      <td>Rrs443</td>\n",
       "      <td>0</td>\n",
       "      <td>-1.018703</td>\n",
       "    </tr>\n",
       "    <tr>\n",
       "      <th>221</th>\n",
       "      <td>2001-06-04 19:11:00</td>\n",
       "      <td>Rrs490</td>\n",
       "      <td>1</td>\n",
       "      <td>0.065273</td>\n",
       "    </tr>\n",
       "  </tbody>\n",
       "</table>\n",
       "</div>"
      ],
      "text/plain": [
       "               datetime maxBlueID  maxBlueIdx  green2MaxBlue_s\n",
       "216 1999-01-29 14:33:00    Rrs490           1         0.203137\n",
       "242 2000-08-22 14:30:00    Rrs510           2         0.987330\n",
       "278 1999-10-25 13:20:00    Rrs510           2         1.670619\n",
       "141 1999-07-07 14:35:00    Rrs443           0        -1.018703\n",
       "221 2001-06-04 19:11:00    Rrs490           1         0.065273"
      ]
     },
     "execution_count": 53,
     "metadata": {},
     "output_type": "execute_result"
    }
   ],
   "source": [
    "X_train_s.head()"
   ]
  },
  {
   "cell_type": "code",
   "execution_count": 54,
   "metadata": {
    "slideshow": {
     "slide_type": "skip"
    }
   },
   "outputs": [
    {
     "data": {
      "text/html": [
       "<div>\n",
       "<style scoped>\n",
       "    .dataframe tbody tr th:only-of-type {\n",
       "        vertical-align: middle;\n",
       "    }\n",
       "\n",
       "    .dataframe tbody tr th {\n",
       "        vertical-align: top;\n",
       "    }\n",
       "\n",
       "    .dataframe thead th {\n",
       "        text-align: right;\n",
       "    }\n",
       "</style>\n",
       "<table border=\"1\" class=\"dataframe\">\n",
       "  <thead>\n",
       "    <tr style=\"text-align: right;\">\n",
       "      <th></th>\n",
       "      <th>log_chlor_a_s</th>\n",
       "    </tr>\n",
       "  </thead>\n",
       "  <tbody>\n",
       "    <tr>\n",
       "      <th>216</th>\n",
       "      <td>0.831818</td>\n",
       "    </tr>\n",
       "    <tr>\n",
       "      <th>242</th>\n",
       "      <td>1.082246</td>\n",
       "    </tr>\n",
       "    <tr>\n",
       "      <th>278</th>\n",
       "      <td>2.042186</td>\n",
       "    </tr>\n",
       "    <tr>\n",
       "      <th>141</th>\n",
       "      <td>-0.986848</td>\n",
       "    </tr>\n",
       "    <tr>\n",
       "      <th>221</th>\n",
       "      <td>-0.200597</td>\n",
       "    </tr>\n",
       "  </tbody>\n",
       "</table>\n",
       "</div>"
      ],
      "text/plain": [
       "     log_chlor_a_s\n",
       "216       0.831818\n",
       "242       1.082246\n",
       "278       2.042186\n",
       "141      -0.986848\n",
       "221      -0.200597"
      ]
     },
     "execution_count": 54,
     "metadata": {},
     "output_type": "execute_result"
    }
   ],
   "source": [
    "y_train_s.head()"
   ]
  },
  {
   "cell_type": "code",
   "execution_count": 55,
   "metadata": {
    "slideshow": {
     "slide_type": "subslide"
    }
   },
   "outputs": [],
   "source": [
    "X_test_s_array = sc_X.transform(X_test.iloc[:, 1:-2])\n",
    "y_test_s_array = sc_y.transform(y_test)"
   ]
  },
  {
   "cell_type": "code",
   "execution_count": 56,
   "metadata": {
    "slideshow": {
     "slide_type": "skip"
    }
   },
   "outputs": [],
   "source": [
    "# make new dataframe with standardized data using same index as before to retain link to original observations\n",
    "X_test_s = pd.DataFrame(X_test_s_array, index=X_test.index,\n",
    "                        columns=[f'{col}_s' for col in X_test.iloc[:, 1:-2].columns])\n",
    "X_test_s = X_test[['datetime', 'maxBlueID', 'maxBlueIdx']].merge(X_test_s, how='outer',\n",
    "                                                     left_index=True, right_index=True)\n",
    "y_test_s = pd.DataFrame(y_test_s_array, columns=[f'{col}_s'\n",
    "                                             for col in y_test.columns],\n",
    "                         index=y_test.index)"
   ]
  },
  {
   "cell_type": "markdown",
   "metadata": {
    "slideshow": {
     "slide_type": "skip"
    }
   },
   "source": [
    "[Back to Contents](#TOP)"
   ]
  },
  {
   "cell_type": "markdown",
   "metadata": {
    "slideshow": {
     "slide_type": "subslide"
    }
   },
   "source": [
    "<a id='picklepreprocess'> </a>\n",
    "\n",
    "### E. Pickling the pipeline\n",
    "\n",
    "$\\ \\ \\ \\Rightarrow$ use python dictionaries for easy reference"
   ]
  },
  {
   "cell_type": "code",
   "execution_count": 57,
   "metadata": {
    "slideshow": {
     "slide_type": "fragment"
    }
   },
   "outputs": [],
   "source": [
    "train_dict = dict(X=X_train, \n",
    "                  X_s=X_train_s,\n",
    "                  y=y_train, \n",
    "                  y_s=y_train_s)"
   ]
  },
  {
   "cell_type": "code",
   "execution_count": 58,
   "metadata": {
    "slideshow": {
     "slide_type": "fragment"
    }
   },
   "outputs": [],
   "source": [
    "test_dict = dict(X=X_test,\n",
    "                 X_s=X_test_s,\n",
    "                 y=y_test,\n",
    "                 y_s=y_test_s)"
   ]
  },
  {
   "cell_type": "code",
   "execution_count": 59,
   "metadata": {
    "slideshow": {
     "slide_type": "subslide"
    }
   },
   "outputs": [],
   "source": [
    "transformers_dict = dict(X_scaler=sc_X,\n",
    "                         y_scaler=sc_y,)"
   ]
  },
  {
   "cell_type": "code",
   "execution_count": 60,
   "metadata": {
    "slideshow": {
     "slide_type": "fragment"
    }
   },
   "outputs": [],
   "source": [
    "preprocess_dict = dict(raw_data=df,\n",
    "                       training=train_dict,\n",
    "                       testing=test_dict,\n",
    "                       transformers=transformers_dict)"
   ]
  },
  {
   "cell_type": "code",
   "execution_count": 61,
   "metadata": {
    "slideshow": {
     "slide_type": "fragment"
    }
   },
   "outputs": [],
   "source": [
    "with open('./preprocess_dicts.pkl', 'wb') as fb:\n",
    "    pickle.dump(preprocess_dict, fb, protocol=pickle.HIGHEST_PROTOCOL)"
   ]
  },
  {
   "cell_type": "code",
   "execution_count": 62,
   "metadata": {
    "slideshow": {
     "slide_type": "fragment"
    }
   },
   "outputs": [
    {
     "name": "stdout",
     "output_type": "stream",
     "text": [
      "443.438kB\n"
     ]
    }
   ],
   "source": [
    "print(f\"{os.path.getsize('./preprocess_dicts.pkl')/1000}kB\")"
   ]
  },
  {
   "cell_type": "markdown",
   "metadata": {
    "slideshow": {
     "slide_type": "skip"
    }
   },
   "source": [
    "[Back to Contents](#TOP)"
   ]
  },
  {
   "cell_type": "markdown",
   "metadata": {
    "slideshow": {
     "slide_type": "slide"
    }
   },
   "source": [
    "<a id='PyMC3'></a>\n",
    "### 4. Bayesian Modeling:\n",
    "\n",
    "Pooled models:\n",
    "* Multivariate regression model with Green/max(Blue) as predictor \n",
    "* Multivariate regression model with Green/max(Blue) and SST as predictors\n",
    "\n",
    "Partially pooled models\n",
    "* Hierarchcal regression model with Green/max(Blue) as predictor and grouping by maxBlueID \n",
    "* Hierarchical regression model with Green/max(Blue) and SST as predictors and grouping by maxBlueID"
   ]
  },
  {
   "cell_type": "code",
   "execution_count": 128,
   "metadata": {},
   "outputs": [],
   "source": [
    "import pickle\n",
    "\n",
    "import numpy as np\n",
    "import pandas as pd\n",
    "import pymc3 as pm\n",
    "\n",
    "import arviz as ar\n",
    "import matplotlib.pyplot as pl\n",
    "from matplotlib import rcParams"
   ]
  },
  {
   "cell_type": "code",
   "execution_count": 129,
   "metadata": {},
   "outputs": [],
   "source": [
    "# NOTEBOOK-WIDE Graphical settings\n",
    "rcParams['axes.formatter.limits'] = (-2, 3)\n",
    "rcParams['axes.titlesize'] = 18\n",
    "rcParams['axes.labelsize'] = 16\n",
    "rcParams['font.size'] = 16\n",
    "rcParams['ytick.labelsize'] = 16\n",
    "rcParams['xtick.labelsize'] = 16\n",
    "rcParams['legend.fontsize'] = 16\n",
    "rcParams['xtick.minor.visible'] = True"
   ]
  },
  {
   "cell_type": "code",
   "execution_count": 4,
   "metadata": {
    "slideshow": {
     "slide_type": "subslide"
    }
   },
   "outputs": [],
   "source": [
    "with open('./preprocess_dicts.pkl', 'rb') as fb:\n",
    "    preproc_dict = pickle.load(fb)"
   ]
  },
  {
   "cell_type": "code",
   "execution_count": 5,
   "metadata": {
    "slideshow": {
     "slide_type": "fragment"
    }
   },
   "outputs": [],
   "source": [
    "X_train_s = preproc_dict['training']['X_s']\n",
    "X_test_s = preproc_dict['testing']['X_s']\n",
    "y_train_s = preproc_dict['training']['y_s']\n",
    "y_test_s = preproc_dict['testing']['y_s']"
   ]
  },
  {
   "cell_type": "code",
   "execution_count": 6,
   "metadata": {},
   "outputs": [
    {
     "data": {
      "text/html": [
       "<div>\n",
       "<style scoped>\n",
       "    .dataframe tbody tr th:only-of-type {\n",
       "        vertical-align: middle;\n",
       "    }\n",
       "\n",
       "    .dataframe tbody tr th {\n",
       "        vertical-align: top;\n",
       "    }\n",
       "\n",
       "    .dataframe thead th {\n",
       "        text-align: right;\n",
       "    }\n",
       "</style>\n",
       "<table border=\"1\" class=\"dataframe\">\n",
       "  <thead>\n",
       "    <tr style=\"text-align: right;\">\n",
       "      <th></th>\n",
       "      <th>datetime</th>\n",
       "      <th>maxBlueID</th>\n",
       "      <th>maxBlueIdx</th>\n",
       "      <th>green2MaxBlue_s</th>\n",
       "    </tr>\n",
       "  </thead>\n",
       "  <tbody>\n",
       "    <tr>\n",
       "      <th>216</th>\n",
       "      <td>1999-01-29 14:33:00</td>\n",
       "      <td>Rrs490</td>\n",
       "      <td>1</td>\n",
       "      <td>0.203137</td>\n",
       "    </tr>\n",
       "    <tr>\n",
       "      <th>242</th>\n",
       "      <td>2000-08-22 14:30:00</td>\n",
       "      <td>Rrs510</td>\n",
       "      <td>2</td>\n",
       "      <td>0.987330</td>\n",
       "    </tr>\n",
       "    <tr>\n",
       "      <th>278</th>\n",
       "      <td>1999-10-25 13:20:00</td>\n",
       "      <td>Rrs510</td>\n",
       "      <td>2</td>\n",
       "      <td>1.670619</td>\n",
       "    </tr>\n",
       "    <tr>\n",
       "      <th>141</th>\n",
       "      <td>1999-07-07 14:35:00</td>\n",
       "      <td>Rrs443</td>\n",
       "      <td>0</td>\n",
       "      <td>-1.018703</td>\n",
       "    </tr>\n",
       "    <tr>\n",
       "      <th>221</th>\n",
       "      <td>2001-06-04 19:11:00</td>\n",
       "      <td>Rrs490</td>\n",
       "      <td>1</td>\n",
       "      <td>0.065273</td>\n",
       "    </tr>\n",
       "  </tbody>\n",
       "</table>\n",
       "</div>"
      ],
      "text/plain": [
       "               datetime maxBlueID  maxBlueIdx  green2MaxBlue_s\n",
       "216 1999-01-29 14:33:00    Rrs490           1         0.203137\n",
       "242 2000-08-22 14:30:00    Rrs510           2         0.987330\n",
       "278 1999-10-25 13:20:00    Rrs510           2         1.670619\n",
       "141 1999-07-07 14:35:00    Rrs443           0        -1.018703\n",
       "221 2001-06-04 19:11:00    Rrs490           1         0.065273"
      ]
     },
     "execution_count": 6,
     "metadata": {},
     "output_type": "execute_result"
    }
   ],
   "source": [
    "X_train_s.head()"
   ]
  },
  {
   "cell_type": "code",
   "execution_count": 98,
   "metadata": {
    "slideshow": {
     "slide_type": "subslide"
    }
   },
   "outputs": [],
   "source": [
    "with pm.Model() as m_pooled_naive:\n",
    "    α = pm.Normal('α', 0, 1) # prior on intercept\n",
    "    β = pm.Normal('β', 0, 5) # prior on slopes\n",
    "    σ = pm.Exponential('σ', 1) # prior on likelihood variance\n",
    "    μ = α + X_train_s.green2MaxBlue_s.values * β # likelihood's mean deterministic model\n",
    "    log_chl_s = pm.Normal('log_chl_s', mu=μ, sd=σ, observed=y_train_s.log_chlor_a_s.values) # likelihood"
   ]
  },
  {
   "cell_type": "code",
   "execution_count": 99,
   "metadata": {
    "slideshow": {
     "slide_type": "skip"
    }
   },
   "outputs": [],
   "source": [
    "m_pooled_naive_graph = pm.model_to_graphviz(m_pooled_naive)\n",
    "m_pooled_naive.format='png'\n",
    "m_pooled_naive_graph.render(filename='m_pooled_naive_graph', directory='./resources/', view=False);"
   ]
  },
  {
   "cell_type": "markdown",
   "metadata": {
    "slideshow": {
     "slide_type": "fragment"
    }
   },
   "source": [
    "<center><img src='./resources/m_pooled_naive_graph.png?:0' width=700 /></center>"
   ]
  },
  {
   "cell_type": "markdown",
   "metadata": {},
   "source": [
    "[Back to Contents](#TOP)"
   ]
  },
  {
   "cell_type": "markdown",
   "metadata": {
    "slideshow": {
     "slide_type": "subslide"
    }
   },
   "source": [
    "<a id='priors'></a>\n",
    "#### b. Prior predictive simulation"
   ]
  },
  {
   "cell_type": "code",
   "execution_count": 113,
   "metadata": {
    "slideshow": {
     "slide_type": "skip"
    }
   },
   "outputs": [],
   "source": [
    "def eval_priors(model, y_, fpath, ylim=(-5, 5)):\n",
    "    # Sample parameters and simulate predictor from model priors\n",
    "    # Sample parameters\n",
    "    priors = pm.sample_prior_predictive(model=model, vars=['α', 'β', 'log_chl_s'])\n",
    "    β_prior = priors['β'].reshape(-1, 1)\n",
    "    α_prior = priors['α'].reshape(-1, 1)\n",
    "    log_chl_prior = priors['log_chl_s']\n",
    "    \n",
    "    # Create dummy variable\n",
    "    x_dummy = np.linspace(-3., 3., num=50).reshape(1, -1)\n",
    "    # Simulate log chl from model priors\n",
    "    log_chl_lines = α_prior + β_prior * x_dummy\n",
    "    f, ax = pl.subplots(ncols=2, figsize=(12, 4))\n",
    "    for i in range(500):\n",
    "        ax[0].plot(x_dummy.T, log_chl_lines[i], alpha=0.03, color='k')\n",
    "    ax[0].set_ylim(ylim);\n",
    "    ax[0]. set_xlabel(r'$\\frac{Rrs_{555}}{max(Rrs_{443}, Rrs_{490}, Rrs_{510})}$, standardized')\n",
    "    ax[0].set_ylabel(r'$log_{10}(chl)$, standardized')\n",
    "    ax[1].hist(priors['log_chl_s'].flatten(), density=True, alpha=0.3, bins=100,\n",
    "               orientation='horizontal', label='prior');\n",
    "    ax[1].set_ylim(ylim)\n",
    "    ax[1].set_xticklabels([])\n",
    "    ax[1].yaxis.tick_right()\n",
    "    ax[1].yaxis.set_label_position(\"right\")\n",
    "    ax[1].legend(loc='upper right')\n",
    "    ax[1].set_ylabel(r'$log_{10}(chl)$, standardized')\n",
    "    ax[1].set_xlabel(r'$Freq.$')\n",
    "    ax2 = ax[1].twiny()\n",
    "    ax2.hist(y_.values, color='k', density=True, alpha=0.5, bins=20,\n",
    "             orientation='horizontal', label='observed');\n",
    "    ax2.set_xticklabels([])\n",
    "    ax2.legend(loc='lower right')\n",
    "    f.tight_layout()\n",
    "    f.savefig(fpath, dpi=300)"
   ]
  },
  {
   "cell_type": "code",
   "execution_count": 114,
   "metadata": {},
   "outputs": [
    {
     "data": {
      "image/png": "[encoded data removed]",
      "text/plain": [
       "<Figure size 864x288 with 3 Axes>"
      ]
     },
     "metadata": {
      "needs_background": "light"
     },
     "output_type": "display_data"
    }
   ],
   "source": [
    "eval_priors(m_pooled_naive, y_=y_train_s.log_chlor_a_s, \n",
    "            fpath='./resources/priors_predictive_pooled_naive.png', ylim=(-10, 10))"
   ]
  },
  {
   "cell_type": "markdown",
   "metadata": {
    "slideshow": {
     "slide_type": "subslide"
    }
   },
   "source": [
    "<center><img src='./resources/priors_predictive_pooled_naive.png?:0'/></center>"
   ]
  },
  {
   "cell_type": "markdown",
   "metadata": {
    "slideshow": {
     "slide_type": "fragment"
    }
   },
   "source": [
    "$\\Rightarrow$ Nonsensical log(chl) values $\\rightarrow$ Priors too naive; need adjustment<br>\n",
    "$\\Rightarrow$ Informative priors $\\rightarrow$ Incorportation of background knowledge into model"
   ]
  },
  {
   "cell_type": "code",
   "execution_count": 117,
   "metadata": {
    "slideshow": {
     "slide_type": "subslide"
    }
   },
   "outputs": [],
   "source": [
    "with pm.Model() as m_pooled_wk_informative:\n",
    "    α = pm.Normal('α', 0, 1) # prior on intercept\n",
    "    β = pm.Normal('β', 0, 1) # prior on slopes\n",
    "    σ = pm.Exponential('σ', 1) # prior on likelihood variance\n",
    "    μ = α + X_train_s.green2MaxBlue_s.values * β # likelihood's mean deterministic model\n",
    "    log_chl_s = pm.Normal('log_chl_s', mu=μ, sd=σ, observed=y_train_s.log_chlor_a_s.values) # likelihood"
   ]
  },
  {
   "cell_type": "code",
   "execution_count": 118,
   "metadata": {
    "slideshow": {
     "slide_type": "skip"
    }
   },
   "outputs": [
    {
     "data": {
      "image/png": "[encoded data removed]",
      "text/plain": [
       "<Figure size 864x288 with 3 Axes>"
      ]
     },
     "metadata": {
      "needs_background": "light"
     },
     "output_type": "display_data"
    }
   ],
   "source": [
    "eval_priors(m_pooled_wk_informative, y_=y_train_s.log_chlor_a_s,\n",
    "            fpath='./resources/priors_predictive_pooled_wk_informative.png', ylim=(-10, 10))"
   ]
  },
  {
   "cell_type": "markdown",
   "metadata": {
    "slideshow": {
     "slide_type": "fragment"
    }
   },
   "source": [
    "<center><img src='./resources/priors_predictive_pooled_wk_informative.png?:2'></center>"
   ]
  },
  {
   "cell_type": "code",
   "execution_count": 119,
   "metadata": {
    "slideshow": {
     "slide_type": "subslide"
    }
   },
   "outputs": [],
   "source": [
    "with pm.Model() as m_pooled_informative:\n",
    "    α = pm.Normal('α', 0, 0.5) # prior on intercept\n",
    "    β = pm.Normal('β', 0, 0.2) # prior on slopes\n",
    "    σ = pm.Exponential('σ', 1) # prior on likelihood variance\n",
    "    μ = α + β * X_train_s.green2MaxBlue_s.values # likelihood's mean deterministic model\n",
    "    log_chl_s = pm.Normal('log_chl_s', mu=μ, sd=σ, observed=y_train_s.log_chlor_a_s.values) # likelihood"
   ]
  },
  {
   "cell_type": "code",
   "execution_count": 120,
   "metadata": {
    "slideshow": {
     "slide_type": "skip"
    }
   },
   "outputs": [
    {
     "data": {
      "image/png": "[encoded data removed]",
      "text/plain": [
       "<Figure size 864x288 with 3 Axes>"
      ]
     },
     "metadata": {
      "needs_background": "light"
     },
     "output_type": "display_data"
    }
   ],
   "source": [
    "eval_priors(m_pooled_informative, y_=y_train_s.log_chlor_a_s,\n",
    "            fpath='./resources/priors_predictive_pooled_informative.png', ylim=(-5, 5))"
   ]
  },
  {
   "cell_type": "markdown",
   "metadata": {
    "slideshow": {
     "slide_type": "fragment"
    }
   },
   "source": [
    "<center><img src='./resources/priors_predictive_pooled_informative.png?:3'/></center>"
   ]
  },
  {
   "cell_type": "code",
   "execution_count": 121,
   "metadata": {
    "slideshow": {
     "slide_type": "skip"
    }
   },
   "outputs": [
    {
     "name": "stderr",
     "output_type": "stream",
     "text": [
      "Auto-assigning NUTS sampler...\n",
      "Initializing NUTS using jitter+adapt_diag...\n",
      "Multiprocess sampling (2 chains in 2 jobs)\n",
      "NUTS: [σ, β, α]\n",
      "Sampling 2 chains: 100%|██████████| 6000/6000 [00:04<00:00, 1276.61draws/s]\n"
     ]
    }
   ],
   "source": [
    "with m_pooled_naive:\n",
    "    trace_pooled_naive = pm.sample(2000, tune=1000)"
   ]
  },
  {
   "cell_type": "code",
   "execution_count": 122,
   "metadata": {
    "slideshow": {
     "slide_type": "skip"
    }
   },
   "outputs": [
    {
     "data": {
      "image/png": "[encoded data removed]",
      "text/plain": [
       "<Figure size 864x180 with 2 Axes>"
      ]
     },
     "metadata": {
      "needs_background": "light"
     },
     "output_type": "display_data"
    }
   ],
   "source": [
    "pm.plot_posterior(trace=trace_pooled_naive, varnames=['α', 'β']);"
   ]
  },
  {
   "cell_type": "code",
   "execution_count": 123,
   "metadata": {
    "slideshow": {
     "slide_type": "skip"
    }
   },
   "outputs": [
    {
     "name": "stderr",
     "output_type": "stream",
     "text": [
      "Auto-assigning NUTS sampler...\n",
      "Initializing NUTS using jitter+adapt_diag...\n",
      "Multiprocess sampling (2 chains in 2 jobs)\n",
      "NUTS: [σ, β, α]\n",
      "Sampling 2 chains: 100%|██████████| 6000/6000 [00:04<00:00, 1337.94draws/s]\n"
     ]
    }
   ],
   "source": [
    "with m_pooled_wk_informative:\n",
    "    trace_pooled_wk_informative = pm.sample(2000, tune=1000)"
   ]
  },
  {
   "cell_type": "code",
   "execution_count": 124,
   "metadata": {
    "slideshow": {
     "slide_type": "skip"
    }
   },
   "outputs": [
    {
     "data": {
      "image/png": "[encoded data removed]",
      "text/plain": [
       "<Figure size 864x180 with 2 Axes>"
      ]
     },
     "metadata": {
      "needs_background": "light"
     },
     "output_type": "display_data"
    }
   ],
   "source": [
    "pm.plot_posterior(trace=trace_pooled_wk_informative, varnames=['α', 'β']);"
   ]
  },
  {
   "cell_type": "code",
   "execution_count": 125,
   "metadata": {
    "slideshow": {
     "slide_type": "subslide"
    }
   },
   "outputs": [
    {
     "name": "stderr",
     "output_type": "stream",
     "text": [
      "Auto-assigning NUTS sampler...\n",
      "Initializing NUTS using jitter+adapt_diag...\n",
      "Multiprocess sampling (2 chains in 2 jobs)\n",
      "NUTS: [σ, β, α]\n",
      "Sampling 2 chains: 100%|██████████| 6000/6000 [00:04<00:00, 1325.94draws/s]\n"
     ]
    }
   ],
   "source": [
    "with m_pooled_informative:\n",
    "    trace_pooled_informative = pm.sample(2000, tune=1000)"
   ]
  },
  {
   "cell_type": "code",
   "execution_count": 126,
   "metadata": {
    "slideshow": {
     "slide_type": "fragment"
    }
   },
   "outputs": [
    {
     "data": {
      "image/png": "[encoded data removed]",
      "text/plain": [
       "<Figure size 864x180 with 2 Axes>"
      ]
     },
     "metadata": {
      "needs_background": "light"
     },
     "output_type": "display_data"
    }
   ],
   "source": [
    "pm.plot_posterior(trace=trace_pooled_informative, varnames=['α', 'β']);"
   ]
  },
  {
   "cell_type": "code",
   "execution_count": 130,
   "metadata": {
    "slideshow": {
     "slide_type": "skip"
    }
   },
   "outputs": [
    {
     "name": "stderr",
     "output_type": "stream",
     "text": [
      "100%|██████████| 4000/4000 [00:03<00:00, 1139.48it/s]\n"
     ]
    }
   ],
   "source": [
    "ppc = pm.sample_posterior_predictive(trace_pooled_informative,\n",
    "                                     model=m_pooled_informative)['log_chl_s']\n",
    "ppc_mean = ppc.mean(axis=0)\n",
    "hpd = pm.hpd(ppc)"
   ]
  },
  {
   "cell_type": "code",
   "execution_count": 135,
   "metadata": {
    "slideshow": {
     "slide_type": "skip"
    }
   },
   "outputs": [
    {
     "data": {
      "image/png": "[encoded data removed]",
      "text/plain": [
       "<Figure size 432x504 with 1 Axes>"
      ]
     },
     "metadata": {
      "needs_background": "light"
     },
     "output_type": "display_data"
    }
   ],
   "source": [
    "x_idx = X_train_s.green2MaxBlue_s.argsort()\n",
    "\n",
    "f, ax = pl.subplots(figsize=(6, 7))\n",
    "ax.plot(X_train_s.green2MaxBlue_s.values[x_idx],ppc_mean[x_idx], label='prediction mean')\n",
    "ar.plot_hpd(X_train_s.green2MaxBlue_s, ppc, fill_kwargs=dict(alpha=0.3, color='k', \n",
    "                                                    label='94%CI'),\n",
    "            credible_interval=0.94, ax=ax)\n",
    "ar.plot_hpd(X_train_s.green2MaxBlue_s, ppc, fill_kwargs=dict(alpha=0.7, color='k',\n",
    "                                                    label='53%CI'),\n",
    "            credible_interval=0.53, ax=ax)\n",
    "ax.scatter(X_test_s.green2MaxBlue_s.values, y_test_s, color='orange', edgecolor='k',\n",
    "           label='out-of-sample obs')\n",
    "ax.legend(loc='upper left')\n",
    "f.savefig('./resources/ppc_informative.png', dpi=300)"
   ]
  },
  {
   "cell_type": "markdown",
   "metadata": {
    "slideshow": {
     "slide_type": "subslide"
    }
   },
   "source": [
    "<center><img src=\"./resources/ppc_informative.png?:1\"  width=600 /></center>"
   ]
  },
  {
   "cell_type": "code",
   "execution_count": null,
   "metadata": {},
   "outputs": [],
   "source": []
  }
 ],
 "metadata": {
  "celltoolbar": "Slideshow",
  "kernelspec": {
   "display_name": "Python 3",
   "language": "python",
   "name": "python3"
  },
  "language_info": {
   "codemirror_mode": {
    "name": "ipython",
    "version": 3
   },
   "file_extension": ".py",
   "mimetype": "text/x-python",
   "name": "python",
   "nbconvert_exporter": "python",
   "pygments_lexer": "ipython3",
   "version": "3.7.1"
  }
 },
 "nbformat": 4,
 "nbformat_minor": 2
}
