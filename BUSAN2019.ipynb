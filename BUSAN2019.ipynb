{
 "cells": [
  {
   "cell_type": "markdown",
   "metadata": {},
   "source": [
    "## Open Source Tools For Rapid Statistical Model Development"
   ]
  },
  {
   "cell_type": "markdown",
   "metadata": {},
   "source": [
    "### Overview\n",
    "* Catching up with Probabilistic Programming\n",
    "* Plan models -- causalgraphicalmodels\n",
    "* Loading Data -- PANDAS\n",
    "* Preparing Data -- PANDAS, Seaborn, Scikit-learn\n",
    "* Rapid Model Development -- PyMC3\n",
    "* Beyond the Basics"
   ]
  },
  {
   "cell_type": "markdown",
   "metadata": {},
   "source": [
    "### Notebook Content:\n",
    "1. [PP Overview](#Overview)\n",
    "    1. PP as modeling framework\n",
    "    2. Emphasis on generalizing predictive models\n",
    "1. [Plan modeling](#ModelPlan)\n",
    "2. [Loading NASA's SEABASS Data](#DataLoad)\n",
    "3. [Prepare Data for Modeling](#DataPrep)\n",
    "4. [Bayesian Modelling](#PyMC3)\n",
    "   1. [Model coding](#writemodel)\n",
    "   2. [Prior evaluation & Model modification](#priors)\n",
    "   3. [Model fitting & diagnostics](#fit)\n",
    "   4. [Model Evaluation](#eval)\n",
    "       1. [PPC](#ppc)\n",
    "       2. [Out-of-sample (test set) performance](#test)\n",
    "           1. [Usual suspects; $r^2$, $mae$](#mae)\n",
    "           2. [Unusual suspect: $deviance$](#deviance)\n",
    "           3. [Approximating test set performance; WAIC](#waic)\n",
    "5. [Conclusion](Conclusion)"
   ]
  },
  {
   "cell_type": "code",
   "execution_count": 5,
   "metadata": {},
   "outputs": [],
   "source": [
    "import sys\n",
    "\n",
    "import pandas as pd\n",
    "import seaborn as sb\n",
    "import pymc3 as pm\n",
    "import arviz as ar\n",
    "from matplotlib import rcParams"
   ]
  },
  {
   "cell_type": "code",
   "execution_count": 2,
   "metadata": {},
   "outputs": [],
   "source": [
    "rcParams['axes.formatter.limits'] = (-2, 3)\n",
    "rcParams['axes.titlesize'] = 18\n",
    "rcParams['axes.labelsize'] = 16\n",
    "rcParams['font.size'] = 16\n",
    "rcParams['ytick.labelsize'] = 16\n",
    "rcParams['xtick.labelsize'] = 16\n",
    "rcParams['legend.fontsize'] = 16\n",
    "rcParams['xtick.minor.visible'] = True"
   ]
  },
  {
   "cell_type": "code",
   "execution_count": 13,
   "metadata": {},
   "outputs": [
    {
     "name": "stdout",
     "output_type": "stream",
     "text": [
      "Python: version 3.7.1 \n",
      "PanDaS version 0.24.1\n",
      "Seaborn version 0.9.0\n",
      "PyMC3 version 3.6\n"
     ]
    }
   ],
   "source": [
    "print(f'Python: version {sys.version.split(\"|\")[0]}')\n",
    "print(f'PanDaS version {pd.__version__}')\n",
    "print(f'Seaborn version {sb.__version__}')\n",
    "print(f'PyMC3 version {pm.__version__}')"
   ]
  },
  {
   "cell_type": "code",
   "execution_count": 8,
   "metadata": {
    "collapsed": true
   },
   "outputs": [],
   "source": [
    "% matplotlib inline"
   ]
  },
  {
   "cell_type": "markdown",
   "metadata": {},
   "source": [
    "### Loading and preparing data -- PANDAS\n",
    "* the nomad dataset\n",
    "* reading in \n",
    "* get column names\n",
    "* extract desired variables\n",
    "\n",
    "### Data Exploration -- PANDAS, Seaborn and Scikit-Learn\n",
    "* predictor isolated distributions\n",
    "* plotting predictors/predicted w/ respect to each other\n",
    "* predictor correlation, multicollinearity and pca\n",
    "\n",
    "### Modeling -- Probabilistic Programming with PyMC3\n",
    "* simple bayesian regression to predict chlorophyll from Rrs\n",
    "* rapid but transparent model development\n",
    "* evaluation of priors\n",
    "* fitting and evaluation of posterior distribution\n",
    "* model comparison/selection"
   ]
  },
  {
   "cell_type": "markdown",
   "metadata": {},
   "source": []
  }
 ],
 "metadata": {
  "kernelspec": {
   "display_name": "Python 3",
   "language": "python",
   "name": "python3"
  },
  "language_info": {
   "codemirror_mode": {
    "name": "ipython",
    "version": 3
   },
   "file_extension": ".py",
   "mimetype": "text/x-python",
   "name": "python",
   "nbconvert_exporter": "python",
   "pygments_lexer": "ipython3",
   "version": "3.7.1"
  }
 },
 "nbformat": 4,
 "nbformat_minor": 2
}
