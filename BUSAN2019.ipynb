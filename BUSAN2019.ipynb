{
 "cells": [
  {
   "cell_type": "markdown",
   "metadata": {
    "slideshow": {
     "slide_type": "slide"
    }
   },
   "source": [
    "## Probabilistic Programming Workflow\n",
    "\n",
    "### Open Source Tools For Rapid Statistical (Bayesian) Model Development"
   ]
  },
  {
   "cell_type": "markdown",
   "metadata": {
    "slideshow": {
     "slide_type": "slide"
    }
   },
   "source": [
    "### Overview\n",
    "* Catching up with Probabilistic Programming\n",
    "* Plan models -- causalgraphicalmodels\n",
    "* Loading Data -- PanDaS\n",
    "* Preparing Data -- PanDaS, Seaborn, Scikit-learn\n",
    "* Rapid Model Development -- PyMC3\n",
    "* Beyond the Basics"
   ]
  },
  {
   "cell_type": "markdown",
   "metadata": {
    "slideshow": {
     "slide_type": "slide"
    }
   },
   "source": [
    "<a id='TOP'></a>\n",
    "### Notebook Content:\n",
    "1. [PP Overview](#Overview)\n",
    "    1. PP as modeling framework\n",
    "    2. Emphasis on generalizing predictive models\n",
    "1. [Plan modeling](#ModelPlan)\n",
    "2. [Loading Field Data](#DataLoad)\n",
    "3. [Prepare Data for Modeling](#DataPrep)\n",
    "4. [Bayesian Modelling](#PyMC3)\n",
    "   1. [Model coding](#writemodel)\n",
    "   2. [Prior evaluation & Model modification](#priors)\n",
    "   3. [Model fitting & diagnostics](#fit)\n",
    "   4. [Model Evaluation](#eval)\n",
    "       1. [Deviance](#deviance)\n",
    "       2. [Approximation by WAIC](#waic)\n",
    "5. [Conclusion](Conclusion)"
   ]
  },
  {
   "cell_type": "code",
   "execution_count": 1,
   "metadata": {
    "slideshow": {
     "slide_type": "subslide"
    }
   },
   "outputs": [],
   "source": [
    "# STL\n",
    "import os\n",
    "import pickle\n",
    "import sys\n",
    "\n",
    "# numerical libraries\n",
    "import numpy as np\n",
    "import pandas as pd\n",
    "import pymc3 as pm\n",
    "from sklearn.decomposition import PCA\n",
    "from sklearn.metrics import mean_absolute_error as mae_score\n",
    "from sklearn.metrics import r2_score\n",
    "from sklearn.model_selection import train_test_split\n",
    "from sklearn.preprocessing import StandardScaler\n",
    "from theano import shared\n",
    "\n",
    "\n",
    "# graphic facilities\n",
    "import matplotlib.pyplot as pl\n",
    "from matplotlib import rcParams\n",
    "import seaborn as sb"
   ]
  },
  {
   "cell_type": "code",
   "execution_count": 2,
   "metadata": {
    "slideshow": {
     "slide_type": "skip"
    }
   },
   "outputs": [],
   "source": [
    "# NOTEBOOK-WIDE Graphical settings\n",
    "rcParams['axes.formatter.limits'] = (-2, 3)\n",
    "rcParams['axes.titlesize'] = 18\n",
    "rcParams['axes.labelsize'] = 16\n",
    "rcParams['font.size'] = 16\n",
    "rcParams['ytick.labelsize'] = 16\n",
    "rcParams['xtick.labelsize'] = 16\n",
    "rcParams['legend.fontsize'] = 16\n",
    "rcParams['xtick.minor.visible'] = True"
   ]
  },
  {
   "cell_type": "code",
   "execution_count": 3,
   "metadata": {
    "slideshow": {
     "slide_type": "subslide"
    }
   },
   "outputs": [
    {
     "name": "stdout",
     "output_type": "stream",
     "text": [
      "Python: version 3.6.8 \n",
      "PanDaS version 0.24.1\n",
      "Seaborn version 0.9.0\n",
      "PyMC3 version 3.6\n"
     ]
    }
   ],
   "source": [
    "print(f'Python: version {sys.version.split(\"|\")[0]}')\n",
    "print(f'PanDaS version {pd.__version__}')\n",
    "print(f'Seaborn version {sb.__version__}')\n",
    "print(f'PyMC3 version {pm.__version__}')"
   ]
  },
  {
   "cell_type": "code",
   "execution_count": 4,
   "metadata": {
    "slideshow": {
     "slide_type": "skip"
    }
   },
   "outputs": [],
   "source": [
    "%matplotlib inline"
   ]
  },
  {
   "cell_type": "markdown",
   "metadata": {
    "slideshow": {
     "slide_type": "skip"
    }
   },
   "source": [
    "### Loading and preparing data -- PANDAS\n",
    "* the nomad dataset\n",
    "* reading in \n",
    "* get column names\n",
    "* extract desired variables\n",
    "\n",
    "### Data Exploration -- PANDAS, Seaborn and Scikit-Learn\n",
    "* predictor isolated distributions\n",
    "* plotting predictors/predicted w/ respect to each other\n",
    "* predictor correlation, multicollinearity and pca\n",
    "\n",
    "### Modeling -- Probabilistic Programming with PyMC3\n",
    "* simple bayesian regression to predict chlorophyll from Rrs\n",
    "* rapid but transparent model development\n",
    "* evaluation of priors\n",
    "* fitting and evaluation of posterior distribution\n",
    "* model comparison/selection"
   ]
  },
  {
   "cell_type": "markdown",
   "metadata": {
    "slideshow": {
     "slide_type": "slide"
    }
   },
   "source": [
    "<a id=DataLoad></a>\n",
    "## 2. \"<u>Loading Field Data</u>\n",
    "<br>\n",
    "<span style=\"font-size:16pt\">$\\ \\ \\ \\Rightarrow$ NOMAD SeaWiFS validation match-up distribution</span><br>\n",
    "<img src='./resources/nomad_seabass_v1_seawifs_map.png' width=600 title=\"NOMAD SeaWiFS validation match-up distribution\"/>"
   ]
  },
  {
   "cell_type": "markdown",
   "metadata": {
    "slideshow": {
     "slide_type": "subslide"
    }
   },
   "source": [
    "<span style=\"font-size:16pt\">$\\Rightarrow$   <u>Predictors</u></span>\n",
    "* sat_rrs  ~ satellite remote-sensing reflectance (sr-1)\n",
    "* etopo2 ~ NGDC ETOPO2 water depth (meters)\n",
    "* oisst    ~ optimal interpolation (OI) sea surface temperature (SST) (degrees C)\n",
    "---\n",
    "<span style=\"font-size:16pt\">$\\Rightarrow$   <u>Predicted</u></span>\n",
    "* chl ~ fluorometric chlorophyll a"
   ]
  },
  {
   "cell_type": "markdown",
   "metadata": {
    "slideshow": {
     "slide_type": "skip"
    }
   },
   "source": [
    "<u>Other</u>\n",
    "* id ~ NOMAD record identifier (unitless)"
   ]
  },
  {
   "cell_type": "markdown",
   "metadata": {
    "slideshow": {
     "slide_type": "subslide"
    }
   },
   "source": [
    "<span style=\"font-size:16pt\">$\\Rightarrow$   <u>File content</u></span>\n",
    "<br><br>\n",
    "/fields=year,month,day,hour,minute,second,lat,lon,id,oisst,etopo2,chl,chl_a,kd405,kd411,kd443,kd<br>\n",
    "...<br>\n",
    "_rrs490,sat_rrs510,sat_rrs555,sat_rrs670,sat_file,tdiff,solz,senz,cv,valid<br>\n",
    "/units=-999<br>\n",
    "/end_header<br>\n",
    "1997,10,07,09,41,00,42.51,39.52,4065,19.54,1982,0.401,-999,-999,-999,-999,-999,-999,-999,-999,-999,-999,..."
   ]
  },
  {
   "cell_type": "code",
   "execution_count": 5,
   "metadata": {
    "slideshow": {
     "slide_type": "subslide"
    }
   },
   "outputs": [],
   "source": [
    "with open('./nomad_seawifs_v1.3_2005262.txt') as f:\n",
    "    for i, line in enumerate(f.readlines()):\n",
    "        if 'fields' in line:\n",
    "            # collect column labels\n",
    "            col_names = line.strip('/fields=').strip().split(',') \n",
    "        if '/end_header' in line:\n",
    "            # record rows to skip\n",
    "            rowskips = i+1 # i is 0-indexed\n",
    "            break"
   ]
  },
  {
   "cell_type": "code",
   "execution_count": 6,
   "metadata": {
    "slideshow": {
     "slide_type": "subslide"
    }
   },
   "outputs": [],
   "source": [
    "df = pd.read_csv('./nomad_seawifs_v1.3_2005262.txt', header=None,\n",
    "                 names=col_names, skiprows=rowskips, na_values=-999)"
   ]
  },
  {
   "cell_type": "code",
   "execution_count": 7,
   "metadata": {
    "slideshow": {
     "slide_type": "fragment"
    }
   },
   "outputs": [
    {
     "name": "stdout",
     "output_type": "stream",
     "text": [
      "<class 'pandas.core.frame.DataFrame'>\n",
      "RangeIndex: 292 entries, 0 to 291\n",
      "Columns: 169 entries, year to valid\n",
      "dtypes: float64(157), int64(10), object(2)\n",
      "memory usage: 385.6+ KB\n"
     ]
    }
   ],
   "source": [
    "df.info()"
   ]
  },
  {
   "cell_type": "code",
   "execution_count": 8,
   "metadata": {
    "slideshow": {
     "slide_type": "subslide"
    }
   },
   "outputs": [
    {
     "data": {
      "text/html": [
       "<div>\n",
       "<style scoped>\n",
       "    .dataframe tbody tr th:only-of-type {\n",
       "        vertical-align: middle;\n",
       "    }\n",
       "\n",
       "    .dataframe tbody tr th {\n",
       "        vertical-align: top;\n",
       "    }\n",
       "\n",
       "    .dataframe thead th {\n",
       "        text-align: right;\n",
       "    }\n",
       "</style>\n",
       "<table border=\"1\" class=\"dataframe\">\n",
       "  <thead>\n",
       "    <tr style=\"text-align: right;\">\n",
       "      <th></th>\n",
       "      <th>year</th>\n",
       "      <th>month</th>\n",
       "      <th>day</th>\n",
       "      <th>hour</th>\n",
       "      <th>minute</th>\n",
       "      <th>second</th>\n",
       "      <th>lat</th>\n",
       "      <th>lon</th>\n",
       "      <th>id</th>\n",
       "      <th>oisst</th>\n",
       "      <th>...</th>\n",
       "      <th>sat_rrs490</th>\n",
       "      <th>sat_rrs510</th>\n",
       "      <th>sat_rrs555</th>\n",
       "      <th>sat_rrs670</th>\n",
       "      <th>sat_file</th>\n",
       "      <th>tdiff</th>\n",
       "      <th>solz</th>\n",
       "      <th>senz</th>\n",
       "      <th>cv</th>\n",
       "      <th>valid</th>\n",
       "    </tr>\n",
       "  </thead>\n",
       "  <tbody>\n",
       "    <tr>\n",
       "      <th>0</th>\n",
       "      <td>1997</td>\n",
       "      <td>10</td>\n",
       "      <td>7</td>\n",
       "      <td>9</td>\n",
       "      <td>41</td>\n",
       "      <td>0</td>\n",
       "      <td>42.51</td>\n",
       "      <td>39.52</td>\n",
       "      <td>4065</td>\n",
       "      <td>19.54</td>\n",
       "      <td>...</td>\n",
       "      <td>0.00345</td>\n",
       "      <td>0.00297</td>\n",
       "      <td>0.00217</td>\n",
       "      <td>0.00026</td>\n",
       "      <td>S1997280094210.L1A_GAC</td>\n",
       "      <td>480</td>\n",
       "      <td>49.0</td>\n",
       "      <td>25.4</td>\n",
       "      <td>0.2098</td>\n",
       "      <td>0</td>\n",
       "    </tr>\n",
       "    <tr>\n",
       "      <th>1</th>\n",
       "      <td>1997</td>\n",
       "      <td>10</td>\n",
       "      <td>11</td>\n",
       "      <td>9</td>\n",
       "      <td>32</td>\n",
       "      <td>0</td>\n",
       "      <td>39.29</td>\n",
       "      <td>25.11</td>\n",
       "      <td>4069</td>\n",
       "      <td>19.57</td>\n",
       "      <td>...</td>\n",
       "      <td>0.00494</td>\n",
       "      <td>0.00348</td>\n",
       "      <td>0.00191</td>\n",
       "      <td>0.00018</td>\n",
       "      <td>S1997284110315.L1A_MLAC</td>\n",
       "      <td>5880</td>\n",
       "      <td>48.7</td>\n",
       "      <td>37.8</td>\n",
       "      <td>0.1043</td>\n",
       "      <td>1</td>\n",
       "    </tr>\n",
       "  </tbody>\n",
       "</table>\n",
       "<p>2 rows × 169 columns</p>\n",
       "</div>"
      ],
      "text/plain": [
       "   year  month  day  hour  minute  second    lat    lon    id  oisst  ...  \\\n",
       "0  1997     10    7     9      41       0  42.51  39.52  4065  19.54  ...   \n",
       "1  1997     10   11     9      32       0  39.29  25.11  4069  19.57  ...   \n",
       "\n",
       "   sat_rrs490  sat_rrs510  sat_rrs555  sat_rrs670                 sat_file  \\\n",
       "0     0.00345     0.00297     0.00217     0.00026   S1997280094210.L1A_GAC   \n",
       "1     0.00494     0.00348     0.00191     0.00018  S1997284110315.L1A_MLAC   \n",
       "\n",
       "   tdiff  solz  senz      cv  valid  \n",
       "0    480  49.0  25.4  0.2098      0  \n",
       "1   5880  48.7  37.8  0.1043      1  \n",
       "\n",
       "[2 rows x 169 columns]"
      ]
     },
     "execution_count": 8,
     "metadata": {},
     "output_type": "execute_result"
    }
   ],
   "source": [
    "df.head(2)"
   ]
  },
  {
   "cell_type": "markdown",
   "metadata": {
    "slideshow": {
     "slide_type": "slide"
    }
   },
   "source": [
    "<a id=DataPrep></a>\n",
    "## 3. <u>Data Preparation</u>\n",
    "<br>"
   ]
  },
  {
   "cell_type": "markdown",
   "metadata": {
    "slideshow": {
     "slide_type": "subslide"
    }
   },
   "source": [
    "#### Consolidating date/time data into datetime objects"
   ]
  },
  {
   "cell_type": "code",
   "execution_count": 9,
   "metadata": {
    "slideshow": {
     "slide_type": "fragment"
    }
   },
   "outputs": [],
   "source": [
    "date_time_columns = ['year', 'month', 'day', 'hour', 'minute', 'second']\n",
    "df.insert(0, 'datetime', pd.to_datetime(df[date_time_columns],\n",
    "                                        format='%Y-%m-%d %H:%M:%S'))\n",
    "df.drop(date_time_columns, axis=1, inplace=True)"
   ]
  },
  {
   "cell_type": "code",
   "execution_count": 10,
   "metadata": {
    "slideshow": {
     "slide_type": "subslide"
    }
   },
   "outputs": [
    {
     "data": {
      "image/png": "[encoded data removed]",
      "text/plain": [
       "<Figure size 432x288 with 1 Axes>"
      ]
     },
     "metadata": {},
     "output_type": "display_data"
    }
   ],
   "source": [
    "ax = df.datetime.dt.month_name().value_counts().plot(kind='bar')\n",
    "ax.set_ylabel('Freq.');"
   ]
  },
  {
   "cell_type": "markdown",
   "metadata": {
    "slideshow": {
     "slide_type": "subslide"
    }
   },
   "source": [
    "#### Consolidating hplc/fluo chlorophyll data"
   ]
  },
  {
   "cell_type": "code",
   "execution_count": 11,
   "metadata": {
    "slideshow": {
     "slide_type": "subslide"
    }
   },
   "outputs": [
    {
     "name": "stdout",
     "output_type": "stream",
     "text": [
      "<class 'pandas.core.frame.DataFrame'>\n",
      "RangeIndex: 292 entries, 0 to 291\n",
      "Data columns (total 2 columns):\n",
      "chl      262 non-null float64\n",
      "chl_a    33 non-null float64\n",
      "dtypes: float64(2)\n",
      "memory usage: 4.6 KB\n"
     ]
    }
   ],
   "source": [
    "# two types of chlorophyll a:\n",
    "df.filter(regex='chl', axis=1).info()\n",
    "# chl: obtained by fluorometry\n",
    "# chl_a: obtained by hplc"
   ]
  },
  {
   "cell_type": "code",
   "execution_count": 13,
   "metadata": {
    "slideshow": {
     "slide_type": "subslide"
    }
   },
   "outputs": [],
   "source": [
    "def fill_chl(row):\n",
    "    return row['chl_a'] if np.isfinite(row['chl_a']) else row['chl']"
   ]
  },
  {
   "cell_type": "code",
   "execution_count": 14,
   "metadata": {
    "slideshow": {
     "slide_type": "fragment"
    }
   },
   "outputs": [],
   "source": [
    "# fill consolidated chlor_a column with chl_a (hplc) when possible, chl (fluo) otherwise\n",
    "df['chlor_a'] = df.apply(fill_chl, axis=1)"
   ]
  },
  {
   "cell_type": "code",
   "execution_count": 15,
   "metadata": {
    "slideshow": {
     "slide_type": "fragment"
    }
   },
   "outputs": [],
   "source": [
    "# Flag chlor_a measurement type; hplc/fluo \n",
    "df['is_hplc'] = np.isfinite(df.chl_a)"
   ]
  },
  {
   "cell_type": "code",
   "execution_count": 14,
   "metadata": {
    "slideshow": {
     "slide_type": "subslide"
    }
   },
   "outputs": [
    {
     "name": "stdout",
     "output_type": "stream",
     "text": [
      "<class 'pandas.core.frame.DataFrame'>\n",
      "RangeIndex: 292 entries, 0 to 291\n",
      "Data columns (total 3 columns):\n",
      "chl        262 non-null float64\n",
      "chl_a      33 non-null float64\n",
      "chlor_a    292 non-null float64\n",
      "dtypes: float64(3)\n",
      "memory usage: 6.9 KB\n"
     ]
    }
   ],
   "source": [
    "df.filter(regex='chl', axis=1).info()"
   ]
  },
  {
   "cell_type": "code",
   "execution_count": 17,
   "metadata": {
    "slideshow": {
     "slide_type": "skip"
    }
   },
   "outputs": [],
   "source": [
    "# assign Nan to negative depths\n",
    "df.loc[df.etopo2<=0, 'etopo2'] = np.NaN"
   ]
  },
  {
   "cell_type": "code",
   "execution_count": 16,
   "metadata": {
    "slideshow": {
     "slide_type": "subslide"
    }
   },
   "outputs": [],
   "source": [
    "# Preprocess satellite data\n",
    "df_sat = df.filter(regex='sat_rrs', axis=1).copy()\n",
    "# Invalidate negative readings\n",
    "df_sat[df_sat<=0] = np.NaN\n",
    "# Log-transform rrs\n",
    "df_log_sat = pd.DataFrame(np.log10(df_sat.values),\n",
    "                          columns=[f'log_{col}' for col in df_sat.columns]\n",
    "                         )"
   ]
  },
  {
   "cell_type": "code",
   "execution_count": null,
   "metadata": {
    "slideshow": {
     "slide_type": "subslide"
    }
   },
   "outputs": [],
   "source": [
    "# Preprocess \n",
    "df_extr = df[['oisst']].merge(df_log_sat,\n",
    "                                  right_index=True,\n",
    "                                  left_index=True)"
   ]
  },
  {
   "cell_type": "code",
   "execution_count": 18,
   "metadata": {
    "slideshow": {
     "slide_type": "fragment"
    }
   },
   "outputs": [],
   "source": [
    "df_extr['coastal'] = df.etopo2<=30\n",
    "df_extr['coastal'] = df_extr.coastal.astype('category').cat.codes.astype('int')\n",
    "df_extr['log_chlor_a'] = np.log10(df.chlor_a.values)"
   ]
  },
  {
   "cell_type": "code",
   "execution_count": 19,
   "metadata": {
    "slideshow": {
     "slide_type": "subslide"
    }
   },
   "outputs": [
    {
     "name": "stdout",
     "output_type": "stream",
     "text": [
      "<class 'pandas.core.frame.DataFrame'>\n",
      "RangeIndex: 292 entries, 0 to 291\n",
      "Data columns (total 9 columns):\n",
      "oisst             292 non-null float64\n",
      "log_sat_rrs412    276 non-null float64\n",
      "log_sat_rrs443    285 non-null float64\n",
      "log_sat_rrs490    291 non-null float64\n",
      "log_sat_rrs510    292 non-null float64\n",
      "log_sat_rrs555    292 non-null float64\n",
      "log_sat_rrs670    281 non-null float64\n",
      "coastal           292 non-null int64\n",
      "log_chlor_a       292 non-null float64\n",
      "dtypes: float64(8), int64(1)\n",
      "memory usage: 20.6 KB\n"
     ]
    }
   ],
   "source": [
    "df_extr.info()"
   ]
  },
  {
   "cell_type": "markdown",
   "metadata": {
    "slideshow": {
     "slide_type": "subslide"
    }
   },
   "source": [
    "### Splitting data into training & testing sets"
   ]
  },
  {
   "cell_type": "code",
   "execution_count": 20,
   "metadata": {
    "slideshow": {
     "slide_type": "fragment"
    }
   },
   "outputs": [],
   "source": [
    "X = df_extr.loc[:, :'coastal']\n",
    "y = df_extr.loc[:, ['log_chlor_a']] # extra brackets to retain DataFrame type"
   ]
  },
  {
   "cell_type": "code",
   "execution_count": 21,
   "metadata": {
    "slideshow": {
     "slide_type": "fragment"
    }
   },
   "outputs": [],
   "source": [
    "from sklearn.model_selection import train_test_split\n",
    "X_train, X_test, y_train, y_test = train_test_split(X, y, test_size=0.25,\n",
    "                                                    stratify=X.coastal)"
   ]
  },
  {
   "cell_type": "code",
   "execution_count": 22,
   "metadata": {
    "slideshow": {
     "slide_type": "subslide"
    }
   },
   "outputs": [
    {
     "data": {
      "text/plain": [
       "0    67.808219\n",
       "1    32.191781\n",
       "Name: coastal, dtype: float64"
      ]
     },
     "execution_count": 22,
     "metadata": {},
     "output_type": "execute_result"
    }
   ],
   "source": [
    "X.coastal.value_counts(normalize=True)*100"
   ]
  },
  {
   "cell_type": "code",
   "execution_count": 23,
   "metadata": {
    "slideshow": {
     "slide_type": "fragment"
    }
   },
   "outputs": [
    {
     "data": {
      "text/plain": [
       "0    67.579909\n",
       "1    32.420091\n",
       "Name: coastal, dtype: float64"
      ]
     },
     "execution_count": 23,
     "metadata": {},
     "output_type": "execute_result"
    }
   ],
   "source": [
    "X_train.coastal.value_counts(normalize=True)*100"
   ]
  },
  {
   "cell_type": "code",
   "execution_count": 24,
   "metadata": {
    "slideshow": {
     "slide_type": "fragment"
    }
   },
   "outputs": [
    {
     "data": {
      "text/plain": [
       "0    68.493151\n",
       "1    31.506849\n",
       "Name: coastal, dtype: float64"
      ]
     },
     "execution_count": 24,
     "metadata": {},
     "output_type": "execute_result"
    }
   ],
   "source": [
    "X_test.coastal.value_counts(normalize=True)*100"
   ]
  },
  {
   "cell_type": "code",
   "execution_count": 25,
   "metadata": {
    "slideshow": {
     "slide_type": "skip"
    }
   },
   "outputs": [
    {
     "data": {
      "image/png": "[encoded data removed]",
      "text/plain": [
       "<Figure size 967.85x900 with 30 Axes>"
      ]
     },
     "metadata": {
      "needs_background": "light"
     },
     "output_type": "display_data"
    }
   ],
   "source": [
    "g = sb.pairplot(df_extr.iloc[X_train.index], hue='coastal', vars=['oisst', 'log_sat_rrs443',\n",
    "                                              'log_sat_rrs490', 'log_sat_rrs670',\n",
    "                                             'log_chlor_a'])\n",
    "# mask upper triangle for readability\n",
    "for i, j in zip(*np.triu_indices_from(g.axes, 1)):\n",
    "    g.axes[i, j].set_visible(False)\n",
    "#f = pl.gcf()\n",
    "g.savefig('./resources/pairgrid.png', dpi=300)"
   ]
  },
  {
   "cell_type": "markdown",
   "metadata": {
    "slideshow": {
     "slide_type": "subslide"
    }
   },
   "source": [
    "<img src='./resources/pairgrid.png?:2'/>"
   ]
  },
  {
   "cell_type": "code",
   "execution_count": 203,
   "metadata": {
    "slideshow": {
     "slide_type": "skip"
    }
   },
   "outputs": [],
   "source": [
    "def make_heatmap(input_, figsize=(6, 5), **heatmap_kwargs):\n",
    "    f, ax = pl.subplots(figsize=figsize)\n",
    "    ax.set_facecolor('k')\n",
    "    corr_mat = input_.dropna().corr().iloc[1:, :-1]\n",
    "    sb.heatmap(corr_mat, ax=ax, vmin=-1, vmax=1, \n",
    "               mask=np.triu(np.ones(corr_mat.shape),k=1), cmap='RdBu', fmt='.2f',\n",
    "               annot=True, **heatmap_kwargs)\n",
    "    return f"
   ]
  },
  {
   "cell_type": "code",
   "execution_count": 27,
   "metadata": {
    "slideshow": {
     "slide_type": "skip"
    }
   },
   "outputs": [
    {
     "data": {
      "image/png": "[encoded data removed]",
      "text/plain": [
       "<Figure size 432x360 with 2 Axes>"
      ]
     },
     "metadata": {
      "needs_background": "light"
     },
     "output_type": "display_data"
    }
   ],
   "source": [
    "f = make_heatmap(X_train, filter_='rrs')\n",
    "f.tight_layout()\n",
    "f.savefig('./resources/heatmap_train.png')"
   ]
  },
  {
   "cell_type": "code",
   "execution_count": 28,
   "metadata": {
    "slideshow": {
     "slide_type": "skip"
    }
   },
   "outputs": [
    {
     "data": {
      "image/png": "[encoded data removed]",
      "text/plain": [
       "<Figure size 432x360 with 2 Axes>"
      ]
     },
     "metadata": {
      "needs_background": "light"
     },
     "output_type": "display_data"
    }
   ],
   "source": [
    "f = make_heatmap(X_test, filter_='rrs')\n",
    "f.tight_layout()\n",
    "f.savefig('./resources/heatmap_test.png')"
   ]
  },
  {
   "cell_type": "markdown",
   "metadata": {
    "slideshow": {
     "slide_type": "subslide"
    }
   },
   "source": [
    "<img src='./resources/heatmap_train.png?:2'/>"
   ]
  },
  {
   "cell_type": "markdown",
   "metadata": {
    "slideshow": {
     "slide_type": "subslide"
    }
   },
   "source": [
    "### Computing Principle Components\n",
    "\n",
    "* parameterize PCA transformer using training set\n",
    "* compute principle components for training set\n",
    "* compute principle components for testing set with the same PCA transformer"
   ]
  },
  {
   "cell_type": "code",
   "execution_count": 29,
   "metadata": {
    "slideshow": {
     "slide_type": "subslide"
    }
   },
   "outputs": [],
   "source": [
    "# Isolate Rrs data in both training and test sets\n",
    "X_train_rrs = X_train.filter(regex='rrs', axis=1).dropna()\n",
    "X_test_rrs = X_test.filter(regex='rrs', axis=1).dropna()\n",
    "\n",
    "# Instantiate PCA transformers\n",
    "pca_transformer = PCA()"
   ]
  },
  {
   "cell_type": "code",
   "execution_count": 30,
   "metadata": {
    "slideshow": {
     "slide_type": "fragment"
    }
   },
   "outputs": [],
   "source": [
    "# parameterize transformer while rotating training data\n",
    "X_train_pca = pca_transformer.fit_transform(X=X_train_rrs)\n",
    "\n",
    "# apply same transformation to test set\n",
    "X_test_pca = pca_transformer.transform(X=X_test_rrs)"
   ]
  },
  {
   "cell_type": "code",
   "execution_count": 31,
   "metadata": {
    "slideshow": {
     "slide_type": "skip"
    }
   },
   "outputs": [],
   "source": [
    "X_train_pca = pd.DataFrame(X_train_pca,\n",
    "                           columns=[f'PC{i}' for i in range(1, X_train_pca.shape[1]+1)],\n",
    "                           index=X_train_rrs.index)\n",
    "X_test_pca =  pd.DataFrame(X_test_pca, \n",
    "                           columns=[f'PC{i}' for i in range(1, X_test_pca.shape[1]+1)],\n",
    "                           index=X_test_rrs.index)"
   ]
  },
  {
   "cell_type": "code",
   "execution_count": 32,
   "metadata": {
    "slideshow": {
     "slide_type": "skip"
    }
   },
   "outputs": [
    {
     "data": {
      "image/png": "[encoded data removed]",
      "text/plain": [
       "<Figure size 648x576 with 2 Axes>"
      ]
     },
     "metadata": {
      "needs_background": "light"
     },
     "output_type": "display_data"
    }
   ],
   "source": [
    "rrs_pc = X_train_rrs.merge(X_train_pca, how='outer',\n",
    "                                left_index=True, right_index=True)\n",
    "f = make_heatmap(rrs_pc, figsize=(9, 8))\n",
    "f.tight_layout()\n",
    "f.savefig('./resources/heatmap_x_train_pca.png', dpi=300)"
   ]
  },
  {
   "cell_type": "markdown",
   "metadata": {},
   "source": [
    "<img src='./resources/heatmap_x_train_pca.png?:3' width=600 />"
   ]
  },
  {
   "cell_type": "code",
   "execution_count": 33,
   "metadata": {
    "slideshow": {
     "slide_type": "skip"
    }
   },
   "outputs": [],
   "source": [
    "X_train_pca = X_train_pca.merge(X_train[['oisst', 'coastal']], how='outer',\n",
    "                               right_index=True, left_index=True)\n",
    "X_test_pca = X_test_pca.merge(X_test[['oisst', 'coastal']], how='outer',\n",
    "                             right_index=True, left_index=True)"
   ]
  },
  {
   "cell_type": "code",
   "execution_count": 34,
   "metadata": {
    "slideshow": {
     "slide_type": "skip"
    }
   },
   "outputs": [
    {
     "name": "stdout",
     "output_type": "stream",
     "text": [
      "<class 'pandas.core.frame.DataFrame'>\n",
      "Int64Index: 219 entries, 0 to 291\n",
      "Data columns (total 8 columns):\n",
      "PC1        203 non-null float64\n",
      "PC2        203 non-null float64\n",
      "PC3        203 non-null float64\n",
      "PC4        203 non-null float64\n",
      "PC5        203 non-null float64\n",
      "PC6        203 non-null float64\n",
      "oisst      219 non-null float64\n",
      "coastal    219 non-null int64\n",
      "dtypes: float64(7), int64(1)\n",
      "memory usage: 15.4 KB\n"
     ]
    }
   ],
   "source": [
    "X_train_pca.info()"
   ]
  },
  {
   "cell_type": "code",
   "execution_count": 35,
   "metadata": {
    "slideshow": {
     "slide_type": "skip"
    }
   },
   "outputs": [
    {
     "name": "stdout",
     "output_type": "stream",
     "text": [
      "<class 'pandas.core.frame.DataFrame'>\n",
      "Int64Index: 219 entries, 88 to 20\n",
      "Data columns (total 8 columns):\n",
      "oisst             219 non-null float64\n",
      "log_sat_rrs412    207 non-null float64\n",
      "log_sat_rrs443    214 non-null float64\n",
      "log_sat_rrs490    218 non-null float64\n",
      "log_sat_rrs510    219 non-null float64\n",
      "log_sat_rrs555    219 non-null float64\n",
      "log_sat_rrs670    212 non-null float64\n",
      "coastal           219 non-null int64\n",
      "dtypes: float64(7), int64(1)\n",
      "memory usage: 25.4 KB\n"
     ]
    }
   ],
   "source": [
    "X_train.info()"
   ]
  },
  {
   "cell_type": "markdown",
   "metadata": {
    "slideshow": {
     "slide_type": "subslide"
    }
   },
   "source": [
    "### Standardize data:"
   ]
  },
  {
   "cell_type": "code",
   "execution_count": 36,
   "metadata": {
    "slideshow": {
     "slide_type": "subslide"
    }
   },
   "outputs": [],
   "source": [
    "# Instantiate scalers\n",
    "\n",
    "sc_X_rrs = StandardScaler()\n",
    "sc_X_pca = StandardScaler()\n",
    "sc_y = StandardScaler()"
   ]
  },
  {
   "cell_type": "code",
   "execution_count": 37,
   "metadata": {
    "slideshow": {
     "slide_type": "skip"
    }
   },
   "outputs": [
    {
     "name": "stdout",
     "output_type": "stream",
     "text": [
      "<class 'pandas.core.frame.DataFrame'>\n",
      "Int64Index: 219 entries, 88 to 20\n",
      "Data columns (total 8 columns):\n",
      "oisst             219 non-null float64\n",
      "log_sat_rrs412    207 non-null float64\n",
      "log_sat_rrs443    214 non-null float64\n",
      "log_sat_rrs490    218 non-null float64\n",
      "log_sat_rrs510    219 non-null float64\n",
      "log_sat_rrs555    219 non-null float64\n",
      "log_sat_rrs670    212 non-null float64\n",
      "coastal           219 non-null int64\n",
      "dtypes: float64(7), int64(1)\n",
      "memory usage: 25.4 KB\n"
     ]
    }
   ],
   "source": [
    "X_train.info()"
   ]
  },
  {
   "cell_type": "code",
   "execution_count": 38,
   "metadata": {
    "slideshow": {
     "slide_type": "skip"
    }
   },
   "outputs": [
    {
     "name": "stdout",
     "output_type": "stream",
     "text": [
      "<class 'pandas.core.frame.DataFrame'>\n",
      "Int64Index: 219 entries, 0 to 291\n",
      "Data columns (total 8 columns):\n",
      "PC1        203 non-null float64\n",
      "PC2        203 non-null float64\n",
      "PC3        203 non-null float64\n",
      "PC4        203 non-null float64\n",
      "PC5        203 non-null float64\n",
      "PC6        203 non-null float64\n",
      "oisst      219 non-null float64\n",
      "coastal    219 non-null int64\n",
      "dtypes: float64(7), int64(1)\n",
      "memory usage: 15.4 KB\n"
     ]
    }
   ],
   "source": [
    "X_train_pca.info()"
   ]
  },
  {
   "cell_type": "code",
   "execution_count": 39,
   "metadata": {
    "slideshow": {
     "slide_type": "subslide"
    }
   },
   "outputs": [],
   "source": [
    "# Parameterize scalers while standardizing training sets\n",
    "X_train_s = sc_X_rrs.fit_transform(X_train.iloc[:, :-1])\n",
    "X_train_pca_s = sc_X_pca.fit_transform(X_train_pca.iloc[:, :-1])\n",
    "y_train_s = sc_y.fit_transform(y_train)"
   ]
  },
  {
   "cell_type": "code",
   "execution_count": 40,
   "metadata": {
    "slideshow": {
     "slide_type": "skip"
    }
   },
   "outputs": [],
   "source": [
    "X_train_s = pd.DataFrame(X_train_s, index=X_train.index,\n",
    "                         columns=[f'{col}_s' for col in X_train.iloc[:, :-1].columns])\n",
    "X_train_s = X_train_s.merge(X_train[['coastal']], how='outer',\n",
    "                            right_index=True, left_index=True)\n",
    "X_train_pca_s = pd.DataFrame(X_train_pca_s, index=X_train_pca.index,\n",
    "                            columns=[f'{col}_s' \n",
    "                                     for col in X_train_pca.iloc[:, :-1].columns])\n",
    "X_train_pca_s = X_train_pca_s.merge(X_train_pca[['coastal']], how='outer',\n",
    "                                   right_index=True, left_index=True)"
   ]
  },
  {
   "cell_type": "code",
   "execution_count": 41,
   "metadata": {
    "slideshow": {
     "slide_type": "skip"
    }
   },
   "outputs": [],
   "source": [
    "y_train_s = pd.DataFrame(y_train_s, columns=y_train.columns, index=y_train.index)"
   ]
  },
  {
   "cell_type": "code",
   "execution_count": 42,
   "metadata": {
    "slideshow": {
     "slide_type": "skip"
    }
   },
   "outputs": [
    {
     "name": "stdout",
     "output_type": "stream",
     "text": [
      "<class 'pandas.core.frame.DataFrame'>\n",
      "Int64Index: 219 entries, 88 to 20\n",
      "Data columns (total 8 columns):\n",
      "oisst_s             219 non-null float64\n",
      "log_sat_rrs412_s    207 non-null float64\n",
      "log_sat_rrs443_s    214 non-null float64\n",
      "log_sat_rrs490_s    218 non-null float64\n",
      "log_sat_rrs510_s    219 non-null float64\n",
      "log_sat_rrs555_s    219 non-null float64\n",
      "log_sat_rrs670_s    212 non-null float64\n",
      "coastal             219 non-null int64\n",
      "dtypes: float64(7), int64(1)\n",
      "memory usage: 25.4 KB\n"
     ]
    }
   ],
   "source": [
    "X_train_s.info()"
   ]
  },
  {
   "cell_type": "code",
   "execution_count": 43,
   "metadata": {
    "slideshow": {
     "slide_type": "skip"
    }
   },
   "outputs": [
    {
     "name": "stdout",
     "output_type": "stream",
     "text": [
      "<class 'pandas.core.frame.DataFrame'>\n",
      "Int64Index: 219 entries, 0 to 291\n",
      "Data columns (total 8 columns):\n",
      "PC1_s      203 non-null float64\n",
      "PC2_s      203 non-null float64\n",
      "PC3_s      203 non-null float64\n",
      "PC4_s      203 non-null float64\n",
      "PC5_s      203 non-null float64\n",
      "PC6_s      203 non-null float64\n",
      "oisst_s    219 non-null float64\n",
      "coastal    219 non-null int64\n",
      "dtypes: float64(7), int64(1)\n",
      "memory usage: 25.4 KB\n"
     ]
    }
   ],
   "source": [
    "X_train_pca_s.info()"
   ]
  },
  {
   "cell_type": "code",
   "execution_count": 44,
   "metadata": {
    "slideshow": {
     "slide_type": "skip"
    }
   },
   "outputs": [
    {
     "name": "stdout",
     "output_type": "stream",
     "text": [
      "<class 'pandas.core.frame.DataFrame'>\n",
      "Int64Index: 73 entries, 260 to 220\n",
      "Data columns (total 8 columns):\n",
      "oisst             73 non-null float64\n",
      "log_sat_rrs412    69 non-null float64\n",
      "log_sat_rrs443    71 non-null float64\n",
      "log_sat_rrs490    73 non-null float64\n",
      "log_sat_rrs510    73 non-null float64\n",
      "log_sat_rrs555    73 non-null float64\n",
      "log_sat_rrs670    69 non-null float64\n",
      "coastal           73 non-null int64\n",
      "dtypes: float64(7), int64(1)\n",
      "memory usage: 7.6 KB\n"
     ]
    }
   ],
   "source": [
    "X_test.info()"
   ]
  },
  {
   "cell_type": "code",
   "execution_count": 45,
   "metadata": {},
   "outputs": [
    {
     "name": "stdout",
     "output_type": "stream",
     "text": [
      "<class 'pandas.core.frame.DataFrame'>\n",
      "Int64Index: 73 entries, 4 to 289\n",
      "Data columns (total 8 columns):\n",
      "PC1        66 non-null float64\n",
      "PC2        66 non-null float64\n",
      "PC3        66 non-null float64\n",
      "PC4        66 non-null float64\n",
      "PC5        66 non-null float64\n",
      "PC6        66 non-null float64\n",
      "oisst      73 non-null float64\n",
      "coastal    73 non-null int64\n",
      "dtypes: float64(7), int64(1)\n",
      "memory usage: 5.1 KB\n"
     ]
    }
   ],
   "source": [
    "X_test_pca.info()"
   ]
  },
  {
   "cell_type": "code",
   "execution_count": 46,
   "metadata": {
    "slideshow": {
     "slide_type": "subslide"
    }
   },
   "outputs": [],
   "source": [
    "# Standardize test sets with parameterized scalers\n",
    "X_test_s = sc_X_rrs.transform(X_test.iloc[:, :-1])\n",
    "X_test_pca_s = sc_X_pca.transform(X_test_pca.iloc[:, :-1])\n",
    "y_test_s = sc_y.transform(y_test)"
   ]
  },
  {
   "cell_type": "code",
   "execution_count": 47,
   "metadata": {
    "slideshow": {
     "slide_type": "skip"
    }
   },
   "outputs": [],
   "source": [
    "X_test_s = pd.DataFrame(X_test_s, index=X_test.index,\n",
    "                         columns=[f'{col}_s' for col in X_test.iloc[:, :-1].columns])\n",
    "\n",
    "X_test_s = X_test_s.merge(X_test[['coastal']], how='outer',\n",
    "                            right_index=True, left_index=True)\n",
    "X_test_pca_s = pd.DataFrame(X_test_pca_s, index=X_test_pca.index,\n",
    "                            columns=[f'{col}_s' \n",
    "                                     for col in X_train_pca.iloc[:, :-1].columns])\n",
    "X_test_pca_s = X_test_pca_s.merge(X_test_pca[['coastal']], how='outer',\n",
    "                                   right_index=True, left_index=True)"
   ]
  },
  {
   "cell_type": "code",
   "execution_count": 48,
   "metadata": {
    "slideshow": {
     "slide_type": "skip"
    }
   },
   "outputs": [],
   "source": [
    "y_test_s = pd.DataFrame(y_test_s, columns=y_test.columns, index=y_test.index)"
   ]
  },
  {
   "cell_type": "markdown",
   "metadata": {
    "slideshow": {
     "slide_type": "subslide"
    }
   },
   "source": [
    "### Modify X_train and X_test to make an OC4 compatible dataset"
   ]
  },
  {
   "cell_type": "code",
   "execution_count": 72,
   "metadata": {
    "slideshow": {
     "slide_type": "skip"
    }
   },
   "outputs": [],
   "source": [
    "blue_band_cols = ['log_sat_rrs443', 'log_sat_rrs490', 'log_sat_rrs510']\n",
    "X_train_OC4 = pd.DataFrame(X_train[blue_band_cols].max(axis=1),\n",
    "                           columns=['MaxBlue'], index=X_train.index)\n",
    "X_test_OC4 = pd.DataFrame(X_test[blue_band_cols].max(axis=1),\n",
    "                          columns=['MaxBlue'], index=X_test.index)\n",
    "X_train_OC4['MaxBlueID'] = X_train[blue_band_cols].idxmax(axis=1).astype('category')\n",
    "X_test_OC4['MaxBlueID'] = X_test[blue_band_cols].idxmax(axis=1).astype('category')\n",
    "X_train_OC4['MaxBlueIdx'] = X_train_OC4['MaxBlueID'].cat.codes\n",
    "X_test_OC4['MaxBlueIdx'] = X_test_OC4['MaxBlueID'].cat.codes\n",
    "X_train_OC4['X (MaxBlue2Gr)'] = X_train.MaxBlue - X_train.log_sat_rrs555\n",
    "X_test_OC4['X (MaxBlue2Gr)'] = X_test.MaxBlue - X_test.log_sat_rrs555\n",
    "for i in range(2, 5):\n",
    "    X_train_OC4[f'X{i}'] = X_train_OC4['X (MaxBlue2Gr)'] ** i\n",
    "    X_test_OC4[f'X{i}'] = X_test_OC4['X (MaxBlue2Gr)'] ** i"
   ]
  },
  {
   "cell_type": "code",
   "execution_count": 73,
   "metadata": {
    "slideshow": {
     "slide_type": "skip"
    }
   },
   "outputs": [
    {
     "data": {
      "text/html": [
       "<div>\n",
       "<style scoped>\n",
       "    .dataframe tbody tr th:only-of-type {\n",
       "        vertical-align: middle;\n",
       "    }\n",
       "\n",
       "    .dataframe tbody tr th {\n",
       "        vertical-align: top;\n",
       "    }\n",
       "\n",
       "    .dataframe thead th {\n",
       "        text-align: right;\n",
       "    }\n",
       "</style>\n",
       "<table border=\"1\" class=\"dataframe\">\n",
       "  <thead>\n",
       "    <tr style=\"text-align: right;\">\n",
       "      <th></th>\n",
       "      <th>MaxBlue</th>\n",
       "      <th>MaxBlueID</th>\n",
       "      <th>MaxBlueIdx</th>\n",
       "      <th>X (MaxBlue2Gr)</th>\n",
       "      <th>X2</th>\n",
       "      <th>X3</th>\n",
       "      <th>X4</th>\n",
       "    </tr>\n",
       "  </thead>\n",
       "  <tbody>\n",
       "    <tr>\n",
       "      <th>88</th>\n",
       "      <td>-1.968188</td>\n",
       "      <td>log_sat_rrs510</td>\n",
       "      <td>2</td>\n",
       "      <td>0.022787</td>\n",
       "      <td>0.000519</td>\n",
       "      <td>0.000012</td>\n",
       "      <td>2.695956e-07</td>\n",
       "    </tr>\n",
       "    <tr>\n",
       "      <th>74</th>\n",
       "      <td>-2.146302</td>\n",
       "      <td>log_sat_rrs490</td>\n",
       "      <td>1</td>\n",
       "      <td>0.022469</td>\n",
       "      <td>0.000505</td>\n",
       "      <td>0.000011</td>\n",
       "      <td>2.548577e-07</td>\n",
       "    </tr>\n",
       "  </tbody>\n",
       "</table>\n",
       "</div>"
      ],
      "text/plain": [
       "     MaxBlue       MaxBlueID  MaxBlueIdx  X (MaxBlue2Gr)        X2        X3  \\\n",
       "88 -1.968188  log_sat_rrs510           2        0.022787  0.000519  0.000012   \n",
       "74 -2.146302  log_sat_rrs490           1        0.022469  0.000505  0.000011   \n",
       "\n",
       "              X4  \n",
       "88  2.695956e-07  \n",
       "74  2.548577e-07  "
      ]
     },
     "execution_count": 73,
     "metadata": {},
     "output_type": "execute_result"
    }
   ],
   "source": [
    "X_train_OC4.head(2)"
   ]
  },
  {
   "cell_type": "code",
   "execution_count": 67,
   "metadata": {
    "slideshow": {
     "slide_type": "skip"
    }
   },
   "outputs": [
    {
     "data": {
      "text/html": [
       "<div>\n",
       "<style scoped>\n",
       "    .dataframe tbody tr th:only-of-type {\n",
       "        vertical-align: middle;\n",
       "    }\n",
       "\n",
       "    .dataframe tbody tr th {\n",
       "        vertical-align: top;\n",
       "    }\n",
       "\n",
       "    .dataframe thead th {\n",
       "        text-align: right;\n",
       "    }\n",
       "</style>\n",
       "<table border=\"1\" class=\"dataframe\">\n",
       "  <thead>\n",
       "    <tr style=\"text-align: right;\">\n",
       "      <th></th>\n",
       "      <th>MaxBlue</th>\n",
       "      <th>MaxBlueID</th>\n",
       "      <th>MaxBlueIdx</th>\n",
       "      <th>MaxBlue2Gr</th>\n",
       "    </tr>\n",
       "  </thead>\n",
       "  <tbody>\n",
       "    <tr>\n",
       "      <th>260</th>\n",
       "      <td>-2.583359</td>\n",
       "      <td>log_sat_rrs510</td>\n",
       "      <td>2</td>\n",
       "      <td>-0.035146</td>\n",
       "    </tr>\n",
       "    <tr>\n",
       "      <th>189</th>\n",
       "      <td>-2.092051</td>\n",
       "      <td>log_sat_rrs443</td>\n",
       "      <td>0</td>\n",
       "      <td>0.723257</td>\n",
       "    </tr>\n",
       "    <tr>\n",
       "      <th>187</th>\n",
       "      <td>-2.208309</td>\n",
       "      <td>log_sat_rrs443</td>\n",
       "      <td>0</td>\n",
       "      <td>0.455231</td>\n",
       "    </tr>\n",
       "    <tr>\n",
       "      <th>103</th>\n",
       "      <td>-2.194499</td>\n",
       "      <td>log_sat_rrs443</td>\n",
       "      <td>0</td>\n",
       "      <td>0.372532</td>\n",
       "    </tr>\n",
       "    <tr>\n",
       "      <th>271</th>\n",
       "      <td>-2.690370</td>\n",
       "      <td>log_sat_rrs510</td>\n",
       "      <td>2</td>\n",
       "      <td>-0.394520</td>\n",
       "    </tr>\n",
       "  </tbody>\n",
       "</table>\n",
       "</div>"
      ],
      "text/plain": [
       "      MaxBlue       MaxBlueID  MaxBlueIdx  MaxBlue2Gr\n",
       "260 -2.583359  log_sat_rrs510           2   -0.035146\n",
       "189 -2.092051  log_sat_rrs443           0    0.723257\n",
       "187 -2.208309  log_sat_rrs443           0    0.455231\n",
       "103 -2.194499  log_sat_rrs443           0    0.372532\n",
       "271 -2.690370  log_sat_rrs510           2   -0.394520"
      ]
     },
     "execution_count": 67,
     "metadata": {},
     "output_type": "execute_result"
    }
   ],
   "source": [
    "X_test_OC4.head()"
   ]
  },
  {
   "cell_type": "markdown",
   "metadata": {
    "slideshow": {
     "slide_type": "subslide"
    }
   },
   "source": [
    "### Before modeling: stash data sets and various transformer objects"
   ]
  },
  {
   "cell_type": "code",
   "execution_count": 51,
   "metadata": {
    "slideshow": {
     "slide_type": "fragment"
    }
   },
   "outputs": [],
   "source": [
    "train_dict = dict(X_rrs=X_train, X_rrs_s=X_train_s,\n",
    "                  X_pca=X_train_pca, X_pca_s=X_train_pca_s,\n",
    "                  X_oc4=X_train_OC4, y=y_train, y_s=y_train_s)"
   ]
  },
  {
   "cell_type": "code",
   "execution_count": 52,
   "metadata": {
    "slideshow": {
     "slide_type": "skip"
    }
   },
   "outputs": [],
   "source": [
    "test_dict = dict(X_rrs=X_test, X_rrs_s=X_test_s,\n",
    "                 X_pca=X_test_pca, X_pca_s=X_test_pca_s, \n",
    "                 X_oc4=X_test_OC4, y=y_test, y_s=y_test_s)"
   ]
  },
  {
   "cell_type": "code",
   "execution_count": 53,
   "metadata": {
    "slideshow": {
     "slide_type": "skip"
    }
   },
   "outputs": [],
   "source": [
    "transformers_dict = dict(X_rrs_scaler=sc_X_rrs, X_pca_scaler=sc_X_pca, y_scaler=sc_y,\n",
    "                         pca_tranf=pca_transformer)"
   ]
  },
  {
   "cell_type": "code",
   "execution_count": 54,
   "metadata": {
    "slideshow": {
     "slide_type": "fragment"
    }
   },
   "outputs": [],
   "source": [
    "preprocess_dict = dict(training=train_dict, testing=test_dict,\n",
    "                       transformers=transformers_dict)"
   ]
  },
  {
   "cell_type": "code",
   "execution_count": 55,
   "metadata": {
    "slideshow": {
     "slide_type": "fragment"
    }
   },
   "outputs": [],
   "source": [
    "with open('./preprocess_dicts.pkl', 'wb') as fb:\n",
    "    pickle.dump(preprocess_dict, fb, protocol=pickle.HIGHEST_PROTOCOL)"
   ]
  },
  {
   "cell_type": "code",
   "execution_count": 56,
   "metadata": {
    "slideshow": {
     "slide_type": "slide"
    }
   },
   "outputs": [
    {
     "name": "stdout",
     "output_type": "stream",
     "text": [
      "101.708kB\n"
     ]
    }
   ],
   "source": [
    "print(f\"{os.path.getsize('./preprocess_dicts.pkl')/1000}kB\")"
   ]
  },
  {
   "cell_type": "markdown",
   "metadata": {
    "slideshow": {
     "slide_type": "slide"
    }
   },
   "source": [
    "## 4. Models:\n",
    "\n",
    "* $OC_4$-like polynomial regression model\n",
    "* Hierarchical $OC_4$-like polynomial model \n",
    "* Multivariate regression model with Rrs data\n",
    "* Multivariate regression model with Rrs data and SST\n",
    "* Multivariate regression model with PC data \n",
    "* Multivariate regression model with PC data and SST"
   ]
  },
  {
   "cell_type": "code",
   "execution_count": 59,
   "metadata": {
    "slideshow": {
     "slide_type": "skip"
    }
   },
   "outputs": [
    {
     "data": {
      "text/html": [
       "<div>\n",
       "<style scoped>\n",
       "    .dataframe tbody tr th:only-of-type {\n",
       "        vertical-align: middle;\n",
       "    }\n",
       "\n",
       "    .dataframe tbody tr th {\n",
       "        vertical-align: top;\n",
       "    }\n",
       "\n",
       "    .dataframe thead th {\n",
       "        text-align: right;\n",
       "    }\n",
       "</style>\n",
       "<table border=\"1\" class=\"dataframe\">\n",
       "  <thead>\n",
       "    <tr style=\"text-align: right;\">\n",
       "      <th></th>\n",
       "      <th>oisst</th>\n",
       "      <th>log_sat_rrs412</th>\n",
       "      <th>log_sat_rrs443</th>\n",
       "      <th>log_sat_rrs490</th>\n",
       "      <th>log_sat_rrs510</th>\n",
       "      <th>log_sat_rrs555</th>\n",
       "      <th>log_sat_rrs670</th>\n",
       "      <th>coastal</th>\n",
       "      <th>MaxBlue</th>\n",
       "      <th>MaxBlueId</th>\n",
       "      <th>MaxBlue2Gr</th>\n",
       "    </tr>\n",
       "  </thead>\n",
       "  <tbody>\n",
       "    <tr>\n",
       "      <th>88</th>\n",
       "      <td>21.12</td>\n",
       "      <td>-2.374688</td>\n",
       "      <td>-2.179799</td>\n",
       "      <td>-1.977572</td>\n",
       "      <td>-1.968188</td>\n",
       "      <td>-1.990974</td>\n",
       "      <td>-2.987163</td>\n",
       "      <td>1</td>\n",
       "      <td>-1.968188</td>\n",
       "      <td>2</td>\n",
       "      <td>0.022787</td>\n",
       "    </tr>\n",
       "    <tr>\n",
       "      <th>74</th>\n",
       "      <td>15.27</td>\n",
       "      <td>-2.378824</td>\n",
       "      <td>-2.283997</td>\n",
       "      <td>-2.146302</td>\n",
       "      <td>-2.154282</td>\n",
       "      <td>-2.168770</td>\n",
       "      <td>-2.910095</td>\n",
       "      <td>1</td>\n",
       "      <td>-2.146302</td>\n",
       "      <td>1</td>\n",
       "      <td>0.022469</td>\n",
       "    </tr>\n",
       "    <tr>\n",
       "      <th>50</th>\n",
       "      <td>16.40</td>\n",
       "      <td>-2.326979</td>\n",
       "      <td>-2.290730</td>\n",
       "      <td>-2.332547</td>\n",
       "      <td>-2.567031</td>\n",
       "      <td>-2.943095</td>\n",
       "      <td>-4.698970</td>\n",
       "      <td>0</td>\n",
       "      <td>-2.290730</td>\n",
       "      <td>0</td>\n",
       "      <td>0.652365</td>\n",
       "    </tr>\n",
       "    <tr>\n",
       "      <th>12</th>\n",
       "      <td>22.18</td>\n",
       "      <td>-2.040482</td>\n",
       "      <td>-2.122629</td>\n",
       "      <td>-2.255707</td>\n",
       "      <td>-2.484126</td>\n",
       "      <td>-2.787812</td>\n",
       "      <td>-3.677781</td>\n",
       "      <td>0</td>\n",
       "      <td>-2.122629</td>\n",
       "      <td>0</td>\n",
       "      <td>0.665184</td>\n",
       "    </tr>\n",
       "    <tr>\n",
       "      <th>234</th>\n",
       "      <td>4.35</td>\n",
       "      <td>-2.007889</td>\n",
       "      <td>-2.041914</td>\n",
       "      <td>-2.116339</td>\n",
       "      <td>-2.331614</td>\n",
       "      <td>-2.640165</td>\n",
       "      <td>-3.657577</td>\n",
       "      <td>0</td>\n",
       "      <td>-2.041914</td>\n",
       "      <td>0</td>\n",
       "      <td>0.598250</td>\n",
       "    </tr>\n",
       "  </tbody>\n",
       "</table>\n",
       "</div>"
      ],
      "text/plain": [
       "     oisst  log_sat_rrs412  log_sat_rrs443  log_sat_rrs490  log_sat_rrs510  \\\n",
       "88   21.12       -2.374688       -2.179799       -1.977572       -1.968188   \n",
       "74   15.27       -2.378824       -2.283997       -2.146302       -2.154282   \n",
       "50   16.40       -2.326979       -2.290730       -2.332547       -2.567031   \n",
       "12   22.18       -2.040482       -2.122629       -2.255707       -2.484126   \n",
       "234   4.35       -2.007889       -2.041914       -2.116339       -2.331614   \n",
       "\n",
       "     log_sat_rrs555  log_sat_rrs670  coastal   MaxBlue  MaxBlueId  MaxBlue2Gr  \n",
       "88        -1.990974       -2.987163        1 -1.968188          2    0.022787  \n",
       "74        -2.168770       -2.910095        1 -2.146302          1    0.022469  \n",
       "50        -2.943095       -4.698970        0 -2.290730          0    0.652365  \n",
       "12        -2.787812       -3.677781        0 -2.122629          0    0.665184  \n",
       "234       -2.640165       -3.657577        0 -2.041914          0    0.598250  "
      ]
     },
     "execution_count": 59,
     "metadata": {},
     "output_type": "execute_result"
    }
   ],
   "source": [
    "X_train.head()"
   ]
  },
  {
   "cell_type": "code",
   "execution_count": 60,
   "metadata": {
    "slideshow": {
     "slide_type": "skip"
    }
   },
   "outputs": [
    {
     "data": {
      "text/html": [
       "<div>\n",
       "<style scoped>\n",
       "    .dataframe tbody tr th:only-of-type {\n",
       "        vertical-align: middle;\n",
       "    }\n",
       "\n",
       "    .dataframe tbody tr th {\n",
       "        vertical-align: top;\n",
       "    }\n",
       "\n",
       "    .dataframe thead th {\n",
       "        text-align: right;\n",
       "    }\n",
       "</style>\n",
       "<table border=\"1\" class=\"dataframe\">\n",
       "  <thead>\n",
       "    <tr style=\"text-align: right;\">\n",
       "      <th></th>\n",
       "      <th>oisst_s</th>\n",
       "      <th>log_sat_rrs412_s</th>\n",
       "      <th>log_sat_rrs443_s</th>\n",
       "      <th>log_sat_rrs490_s</th>\n",
       "      <th>log_sat_rrs510_s</th>\n",
       "      <th>log_sat_rrs555_s</th>\n",
       "      <th>log_sat_rrs670_s</th>\n",
       "      <th>coastal</th>\n",
       "    </tr>\n",
       "  </thead>\n",
       "  <tbody>\n",
       "    <tr>\n",
       "      <th>88</th>\n",
       "      <td>-0.069042</td>\n",
       "      <td>-0.008739</td>\n",
       "      <td>0.602723</td>\n",
       "      <td>1.571977</td>\n",
       "      <td>2.427183</td>\n",
       "      <td>2.401548</td>\n",
       "      <td>1.237165</td>\n",
       "      <td>1</td>\n",
       "    </tr>\n",
       "    <tr>\n",
       "      <th>74</th>\n",
       "      <td>-1.031637</td>\n",
       "      <td>-0.020999</td>\n",
       "      <td>0.270535</td>\n",
       "      <td>0.852391</td>\n",
       "      <td>1.477488</td>\n",
       "      <td>1.685786</td>\n",
       "      <td>1.412853</td>\n",
       "      <td>1</td>\n",
       "    </tr>\n",
       "    <tr>\n",
       "      <th>50</th>\n",
       "      <td>-0.845700</td>\n",
       "      <td>0.132671</td>\n",
       "      <td>0.249069</td>\n",
       "      <td>0.058107</td>\n",
       "      <td>-0.628893</td>\n",
       "      <td>-1.431453</td>\n",
       "      <td>-2.665164</td>\n",
       "      <td>0</td>\n",
       "    </tr>\n",
       "    <tr>\n",
       "      <th>12</th>\n",
       "      <td>0.105377</td>\n",
       "      <td>0.981865</td>\n",
       "      <td>0.784983</td>\n",
       "      <td>0.385808</td>\n",
       "      <td>-0.205806</td>\n",
       "      <td>-0.806323</td>\n",
       "      <td>-0.337205</td>\n",
       "      <td>0</td>\n",
       "    </tr>\n",
       "    <tr>\n",
       "      <th>234</th>\n",
       "      <td>-2.828483</td>\n",
       "      <td>1.078473</td>\n",
       "      <td>1.042305</td>\n",
       "      <td>0.980175</td>\n",
       "      <td>0.572509</td>\n",
       "      <td>-0.211929</td>\n",
       "      <td>-0.291149</td>\n",
       "      <td>0</td>\n",
       "    </tr>\n",
       "  </tbody>\n",
       "</table>\n",
       "</div>"
      ],
      "text/plain": [
       "      oisst_s  log_sat_rrs412_s  log_sat_rrs443_s  log_sat_rrs490_s  \\\n",
       "88  -0.069042         -0.008739          0.602723          1.571977   \n",
       "74  -1.031637         -0.020999          0.270535          0.852391   \n",
       "50  -0.845700          0.132671          0.249069          0.058107   \n",
       "12   0.105377          0.981865          0.784983          0.385808   \n",
       "234 -2.828483          1.078473          1.042305          0.980175   \n",
       "\n",
       "     log_sat_rrs510_s  log_sat_rrs555_s  log_sat_rrs670_s  coastal  \n",
       "88           2.427183          2.401548          1.237165        1  \n",
       "74           1.477488          1.685786          1.412853        1  \n",
       "50          -0.628893         -1.431453         -2.665164        0  \n",
       "12          -0.205806         -0.806323         -0.337205        0  \n",
       "234          0.572509         -0.211929         -0.291149        0  "
      ]
     },
     "execution_count": 60,
     "metadata": {},
     "output_type": "execute_result"
    }
   ],
   "source": [
    "X_train_s.head()"
   ]
  },
  {
   "cell_type": "code",
   "execution_count": 57,
   "metadata": {
    "slideshow": {
     "slide_type": "skip"
    }
   },
   "outputs": [
    {
     "data": {
      "text/html": [
       "<div>\n",
       "<style scoped>\n",
       "    .dataframe tbody tr th:only-of-type {\n",
       "        vertical-align: middle;\n",
       "    }\n",
       "\n",
       "    .dataframe tbody tr th {\n",
       "        vertical-align: top;\n",
       "    }\n",
       "\n",
       "    .dataframe thead th {\n",
       "        text-align: right;\n",
       "    }\n",
       "</style>\n",
       "<table border=\"1\" class=\"dataframe\">\n",
       "  <thead>\n",
       "    <tr style=\"text-align: right;\">\n",
       "      <th></th>\n",
       "      <th>PC1_s</th>\n",
       "      <th>PC2_s</th>\n",
       "      <th>PC3_s</th>\n",
       "      <th>PC4_s</th>\n",
       "      <th>PC5_s</th>\n",
       "      <th>PC6_s</th>\n",
       "      <th>oisst_s</th>\n",
       "      <th>coastal</th>\n",
       "    </tr>\n",
       "  </thead>\n",
       "  <tbody>\n",
       "    <tr>\n",
       "      <th>0</th>\n",
       "      <td>0.235672</td>\n",
       "      <td>0.809555</td>\n",
       "      <td>0.076862</td>\n",
       "      <td>0.205850</td>\n",
       "      <td>-0.977104</td>\n",
       "      <td>0.324827</td>\n",
       "      <td>-0.329025</td>\n",
       "      <td>0</td>\n",
       "    </tr>\n",
       "    <tr>\n",
       "      <th>1</th>\n",
       "      <td>-0.549944</td>\n",
       "      <td>0.013807</td>\n",
       "      <td>-0.242928</td>\n",
       "      <td>0.315448</td>\n",
       "      <td>0.746546</td>\n",
       "      <td>1.532314</td>\n",
       "      <td>-0.324089</td>\n",
       "      <td>0</td>\n",
       "    </tr>\n",
       "    <tr>\n",
       "      <th>2</th>\n",
       "      <td>-0.770027</td>\n",
       "      <td>-0.574232</td>\n",
       "      <td>-1.151153</td>\n",
       "      <td>1.039777</td>\n",
       "      <td>-0.446911</td>\n",
       "      <td>1.031471</td>\n",
       "      <td>0.515097</td>\n",
       "      <td>0</td>\n",
       "    </tr>\n",
       "    <tr>\n",
       "      <th>3</th>\n",
       "      <td>1.361573</td>\n",
       "      <td>2.004275</td>\n",
       "      <td>-0.647140</td>\n",
       "      <td>1.426060</td>\n",
       "      <td>-0.328707</td>\n",
       "      <td>0.799141</td>\n",
       "      <td>-0.712418</td>\n",
       "      <td>0</td>\n",
       "    </tr>\n",
       "    <tr>\n",
       "      <th>5</th>\n",
       "      <td>NaN</td>\n",
       "      <td>NaN</td>\n",
       "      <td>NaN</td>\n",
       "      <td>NaN</td>\n",
       "      <td>NaN</td>\n",
       "      <td>NaN</td>\n",
       "      <td>-0.761782</td>\n",
       "      <td>0</td>\n",
       "    </tr>\n",
       "  </tbody>\n",
       "</table>\n",
       "</div>"
      ],
      "text/plain": [
       "      PC1_s     PC2_s     PC3_s     PC4_s     PC5_s     PC6_s   oisst_s  \\\n",
       "0  0.235672  0.809555  0.076862  0.205850 -0.977104  0.324827 -0.329025   \n",
       "1 -0.549944  0.013807 -0.242928  0.315448  0.746546  1.532314 -0.324089   \n",
       "2 -0.770027 -0.574232 -1.151153  1.039777 -0.446911  1.031471  0.515097   \n",
       "3  1.361573  2.004275 -0.647140  1.426060 -0.328707  0.799141 -0.712418   \n",
       "5       NaN       NaN       NaN       NaN       NaN       NaN -0.761782   \n",
       "\n",
       "   coastal  \n",
       "0        0  \n",
       "1        0  \n",
       "2        0  \n",
       "3        0  \n",
       "5        0  "
      ]
     },
     "execution_count": 57,
     "metadata": {},
     "output_type": "execute_result"
    }
   ],
   "source": [
    "X_train_pca_s.head()"
   ]
  },
  {
   "cell_type": "code",
   "execution_count": 74,
   "metadata": {
    "slideshow": {
     "slide_type": "subslide"
    }
   },
   "outputs": [
    {
     "data": {
      "text/html": [
       "<div>\n",
       "<style scoped>\n",
       "    .dataframe tbody tr th:only-of-type {\n",
       "        vertical-align: middle;\n",
       "    }\n",
       "\n",
       "    .dataframe tbody tr th {\n",
       "        vertical-align: top;\n",
       "    }\n",
       "\n",
       "    .dataframe thead th {\n",
       "        text-align: right;\n",
       "    }\n",
       "</style>\n",
       "<table border=\"1\" class=\"dataframe\">\n",
       "  <thead>\n",
       "    <tr style=\"text-align: right;\">\n",
       "      <th></th>\n",
       "      <th>X (MaxBlue2Gr)</th>\n",
       "      <th>X2</th>\n",
       "      <th>X3</th>\n",
       "      <th>X4</th>\n",
       "    </tr>\n",
       "  </thead>\n",
       "  <tbody>\n",
       "    <tr>\n",
       "      <th>88</th>\n",
       "      <td>0.022787</td>\n",
       "      <td>0.000519</td>\n",
       "      <td>0.000012</td>\n",
       "      <td>2.695956e-07</td>\n",
       "    </tr>\n",
       "    <tr>\n",
       "      <th>74</th>\n",
       "      <td>0.022469</td>\n",
       "      <td>0.000505</td>\n",
       "      <td>0.000011</td>\n",
       "      <td>2.548577e-07</td>\n",
       "    </tr>\n",
       "    <tr>\n",
       "      <th>50</th>\n",
       "      <td>0.652365</td>\n",
       "      <td>0.425580</td>\n",
       "      <td>0.277634</td>\n",
       "      <td>1.811185e-01</td>\n",
       "    </tr>\n",
       "    <tr>\n",
       "      <th>12</th>\n",
       "      <td>0.665184</td>\n",
       "      <td>0.442469</td>\n",
       "      <td>0.294323</td>\n",
       "      <td>1.957792e-01</td>\n",
       "    </tr>\n",
       "    <tr>\n",
       "      <th>234</th>\n",
       "      <td>0.598250</td>\n",
       "      <td>0.357904</td>\n",
       "      <td>0.214116</td>\n",
       "      <td>1.280949e-01</td>\n",
       "    </tr>\n",
       "  </tbody>\n",
       "</table>\n",
       "</div>"
      ],
      "text/plain": [
       "     X (MaxBlue2Gr)        X2        X3            X4\n",
       "88         0.022787  0.000519  0.000012  2.695956e-07\n",
       "74         0.022469  0.000505  0.000011  2.548577e-07\n",
       "50         0.652365  0.425580  0.277634  1.811185e-01\n",
       "12         0.665184  0.442469  0.294323  1.957792e-01\n",
       "234        0.598250  0.357904  0.214116  1.280949e-01"
      ]
     },
     "execution_count": 74,
     "metadata": {},
     "output_type": "execute_result"
    }
   ],
   "source": [
    "X_train_OC4.filter(regex='X', axis=1).head()"
   ]
  },
  {
   "cell_type": "code",
   "execution_count": null,
   "metadata": {},
   "outputs": [],
   "source": [
    "sb.heatmap()"
   ]
  },
  {
   "cell_type": "code",
   "execution_count": 201,
   "metadata": {},
   "outputs": [
    {
     "data": {
      "image/png": "[encoded data removed]",
      "text/plain": [
       "<Figure size 432x360 with 2 Axes>"
      ]
     },
     "metadata": {
      "needs_background": "light"
     },
     "output_type": "display_data"
    }
   ],
   "source": [
    "#X_train_OC4_corr = X_train_OC4.filter(regex='X', axis=1).corr()\n",
    "f = make_heatmap(X_train_OC4.filter(regex='X', axis=1))\n",
    "heatmap()\n",
    "f.savefig('./resources/heatmap_x_train_oc4.png', dpi=300)"
   ]
  },
  {
   "cell_type": "markdown",
   "metadata": {
    "slideshow": {
     "slide_type": "subslide"
    }
   },
   "source": [
    "<img src='./resources/heatmap_x_train_oc4.png' width=400/>"
   ]
  },
  {
   "cell_type": "code",
   "execution_count": 89,
   "metadata": {
    "slideshow": {
     "slide_type": "skip"
    }
   },
   "outputs": [],
   "source": [
    "X_oc4 = shared(X_train_OC4.filter(regex='X', axis=1).values)"
   ]
  },
  {
   "cell_type": "markdown",
   "metadata": {
    "slideshow": {
     "slide_type": "subslide"
    }
   },
   "source": [
    "### $OC_4$-like polynomial regression:\n",
    "<br><br>\n",
    "<span style=\"font-size:12\">\n",
    "$$\\large{log_{10}(chl) = log_{10} \\left ( \\frac{max(Rrs_{443}, Rrs_{490}, Rrs_{510})}{Rrs_{555}}\\right)}$$\n",
    "</span>"
   ]
  },
  {
   "cell_type": "code",
   "execution_count": 94,
   "metadata": {
    "slideshow": {
     "slide_type": "subslide"
    }
   },
   "outputs": [],
   "source": [
    "with pm.Model() as m_oc4:\n",
    "    α = pm.Normal('α', 0, 1) # prior on intercept\n",
    "    β = pm.Normal('β', 0, 5, shape=4) # prior on slopes\n",
    "    σ = pm.Exponential('σ', 1) # prior on likelihood variance\n",
    "    μ = α + pm.math.dot(X_oc4, β) # likelihood's mean deterministic model\n",
    "    y_oc4 = pm.Normal('y_oc4', mu=μ, sd=σ, observed=y_train.values) # likelihood"
   ]
  },
  {
   "cell_type": "code",
   "execution_count": 95,
   "metadata": {
    "slideshow": {
     "slide_type": "skip"
    }
   },
   "outputs": [],
   "source": [
    "m_oc4_graph = pm.model_to_graphviz(m_oc4)\n",
    "m_oc4_graph.render(filename='m_oc4_graph', directory='./resources/', format='png');"
   ]
  },
  {
   "cell_type": "markdown",
   "metadata": {
    "slideshow": {
     "slide_type": "subslide"
    }
   },
   "source": [
    "<img src='./resources/m_oc4_graph.png'/>"
   ]
  },
  {
   "cell_type": "markdown",
   "metadata": {
    "slideshow": {
     "slide_type": "subslide"
    }
   },
   "source": [
    "### Prior Checks"
   ]
  },
  {
   "cell_type": "code",
   "execution_count": 172,
   "metadata": {
    "slideshow": {
     "slide_type": "skip"
    }
   },
   "outputs": [],
   "source": [
    "x_dummy = np.linspace(-1., 1., num=50).reshape(-1, 1)\n",
    "x_dummy = np.array([np.power(x_dummy, i) for i in range(1, 5)]).squeeze()"
   ]
  },
  {
   "cell_type": "code",
   "execution_count": 175,
   "metadata": {
    "slideshow": {
     "slide_type": "skip"
    }
   },
   "outputs": [],
   "source": [
    "priors = pm.sample_prior_predictive(model=m_oc4, vars=['α', 'β', 'y_oc4'])\n",
    "β_prior = priors['β']\n",
    "α_prior = priors['α'].reshape(-1, 1)\n",
    "y_oc4_prior = priors['y_oc4']\n",
    "oc4_lines = α_prior + np.dot(β_prior, x_dummy)"
   ]
  },
  {
   "cell_type": "code",
   "execution_count": 196,
   "metadata": {
    "slideshow": {
     "slide_type": "skip"
    }
   },
   "outputs": [
    {
     "data": {
      "image/png": "[encoded data removed]",
      "text/plain": [
       "<Figure size 864x288 with 3 Axes>"
      ]
     },
     "metadata": {
      "needs_background": "light"
     },
     "output_type": "display_data"
    }
   ],
   "source": [
    "f, ax = pl.subplots(ncols=2, figsize=(12, 4))\n",
    "for i in range(500):\n",
    "    ax[0].plot(x_dummy[0], oc4_lines[i], alpha=0.03, color='k')\n",
    "ax[0].set_ylim(-5, 5);\n",
    "ax[0]. set_xlabel(r'$ log_{10} \\left( \\frac{max(Rrs_{443}, Rrs_{490}, Rrs_{510})}{Rrs_{555}}\\right)$')\n",
    "ax[0].set_ylabel(r'$log_{10}(chl)$')\n",
    "ax[1].hist(priors['y_oc4'].flatten(), density=True, alpha=0.3, bins=100,\n",
    "           orientation='horizontal', label='prior');\n",
    "ax[1].set_ylim(-5, 5)\n",
    "ax[1].set_xticklabels([])\n",
    "ax[1].yaxis.tick_right()\n",
    "ax[1].legend()\n",
    "ax2 = ax[1].twiny()\n",
    "ax2.hist(y_train.values, color='k', density=True, alpha=0.5, bins=20,\n",
    "         orientation='horizontal', label='observed');\n",
    "ax2.set_xticklabels([])\n",
    "ax2.legend(loc='lower right')\n",
    "f.tight_layout()\n",
    "f.savefig('./resources/priors_predictive_oc4_wk_reg.png', dpi=300)"
   ]
  },
  {
   "cell_type": "code",
   "execution_count": 96,
   "metadata": {
    "slideshow": {
     "slide_type": "subslide"
    }
   },
   "outputs": [
    {
     "name": "stderr",
     "output_type": "stream",
     "text": [
      "Auto-assigning NUTS sampler...\n",
      "Initializing NUTS using jitter+adapt_diag...\n",
      "Multiprocess sampling (2 chains in 2 jobs)\n",
      "NUTS: [σ, β, α]\n",
      "Sampling 2 chains: 100%|██████████| 6000/6000 [03:15<00:00, 30.72draws/s]\n"
     ]
    }
   ],
   "source": [
    "with m_oc4:\n",
    "    trace_oc4 = pm.sample(2000, tune=1000)"
   ]
  },
  {
   "cell_type": "code",
   "execution_count": 198,
   "metadata": {},
   "outputs": [
    {
     "data": {
      "image/png": "[encoded data removed]",
      "text/plain": [
       "<Figure size 432x288 with 1 Axes>"
      ]
     },
     "metadata": {
      "needs_background": "light"
     },
     "output_type": "display_data"
    }
   ],
   "source": [
    "pm.forestplot(trace=trace_oc4, varnames=['α', 'β', 'σ'], rhat=False);"
   ]
  },
  {
   "cell_type": "code",
   "execution_count": null,
   "metadata": {},
   "outputs": [],
   "source": []
  }
 ],
 "metadata": {
  "celltoolbar": "Slideshow",
  "kernelspec": {
   "display_name": "Python 3",
   "language": "python",
   "name": "python3"
  },
  "language_info": {
   "codemirror_mode": {
    "name": "ipython",
    "version": 3
   },
   "file_extension": ".py",
   "mimetype": "text/x-python",
   "name": "python",
   "nbconvert_exporter": "python",
   "pygments_lexer": "ipython3",
   "version": "3.6.8"
  }
 },
 "nbformat": 4,
 "nbformat_minor": 2
}
