{
 "cells": [
  {
   "cell_type": "code",
   "execution_count": 86,
   "metadata": {},
   "outputs": [],
   "source": [
    "import numpy as np\n",
    "import pandas as pd\n",
    "import re\n",
    "from seaborn import pairplot, kdeplot, heatmap\n",
    "import matplotlib.pyplot as pl\n",
    "import astral"
   ]
  },
  {
   "cell_type": "code",
   "execution_count": 1,
   "metadata": {},
   "outputs": [],
   "source": [
    "from causalgraphicalmodels import CausalGraphicalModel"
   ]
  },
  {
   "cell_type": "code",
   "execution_count": 2,
   "metadata": {},
   "outputs": [],
   "source": [
    "%matplotlib inline"
   ]
  },
  {
   "cell_type": "code",
   "execution_count": 36,
   "metadata": {},
   "outputs": [],
   "source": [
    "with open('./nomad_seawifs_v1.3_2005262.txt') as f:\n",
    "    for i, line in enumerate(f.readlines()):\n",
    "        if 'fields' in line:\n",
    "            col_names = line.strip('/fields=').strip().split(',')\n",
    "        if '/end_header' in line:\n",
    "            rowskips = i+1\n",
    "            break\n",
    "df = pd.read_csv('./nomad_seawifs_v1.3_2005262.txt', header=None, names=col_names, skiprows=rowskips,\n",
    "                na_values=-999)"
   ]
  },
  {
   "cell_type": "code",
   "execution_count": 37,
   "metadata": {},
   "outputs": [
    {
     "data": {
      "text/html": [
       "<div>\n",
       "<style scoped>\n",
       "    .dataframe tbody tr th:only-of-type {\n",
       "        vertical-align: middle;\n",
       "    }\n",
       "\n",
       "    .dataframe tbody tr th {\n",
       "        vertical-align: top;\n",
       "    }\n",
       "\n",
       "    .dataframe thead th {\n",
       "        text-align: right;\n",
       "    }\n",
       "</style>\n",
       "<table border=\"1\" class=\"dataframe\">\n",
       "  <thead>\n",
       "    <tr style=\"text-align: right;\">\n",
       "      <th></th>\n",
       "      <th>year</th>\n",
       "      <th>month</th>\n",
       "      <th>day</th>\n",
       "      <th>hour</th>\n",
       "      <th>minute</th>\n",
       "      <th>second</th>\n",
       "      <th>lat</th>\n",
       "      <th>lon</th>\n",
       "      <th>id</th>\n",
       "      <th>oisst</th>\n",
       "      <th>...</th>\n",
       "      <th>sat_rrs490</th>\n",
       "      <th>sat_rrs510</th>\n",
       "      <th>sat_rrs555</th>\n",
       "      <th>sat_rrs670</th>\n",
       "      <th>sat_file</th>\n",
       "      <th>tdiff</th>\n",
       "      <th>solz</th>\n",
       "      <th>senz</th>\n",
       "      <th>cv</th>\n",
       "      <th>valid</th>\n",
       "    </tr>\n",
       "  </thead>\n",
       "  <tbody>\n",
       "    <tr>\n",
       "      <th>0</th>\n",
       "      <td>1997</td>\n",
       "      <td>10</td>\n",
       "      <td>7</td>\n",
       "      <td>9</td>\n",
       "      <td>41</td>\n",
       "      <td>0</td>\n",
       "      <td>42.5100</td>\n",
       "      <td>39.5200</td>\n",
       "      <td>4065</td>\n",
       "      <td>19.54</td>\n",
       "      <td>...</td>\n",
       "      <td>0.00345</td>\n",
       "      <td>0.00297</td>\n",
       "      <td>0.00217</td>\n",
       "      <td>0.00026</td>\n",
       "      <td>S1997280094210.L1A_GAC</td>\n",
       "      <td>480</td>\n",
       "      <td>49.0</td>\n",
       "      <td>25.4</td>\n",
       "      <td>0.2098</td>\n",
       "      <td>0</td>\n",
       "    </tr>\n",
       "    <tr>\n",
       "      <th>1</th>\n",
       "      <td>1997</td>\n",
       "      <td>10</td>\n",
       "      <td>11</td>\n",
       "      <td>9</td>\n",
       "      <td>32</td>\n",
       "      <td>0</td>\n",
       "      <td>39.2900</td>\n",
       "      <td>25.1100</td>\n",
       "      <td>4069</td>\n",
       "      <td>19.57</td>\n",
       "      <td>...</td>\n",
       "      <td>0.00494</td>\n",
       "      <td>0.00348</td>\n",
       "      <td>0.00191</td>\n",
       "      <td>0.00018</td>\n",
       "      <td>S1997284110315.L1A_MLAC</td>\n",
       "      <td>5880</td>\n",
       "      <td>48.7</td>\n",
       "      <td>37.8</td>\n",
       "      <td>0.1043</td>\n",
       "      <td>1</td>\n",
       "    </tr>\n",
       "    <tr>\n",
       "      <th>2</th>\n",
       "      <td>1997</td>\n",
       "      <td>9</td>\n",
       "      <td>27</td>\n",
       "      <td>11</td>\n",
       "      <td>29</td>\n",
       "      <td>0</td>\n",
       "      <td>24.1392</td>\n",
       "      <td>-20.9995</td>\n",
       "      <td>6083</td>\n",
       "      <td>24.67</td>\n",
       "      <td>...</td>\n",
       "      <td>0.00625</td>\n",
       "      <td>0.00375</td>\n",
       "      <td>0.00168</td>\n",
       "      <td>0.00022</td>\n",
       "      <td>S1997270134450.L1A_MLAC</td>\n",
       "      <td>8880</td>\n",
       "      <td>28.0</td>\n",
       "      <td>35.5</td>\n",
       "      <td>0.1012</td>\n",
       "      <td>1</td>\n",
       "    </tr>\n",
       "    <tr>\n",
       "      <th>3</th>\n",
       "      <td>1998</td>\n",
       "      <td>5</td>\n",
       "      <td>16</td>\n",
       "      <td>8</td>\n",
       "      <td>30</td>\n",
       "      <td>0</td>\n",
       "      <td>-32.3397</td>\n",
       "      <td>17.8766</td>\n",
       "      <td>6119</td>\n",
       "      <td>17.21</td>\n",
       "      <td>...</td>\n",
       "      <td>0.00177</td>\n",
       "      <td>0.00193</td>\n",
       "      <td>0.00196</td>\n",
       "      <td>0.00055</td>\n",
       "      <td>S1998136102611.L1A_MLAC</td>\n",
       "      <td>7200</td>\n",
       "      <td>51.6</td>\n",
       "      <td>22.4</td>\n",
       "      <td>0.0940</td>\n",
       "      <td>1</td>\n",
       "    </tr>\n",
       "    <tr>\n",
       "      <th>4</th>\n",
       "      <td>1998</td>\n",
       "      <td>5</td>\n",
       "      <td>16</td>\n",
       "      <td>9</td>\n",
       "      <td>16</td>\n",
       "      <td>0</td>\n",
       "      <td>-32.3447</td>\n",
       "      <td>17.8735</td>\n",
       "      <td>6120</td>\n",
       "      <td>17.21</td>\n",
       "      <td>...</td>\n",
       "      <td>0.00180</td>\n",
       "      <td>0.00198</td>\n",
       "      <td>0.00199</td>\n",
       "      <td>0.00056</td>\n",
       "      <td>S1998136102611.L1A_MLAC</td>\n",
       "      <td>4440</td>\n",
       "      <td>51.6</td>\n",
       "      <td>22.4</td>\n",
       "      <td>0.0836</td>\n",
       "      <td>1</td>\n",
       "    </tr>\n",
       "  </tbody>\n",
       "</table>\n",
       "<p>5 rows × 169 columns</p>\n",
       "</div>"
      ],
      "text/plain": [
       "   year  month  day  hour  minute  second      lat      lon    id  oisst  ...  \\\n",
       "0  1997     10    7     9      41       0  42.5100  39.5200  4065  19.54  ...   \n",
       "1  1997     10   11     9      32       0  39.2900  25.1100  4069  19.57  ...   \n",
       "2  1997      9   27    11      29       0  24.1392 -20.9995  6083  24.67  ...   \n",
       "3  1998      5   16     8      30       0 -32.3397  17.8766  6119  17.21  ...   \n",
       "4  1998      5   16     9      16       0 -32.3447  17.8735  6120  17.21  ...   \n",
       "\n",
       "   sat_rrs490  sat_rrs510  sat_rrs555  sat_rrs670                 sat_file  \\\n",
       "0     0.00345     0.00297     0.00217     0.00026   S1997280094210.L1A_GAC   \n",
       "1     0.00494     0.00348     0.00191     0.00018  S1997284110315.L1A_MLAC   \n",
       "2     0.00625     0.00375     0.00168     0.00022  S1997270134450.L1A_MLAC   \n",
       "3     0.00177     0.00193     0.00196     0.00055  S1998136102611.L1A_MLAC   \n",
       "4     0.00180     0.00198     0.00199     0.00056  S1998136102611.L1A_MLAC   \n",
       "\n",
       "   tdiff  solz  senz      cv  valid  \n",
       "0    480  49.0  25.4  0.2098      0  \n",
       "1   5880  48.7  37.8  0.1043      1  \n",
       "2   8880  28.0  35.5  0.1012      1  \n",
       "3   7200  51.6  22.4  0.0940      1  \n",
       "4   4440  51.6  22.4  0.0836      1  \n",
       "\n",
       "[5 rows x 169 columns]"
      ]
     },
     "execution_count": 37,
     "metadata": {},
     "output_type": "execute_result"
    }
   ],
   "source": [
    "df.head()"
   ]
  },
  {
   "cell_type": "code",
   "execution_count": 38,
   "metadata": {},
   "outputs": [
    {
     "name": "stdout",
     "output_type": "stream",
     "text": [
      "<class 'pandas.core.frame.DataFrame'>\n",
      "RangeIndex: 292 entries, 0 to 291\n",
      "Columns: 169 entries, year to valid\n",
      "dtypes: float64(157), int64(10), object(2)\n",
      "memory usage: 385.6+ KB\n"
     ]
    }
   ],
   "source": [
    "df.info()"
   ]
  },
  {
   "cell_type": "code",
   "execution_count": 39,
   "metadata": {},
   "outputs": [],
   "source": [
    "date_time_columns = ['year', 'month', 'day', 'hour', 'minute', 'second']\n",
    "df.insert(0, 'datetime', pd.to_datetime(df[date_time_columns], format='%Y-%m-%d %H:%M:%S'))"
   ]
  },
  {
   "cell_type": "code",
   "execution_count": 40,
   "metadata": {},
   "outputs": [],
   "source": [
    "df.drop(date_time_columns, axis=1, inplace=True)"
   ]
  },
  {
   "cell_type": "code",
   "execution_count": 41,
   "metadata": {},
   "outputs": [],
   "source": [
    "name_set = set()\n",
    "matcher = re.compile('[\\D]+')\n",
    "for name in df.columns:\n",
    "    try:\n",
    "        match = matcher.findall(name)[0]\n",
    "        name_set.add(match)\n",
    "    except IndexError:\n",
    "        continue"
   ]
  },
  {
   "cell_type": "code",
   "execution_count": 42,
   "metadata": {},
   "outputs": [
    {
     "name": "stdout",
     "output_type": "stream",
     "text": [
      "{'es', 'flag', 'ag', 'sat_rrs', 'sat_file', 'cv', 'chl_a', 'wt', 'bb', 'chl', 'lw', 'senz', 'kd', 'id', 'lat', 'oisst', 'solz', 'valid', 'sal', 'cruise', 'lon', 'ap', 'datetime', 'etopo', 'ad', 'tdiff'}\n"
     ]
    }
   ],
   "source": [
    "print(name_set)"
   ]
  },
  {
   "cell_type": "code",
   "execution_count": 114,
   "metadata": {},
   "outputs": [
    {
     "name": "stdout",
     "output_type": "stream",
     "text": [
      "<class 'pandas.core.frame.DataFrame'>\n",
      "RangeIndex: 292 entries, 0 to 291\n",
      "Data columns (total 2 columns):\n",
      "chl      262 non-null float64\n",
      "chl_a    33 non-null float64\n",
      "dtypes: float64(2)\n",
      "memory usage: 4.6 KB\n"
     ]
    }
   ],
   "source": [
    "df.filter(regex='chl', axis=1).info()"
   ]
  },
  {
   "cell_type": "code",
   "execution_count": 123,
   "metadata": {},
   "outputs": [
    {
     "name": "stdout",
     "output_type": "stream",
     "text": [
      "<class 'pandas.core.frame.DataFrame'>\n",
      "RangeIndex: 292 entries, 0 to 291\n",
      "Data columns (total 2 columns):\n",
      "wt       97 non-null float64\n",
      "oisst    292 non-null float64\n",
      "dtypes: float64(2)\n",
      "memory usage: 4.6 KB\n"
     ]
    }
   ],
   "source": [
    "df[['wt', 'oisst']].info()"
   ]
  },
  {
   "cell_type": "code",
   "execution_count": 138,
   "metadata": {},
   "outputs": [
    {
     "name": "stderr",
     "output_type": "stream",
     "text": [
      "/home/madhatter106/anaconda3/lib/python3.7/site-packages/ipykernel_launcher.py:1: RuntimeWarning: divide by zero encountered in log10\n",
      "  \"\"\"Entry point for launching an IPython kernel.\n",
      "/home/madhatter106/anaconda3/lib/python3.7/site-packages/scipy/stats/stats.py:1713: FutureWarning: Using a non-tuple sequence for multidimensional indexing is deprecated; use `arr[tuple(seq)]` instead of `arr[seq]`. In the future this will be interpreted as an array index, `arr[np.array(seq)]`, which will result either in an error or a different result.\n",
      "  return np.add.reduce(sorted[indexer] * weights, axis=axis) / sumval\n"
     ]
    },
    {
     "data": {
      "image/png": "[encoded data removed]",
      "text/plain": [
       "<Figure size 432x288 with 1 Axes>"
      ]
     },
     "metadata": {
      "needs_background": "light"
     },
     "output_type": "display_data"
    }
   ],
   "source": [
    "kdeplot(np.log10(df.etopo2));"
   ]
  },
  {
   "cell_type": "code",
   "execution_count": 155,
   "metadata": {},
   "outputs": [
    {
     "data": {
      "text/plain": [
       "32.534246575342465"
      ]
     },
     "execution_count": 155,
     "metadata": {},
     "output_type": "execute_result"
    }
   ],
   "source": [
    "df.loc[df.etopo2<=30, 'etopo2'].size / 292 * 100"
   ]
  },
  {
   "cell_type": "code",
   "execution_count": 156,
   "metadata": {},
   "outputs": [
    {
     "data": {
      "image/png": "[encoded data removed]",
      "text/plain": [
       "<Figure size 360x360 with 1 Axes>"
      ]
     },
     "metadata": {
      "needs_background": "light"
     },
     "output_type": "display_data"
    }
   ],
   "source": [
    "_, ax = pl.subplots(figsize=(5, 5))\n",
    "df.loc[df.etopo2<=30, ].plot('wt', 'oisst', kind='scatter', ax=ax, color='g', label='ocean')\n",
    "df.loc[df.etopo2>30, ].plot('wt', 'oisst', kind='scatter', ax=ax, color='b', label='open')\n",
    "pl.plot([0, 30], [0, 30], ls='--', color='k');"
   ]
  },
  {
   "cell_type": "code",
   "execution_count": 133,
   "metadata": {},
   "outputs": [
    {
     "data": {
      "image/png": "[encoded data removed]",
      "text/plain": [
       "<Figure size 360x360 with 1 Axes>"
      ]
     },
     "metadata": {
      "needs_background": "light"
     },
     "output_type": "display_data"
    }
   ],
   "source": [
    "df.plot('wt', 'oisst', kind='scatter', figsize=(5, 5))\n",
    "pl.plot([0, 30], [0, 30], ls='--', color='k');"
   ]
  },
  {
   "cell_type": "code",
   "execution_count": 72,
   "metadata": {},
   "outputs": [],
   "source": [
    "def fill_chl(row):\n",
    "    return row['chl_a'] if np.isfinite(row['chl_a']) else row['chl']\n",
    "df['chlor_a'] = df.apply(fill_chl, axis=1)\n",
    "df['is_hplc'] = np.isfinite(df['chl_a'])"
   ]
  },
  {
   "cell_type": "code",
   "execution_count": 28,
   "metadata": {},
   "outputs": [],
   "source": [
    "#ooac: other optically active component (not chl)\n",
    "#I: incident light field\n",
    "#WS: wind speed \n",
    "#OU: non-exhaustive list of factors competing with ϕ biomass\n",
    "crazy_causal_graph = CausalGraphicalModel(nodes=['sat_rrs', 'chlor_a', 'solz', 'SST', 'depth', 'senz',\n",
    "                                          'light_dose', 'z_opt', 'ooac', 'I', 'MLD', 'WS', 'OU'],\n",
    "                                   edges = [('chlor_a', 'sat_rrs'), ('senz', 'sat_rrs'), ('solz', 'sat_rrs'),\n",
    "                                           ('oisst', 'chlor_a'), ('solz', 'chlor_a'), ('MLD', 'chlor_a'),\n",
    "                                           ('depth', 'sat_rrs'), ('light_dose', 'chlor_a'),\n",
    "                                           ('depth','light_dose'), ('SST', 'light_dose'), ('OU', 'chlor_a'),\n",
    "                                           ('chlor_a', 'z_opt'), ('ooac', 'z_opt'), ('WS', 'MLD'),\n",
    "                                           ('I', 'light_dose'), ('I', 'z_opt'), ('ooac' ,'light_dose'),\n",
    "                                           ('ooac', 'sat_rrs'), ('SST', 'MLD' ), ('I', 'SST'), ('I', 'sat_rrs')])"
   ]
  },
  {
   "cell_type": "code",
   "execution_count": 29,
   "metadata": {},
   "outputs": [
    {
     "data": {
      "image/svg+xml": [
       "<?xml version=\"1.0\" encoding=\"UTF-8\" standalone=\"no\"?>\n",
       "<!DOCTYPE svg PUBLIC \"-//W3C//DTD SVG 1.1//EN\"\n",
       " \"http://www.w3.org/Graphics/SVG/1.1/DTD/svg11.dtd\">\n",
       "<!-- Generated by graphviz version 2.40.1 (20161225.0304)\n",
       " -->\n",
       "<!-- Title: %3 Pages: 1 -->\n",
       "<svg width=\"571pt\" height=\"332pt\"\n",
       " viewBox=\"0.00 0.00 570.55 332.00\" xmlns=\"http://www.w3.org/2000/svg\" xmlns:xlink=\"http://www.w3.org/1999/xlink\">\n",
       "<g id=\"graph0\" class=\"graph\" transform=\"scale(1 1) rotate(0) translate(4 328)\">\n",
       "<title>%3</title>\n",
       "<polygon fill=\"#ffffff\" stroke=\"transparent\" points=\"-4,4 -4,-328 566.5473,-328 566.5473,4 -4,4\"/>\n",
       "<!-- z_opt -->\n",
       "<g id=\"node1\" class=\"node\">\n",
       "<title>z_opt</title>\n",
       "<ellipse fill=\"none\" stroke=\"#000000\" cx=\"532\" cy=\"-18\" rx=\"30.5947\" ry=\"18\"/>\n",
       "<text text-anchor=\"middle\" x=\"532\" y=\"-14.3\" font-family=\"Times,serif\" font-size=\"14.00\" fill=\"#000000\">z_opt</text>\n",
       "</g>\n",
       "<!-- WS -->\n",
       "<g id=\"node2\" class=\"node\">\n",
       "<title>WS</title>\n",
       "<ellipse fill=\"none\" stroke=\"#000000\" cx=\"167\" cy=\"-234\" rx=\"27\" ry=\"18\"/>\n",
       "<text text-anchor=\"middle\" x=\"167\" y=\"-230.3\" font-family=\"Times,serif\" font-size=\"14.00\" fill=\"#000000\">WS</text>\n",
       "</g>\n",
       "<!-- MLD -->\n",
       "<g id=\"node12\" class=\"node\">\n",
       "<title>MLD</title>\n",
       "<ellipse fill=\"none\" stroke=\"#000000\" cx=\"251\" cy=\"-162\" rx=\"30.5947\" ry=\"18\"/>\n",
       "<text text-anchor=\"middle\" x=\"251\" y=\"-158.3\" font-family=\"Times,serif\" font-size=\"14.00\" fill=\"#000000\">MLD</text>\n",
       "</g>\n",
       "<!-- WS&#45;&gt;MLD -->\n",
       "<g id=\"edge19\" class=\"edge\">\n",
       "<title>WS&#45;&gt;MLD</title>\n",
       "<path fill=\"none\" stroke=\"#000000\" d=\"M183.5957,-219.7751C195.6662,-209.429 212.2208,-195.2393 225.9029,-183.5118\"/>\n",
       "<polygon fill=\"#000000\" stroke=\"#000000\" points=\"228.2564,-186.1043 233.5712,-176.9389 223.7009,-180.7895 228.2564,-186.1043\"/>\n",
       "</g>\n",
       "<!-- sat_rrs -->\n",
       "<g id=\"node3\" class=\"node\">\n",
       "<title>sat_rrs</title>\n",
       "<ellipse fill=\"none\" stroke=\"#000000\" cx=\"140\" cy=\"-18\" rx=\"34.394\" ry=\"18\"/>\n",
       "<text text-anchor=\"middle\" x=\"140\" y=\"-14.3\" font-family=\"Times,serif\" font-size=\"14.00\" fill=\"#000000\">sat_rrs</text>\n",
       "</g>\n",
       "<!-- senz -->\n",
       "<g id=\"node4\" class=\"node\">\n",
       "<title>senz</title>\n",
       "<ellipse fill=\"none\" stroke=\"#000000\" cx=\"27\" cy=\"-90\" rx=\"27\" ry=\"18\"/>\n",
       "<text text-anchor=\"middle\" x=\"27\" y=\"-86.3\" font-family=\"Times,serif\" font-size=\"14.00\" fill=\"#000000\">senz</text>\n",
       "</g>\n",
       "<!-- senz&#45;&gt;sat_rrs -->\n",
       "<g id=\"edge9\" class=\"edge\">\n",
       "<title>senz&#45;&gt;sat_rrs</title>\n",
       "<path fill=\"none\" stroke=\"#000000\" d=\"M46.6831,-77.4586C63.9788,-66.4383 89.4272,-50.2234 109.3815,-37.5092\"/>\n",
       "<polygon fill=\"#000000\" stroke=\"#000000\" points=\"111.2821,-40.4483 117.8349,-32.1229 107.5206,-34.5448 111.2821,-40.4483\"/>\n",
       "</g>\n",
       "<!-- OU -->\n",
       "<g id=\"node5\" class=\"node\">\n",
       "<title>OU</title>\n",
       "<ellipse fill=\"none\" stroke=\"#000000\" cx=\"439\" cy=\"-162\" rx=\"27\" ry=\"18\"/>\n",
       "<text text-anchor=\"middle\" x=\"439\" y=\"-158.3\" font-family=\"Times,serif\" font-size=\"14.00\" fill=\"#000000\">OU</text>\n",
       "</g>\n",
       "<!-- chlor_a -->\n",
       "<g id=\"node11\" class=\"node\">\n",
       "<title>chlor_a</title>\n",
       "<ellipse fill=\"none\" stroke=\"#000000\" cx=\"299\" cy=\"-90\" rx=\"37.0935\" ry=\"18\"/>\n",
       "<text text-anchor=\"middle\" x=\"299\" y=\"-86.3\" font-family=\"Times,serif\" font-size=\"14.00\" fill=\"#000000\">chlor_a</text>\n",
       "</g>\n",
       "<!-- OU&#45;&gt;chlor_a -->\n",
       "<g id=\"edge20\" class=\"edge\">\n",
       "<title>OU&#45;&gt;chlor_a</title>\n",
       "<path fill=\"none\" stroke=\"#000000\" d=\"M417.4318,-150.9078C395.162,-139.4548 360.0647,-121.4047 333.8497,-107.9227\"/>\n",
       "<polygon fill=\"#000000\" stroke=\"#000000\" points=\"335.1272,-104.644 324.6336,-103.183 331.9258,-110.869 335.1272,-104.644\"/>\n",
       "</g>\n",
       "<!-- depth -->\n",
       "<g id=\"node6\" class=\"node\">\n",
       "<title>depth</title>\n",
       "<ellipse fill=\"none\" stroke=\"#000000\" cx=\"243\" cy=\"-234\" rx=\"30.5947\" ry=\"18\"/>\n",
       "<text text-anchor=\"middle\" x=\"243\" y=\"-230.3\" font-family=\"Times,serif\" font-size=\"14.00\" fill=\"#000000\">depth</text>\n",
       "</g>\n",
       "<!-- depth&#45;&gt;sat_rrs -->\n",
       "<g id=\"edge7\" class=\"edge\">\n",
       "<title>depth&#45;&gt;sat_rrs</title>\n",
       "<path fill=\"none\" stroke=\"#000000\" d=\"M218.7329,-223.0231C189.4572,-209.5369 143.5686,-187.5199 139,-180 113.9209,-138.7199 122.9398,-79.9206 131.5945,-45.6841\"/>\n",
       "<polygon fill=\"#000000\" stroke=\"#000000\" points=\"135.0101,-46.4603 134.2306,-35.8942 128.2508,-44.6402 135.0101,-46.4603\"/>\n",
       "</g>\n",
       "<!-- light_dose -->\n",
       "<g id=\"node13\" class=\"node\">\n",
       "<title>light_dose</title>\n",
       "<ellipse fill=\"none\" stroke=\"#000000\" cx=\"347\" cy=\"-162\" rx=\"47.3916\" ry=\"18\"/>\n",
       "<text text-anchor=\"middle\" x=\"347\" y=\"-158.3\" font-family=\"Times,serif\" font-size=\"14.00\" fill=\"#000000\">light_dose</text>\n",
       "</g>\n",
       "<!-- depth&#45;&gt;light_dose -->\n",
       "<g id=\"edge8\" class=\"edge\">\n",
       "<title>depth&#45;&gt;light_dose</title>\n",
       "<path fill=\"none\" stroke=\"#000000\" d=\"M263.0522,-220.1177C277.9304,-209.8174 298.5056,-195.5731 315.5623,-183.7645\"/>\n",
       "<polygon fill=\"#000000\" stroke=\"#000000\" points=\"317.8827,-186.4151 324.1124,-177.8453 313.8982,-180.6597 317.8827,-186.4151\"/>\n",
       "</g>\n",
       "<!-- solz -->\n",
       "<g id=\"node7\" class=\"node\">\n",
       "<title>solz</title>\n",
       "<ellipse fill=\"none\" stroke=\"#000000\" cx=\"175\" cy=\"-162\" rx=\"27\" ry=\"18\"/>\n",
       "<text text-anchor=\"middle\" x=\"175\" y=\"-158.3\" font-family=\"Times,serif\" font-size=\"14.00\" fill=\"#000000\">solz</text>\n",
       "</g>\n",
       "<!-- solz&#45;&gt;sat_rrs -->\n",
       "<g id=\"edge3\" class=\"edge\">\n",
       "<title>solz&#45;&gt;sat_rrs</title>\n",
       "<path fill=\"none\" stroke=\"#000000\" d=\"M170.638,-144.0535C164.6646,-119.4774 153.8787,-75.1008 146.8292,-46.0974\"/>\n",
       "<polygon fill=\"#000000\" stroke=\"#000000\" points=\"150.1798,-45.0632 144.417,-36.1727 143.3779,-46.7165 150.1798,-45.0632\"/>\n",
       "</g>\n",
       "<!-- solz&#45;&gt;chlor_a -->\n",
       "<g id=\"edge4\" class=\"edge\">\n",
       "<title>solz&#45;&gt;chlor_a</title>\n",
       "<path fill=\"none\" stroke=\"#000000\" d=\"M195.4761,-150.1107C214.7018,-138.9473 243.7865,-122.0595 266.2374,-109.0235\"/>\n",
       "<polygon fill=\"#000000\" stroke=\"#000000\" points=\"268.2057,-111.9278 275.0961,-103.8797 264.6907,-105.8743 268.2057,-111.9278\"/>\n",
       "</g>\n",
       "<!-- SST -->\n",
       "<g id=\"node8\" class=\"node\">\n",
       "<title>SST</title>\n",
       "<ellipse fill=\"none\" stroke=\"#000000\" cx=\"319\" cy=\"-234\" rx=\"27\" ry=\"18\"/>\n",
       "<text text-anchor=\"middle\" x=\"319\" y=\"-230.3\" font-family=\"Times,serif\" font-size=\"14.00\" fill=\"#000000\">SST</text>\n",
       "</g>\n",
       "<!-- SST&#45;&gt;MLD -->\n",
       "<g id=\"edge6\" class=\"edge\">\n",
       "<title>SST&#45;&gt;MLD</title>\n",
       "<path fill=\"none\" stroke=\"#000000\" d=\"M304.5789,-218.7307C295.3295,-208.9372 283.1476,-196.0387 272.737,-185.0156\"/>\n",
       "<polygon fill=\"#000000\" stroke=\"#000000\" points=\"275.2812,-182.612 265.8704,-177.7451 270.1921,-187.4184 275.2812,-182.612\"/>\n",
       "</g>\n",
       "<!-- SST&#45;&gt;light_dose -->\n",
       "<g id=\"edge5\" class=\"edge\">\n",
       "<title>SST&#45;&gt;light_dose</title>\n",
       "<path fill=\"none\" stroke=\"#000000\" d=\"M325.778,-216.5708C328.9396,-208.4409 332.7779,-198.571 336.3164,-189.4722\"/>\n",
       "<polygon fill=\"#000000\" stroke=\"#000000\" points=\"339.6295,-190.6092 339.992,-180.0206 333.1054,-188.0721 339.6295,-190.6092\"/>\n",
       "</g>\n",
       "<!-- ooac -->\n",
       "<g id=\"node9\" class=\"node\">\n",
       "<title>ooac</title>\n",
       "<ellipse fill=\"none\" stroke=\"#000000\" cx=\"494\" cy=\"-234\" rx=\"27.0966\" ry=\"18\"/>\n",
       "<text text-anchor=\"middle\" x=\"494\" y=\"-230.3\" font-family=\"Times,serif\" font-size=\"14.00\" fill=\"#000000\">ooac</text>\n",
       "</g>\n",
       "<!-- ooac&#45;&gt;z_opt -->\n",
       "<g id=\"edge11\" class=\"edge\">\n",
       "<title>ooac&#45;&gt;z_opt</title>\n",
       "<path fill=\"none\" stroke=\"#000000\" d=\"M499.1494,-216.1115C502.0326,-205.6487 505.5326,-192.1487 508,-180 517.4568,-133.4382 524.794,-78.6349 528.7492,-46.1903\"/>\n",
       "<polygon fill=\"#000000\" stroke=\"#000000\" points=\"532.2449,-46.4339 529.959,-36.0887 525.2946,-45.6015 532.2449,-46.4339\"/>\n",
       "</g>\n",
       "<!-- ooac&#45;&gt;sat_rrs -->\n",
       "<g id=\"edge13\" class=\"edge\">\n",
       "<title>ooac&#45;&gt;sat_rrs</title>\n",
       "<path fill=\"none\" stroke=\"#000000\" d=\"M494.4416,-216.0006C494.028,-196.4521 490.6624,-165.1893 475,-144 435.7408,-90.8871 406.2948,-96.6012 345,-72 290.7268,-50.2169 224.8487,-34.6709 182.6816,-26.0116\"/>\n",
       "<polygon fill=\"#000000\" stroke=\"#000000\" points=\"183.2491,-22.5557 172.7546,-24.0105 181.8657,-29.4176 183.2491,-22.5557\"/>\n",
       "</g>\n",
       "<!-- ooac&#45;&gt;light_dose -->\n",
       "<g id=\"edge12\" class=\"edge\">\n",
       "<title>ooac&#45;&gt;light_dose</title>\n",
       "<path fill=\"none\" stroke=\"#000000\" d=\"M471.9926,-223.2209C449.1095,-212.0128 412.8445,-194.2504 385.2574,-180.7383\"/>\n",
       "<polygon fill=\"#000000\" stroke=\"#000000\" points=\"386.7865,-177.59 376.2663,-176.3345 383.7074,-183.8765 386.7865,-177.59\"/>\n",
       "</g>\n",
       "<!-- I -->\n",
       "<g id=\"node10\" class=\"node\">\n",
       "<title>I</title>\n",
       "<ellipse fill=\"none\" stroke=\"#000000\" cx=\"346\" cy=\"-306\" rx=\"27\" ry=\"18\"/>\n",
       "<text text-anchor=\"middle\" x=\"346\" y=\"-302.3\" font-family=\"Times,serif\" font-size=\"14.00\" fill=\"#000000\">I</text>\n",
       "</g>\n",
       "<!-- I&#45;&gt;z_opt -->\n",
       "<g id=\"edge15\" class=\"edge\">\n",
       "<title>I&#45;&gt;z_opt</title>\n",
       "<path fill=\"none\" stroke=\"#000000\" d=\"M372.4999,-302.0516C418.6016,-294.5935 510.5218,-276.9174 530,-252 577.2031,-191.6155 555.9205,-93.1491 541.4569,-45.523\"/>\n",
       "<polygon fill=\"#000000\" stroke=\"#000000\" points=\"544.7648,-44.3752 538.413,-35.8956 538.0905,-46.4855 544.7648,-44.3752\"/>\n",
       "</g>\n",
       "<!-- I&#45;&gt;sat_rrs -->\n",
       "<g id=\"edge17\" class=\"edge\">\n",
       "<title>I&#45;&gt;sat_rrs</title>\n",
       "<path fill=\"none\" stroke=\"#000000\" d=\"M319.0651,-302.9708C267.1178,-296.555 155.9972,-279.8558 131,-252 77.43,-192.3038 102.5812,-150.7124 118,-72 119.7903,-62.8604 123.1352,-53.3157 126.686,-44.8376\"/>\n",
       "<polygon fill=\"#000000\" stroke=\"#000000\" points=\"129.9903,-46.0214 130.8682,-35.463 123.5976,-43.1695 129.9903,-46.0214\"/>\n",
       "</g>\n",
       "<!-- I&#45;&gt;SST -->\n",
       "<g id=\"edge16\" class=\"edge\">\n",
       "<title>I&#45;&gt;SST</title>\n",
       "<path fill=\"none\" stroke=\"#000000\" d=\"M339.3258,-288.2022C336.2524,-280.0064 332.5384,-270.1024 329.1305,-261.0145\"/>\n",
       "<polygon fill=\"#000000\" stroke=\"#000000\" points=\"332.3858,-259.7274 325.5974,-251.593 325.8315,-262.1853 332.3858,-259.7274\"/>\n",
       "</g>\n",
       "<!-- I&#45;&gt;light_dose -->\n",
       "<g id=\"edge14\" class=\"edge\">\n",
       "<title>I&#45;&gt;light_dose</title>\n",
       "<path fill=\"none\" stroke=\"#000000\" d=\"M349.7474,-288.0931C351.7466,-277.6241 353.9966,-264.1241 355,-252 356.3197,-236.0545 356.1756,-231.9568 355,-216 354.3831,-207.6264 353.2351,-198.5812 351.9974,-190.3322\"/>\n",
       "<polygon fill=\"#000000\" stroke=\"#000000\" points=\"355.4477,-189.7428 350.415,-180.4196 348.5352,-190.8463 355.4477,-189.7428\"/>\n",
       "</g>\n",
       "<!-- chlor_a&#45;&gt;z_opt -->\n",
       "<g id=\"edge2\" class=\"edge\">\n",
       "<title>chlor_a&#45;&gt;z_opt</title>\n",
       "<path fill=\"none\" stroke=\"#000000\" d=\"M330.4234,-80.2898C373.1521,-67.0861 449.4533,-43.508 494.9294,-29.4553\"/>\n",
       "<polygon fill=\"#000000\" stroke=\"#000000\" points=\"496.1698,-32.7354 504.6907,-26.4389 494.1031,-26.0474 496.1698,-32.7354\"/>\n",
       "</g>\n",
       "<!-- chlor_a&#45;&gt;sat_rrs -->\n",
       "<g id=\"edge1\" class=\"edge\">\n",
       "<title>chlor_a&#45;&gt;sat_rrs</title>\n",
       "<path fill=\"none\" stroke=\"#000000\" d=\"M271.6669,-77.6228C245.1028,-65.5937 204.626,-47.2646 175.5661,-34.1054\"/>\n",
       "<polygon fill=\"#000000\" stroke=\"#000000\" points=\"176.7387,-30.7943 166.1853,-29.8575 173.8511,-37.171 176.7387,-30.7943\"/>\n",
       "</g>\n",
       "<!-- MLD&#45;&gt;chlor_a -->\n",
       "<g id=\"edge18\" class=\"edge\">\n",
       "<title>MLD&#45;&gt;chlor_a</title>\n",
       "<path fill=\"none\" stroke=\"#000000\" d=\"M262.3753,-144.937C268.1487,-136.277 275.2846,-125.5731 281.7195,-115.9207\"/>\n",
       "<polygon fill=\"#000000\" stroke=\"#000000\" points=\"284.738,-117.7027 287.3729,-107.4407 278.9137,-113.8197 284.738,-117.7027\"/>\n",
       "</g>\n",
       "<!-- light_dose&#45;&gt;chlor_a -->\n",
       "<g id=\"edge10\" class=\"edge\">\n",
       "<title>light_dose&#45;&gt;chlor_a</title>\n",
       "<path fill=\"none\" stroke=\"#000000\" d=\"M335.1348,-144.2022C329.4545,-135.6817 322.5433,-125.315 316.2923,-115.9385\"/>\n",
       "<polygon fill=\"#000000\" stroke=\"#000000\" points=\"319.0223,-113.7236 310.5631,-107.3446 313.1979,-117.6066 319.0223,-113.7236\"/>\n",
       "</g>\n",
       "</g>\n",
       "</svg>\n"
      ],
      "text/plain": [
       "<graphviz.dot.Digraph at 0x7fa48330f710>"
      ]
     },
     "execution_count": 29,
     "metadata": {},
     "output_type": "execute_result"
    }
   ],
   "source": [
    "crazy_causal_graph.draw()"
   ]
  },
  {
   "cell_type": "code",
   "execution_count": 32,
   "metadata": {},
   "outputs": [
    {
     "data": {
      "image/svg+xml": [
       "<?xml version=\"1.0\" encoding=\"UTF-8\" standalone=\"no\"?>\n",
       "<!DOCTYPE svg PUBLIC \"-//W3C//DTD SVG 1.1//EN\"\n",
       " \"http://www.w3.org/Graphics/SVG/1.1/DTD/svg11.dtd\">\n",
       "<!-- Generated by graphviz version 2.40.1 (20161225.0304)\n",
       " -->\n",
       "<!-- Title: %3 Pages: 1 -->\n",
       "<svg width=\"266pt\" height=\"188pt\"\n",
       " viewBox=\"0.00 0.00 266.00 188.00\" xmlns=\"http://www.w3.org/2000/svg\" xmlns:xlink=\"http://www.w3.org/1999/xlink\">\n",
       "<g id=\"graph0\" class=\"graph\" transform=\"scale(1 1) rotate(0) translate(4 184)\">\n",
       "<title>%3</title>\n",
       "<polygon fill=\"#ffffff\" stroke=\"transparent\" points=\"-4,4 -4,-184 262,-184 262,4 -4,4\"/>\n",
       "<!-- sat_rrs -->\n",
       "<g id=\"node1\" class=\"node\">\n",
       "<title>sat_rrs</title>\n",
       "<ellipse fill=\"none\" stroke=\"#000000\" cx=\"82\" cy=\"-18\" rx=\"34.394\" ry=\"18\"/>\n",
       "<text text-anchor=\"middle\" x=\"82\" y=\"-14.3\" font-family=\"Times,serif\" font-size=\"14.00\" fill=\"#000000\">sat_rrs</text>\n",
       "</g>\n",
       "<!-- senz -->\n",
       "<g id=\"node2\" class=\"node\">\n",
       "<title>senz</title>\n",
       "<ellipse fill=\"none\" stroke=\"#000000\" cx=\"27\" cy=\"-90\" rx=\"27\" ry=\"18\"/>\n",
       "<text text-anchor=\"middle\" x=\"27\" y=\"-86.3\" font-family=\"Times,serif\" font-size=\"14.00\" fill=\"#000000\">senz</text>\n",
       "</g>\n",
       "<!-- senz&#45;&gt;sat_rrs -->\n",
       "<g id=\"edge6\" class=\"edge\">\n",
       "<title>senz&#45;&gt;sat_rrs</title>\n",
       "<path fill=\"none\" stroke=\"#000000\" d=\"M39.4804,-73.6621C46.4134,-64.5861 55.1837,-53.1049 62.9558,-42.9306\"/>\n",
       "<polygon fill=\"#000000\" stroke=\"#000000\" points=\"65.8983,-44.8443 69.1874,-34.7729 60.3356,-40.595 65.8983,-44.8443\"/>\n",
       "</g>\n",
       "<!-- depth -->\n",
       "<g id=\"node3\" class=\"node\">\n",
       "<title>depth</title>\n",
       "<ellipse fill=\"none\" stroke=\"#000000\" cx=\"155\" cy=\"-162\" rx=\"30.5947\" ry=\"18\"/>\n",
       "<text text-anchor=\"middle\" x=\"155\" y=\"-158.3\" font-family=\"Times,serif\" font-size=\"14.00\" fill=\"#000000\">depth</text>\n",
       "</g>\n",
       "<!-- chlor_a -->\n",
       "<g id=\"node6\" class=\"node\">\n",
       "<title>chlor_a</title>\n",
       "<ellipse fill=\"none\" stroke=\"#000000\" cx=\"152\" cy=\"-90\" rx=\"37.0935\" ry=\"18\"/>\n",
       "<text text-anchor=\"middle\" x=\"152\" y=\"-86.3\" font-family=\"Times,serif\" font-size=\"14.00\" fill=\"#000000\">chlor_a</text>\n",
       "</g>\n",
       "<!-- depth&#45;&gt;chlor_a -->\n",
       "<g id=\"edge5\" class=\"edge\">\n",
       "<title>depth&#45;&gt;chlor_a</title>\n",
       "<path fill=\"none\" stroke=\"#000000\" d=\"M154.243,-143.8314C153.9221,-136.131 153.5406,-126.9743 153.184,-118.4166\"/>\n",
       "<polygon fill=\"#000000\" stroke=\"#000000\" points=\"156.6806,-118.2589 152.7672,-108.4133 149.6867,-118.5503 156.6806,-118.2589\"/>\n",
       "</g>\n",
       "<!-- solz -->\n",
       "<g id=\"node4\" class=\"node\">\n",
       "<title>solz</title>\n",
       "<ellipse fill=\"none\" stroke=\"#000000\" cx=\"79\" cy=\"-162\" rx=\"27\" ry=\"18\"/>\n",
       "<text text-anchor=\"middle\" x=\"79\" y=\"-158.3\" font-family=\"Times,serif\" font-size=\"14.00\" fill=\"#000000\">solz</text>\n",
       "</g>\n",
       "<!-- solz&#45;&gt;sat_rrs -->\n",
       "<g id=\"edge2\" class=\"edge\">\n",
       "<title>solz&#45;&gt;sat_rrs</title>\n",
       "<path fill=\"none\" stroke=\"#000000\" d=\"M79.38,-143.7623C79.8916,-119.201 80.8073,-75.2474 81.4093,-46.3541\"/>\n",
       "<polygon fill=\"#000000\" stroke=\"#000000\" points=\"84.914,-46.1604 81.6231,-36.0896 77.9155,-46.0145 84.914,-46.1604\"/>\n",
       "</g>\n",
       "<!-- solz&#45;&gt;chlor_a -->\n",
       "<g id=\"edge3\" class=\"edge\">\n",
       "<title>solz&#45;&gt;chlor_a</title>\n",
       "<path fill=\"none\" stroke=\"#000000\" d=\"M94.1256,-147.0816C103.9658,-137.3762 117.0061,-124.5145 128.2171,-113.4571\"/>\n",
       "<polygon fill=\"#000000\" stroke=\"#000000\" points=\"130.9625,-115.6653 135.6245,-106.1512 126.047,-110.6815 130.9625,-115.6653\"/>\n",
       "</g>\n",
       "<!-- SST -->\n",
       "<g id=\"node5\" class=\"node\">\n",
       "<title>SST</title>\n",
       "<ellipse fill=\"none\" stroke=\"#000000\" cx=\"231\" cy=\"-162\" rx=\"27\" ry=\"18\"/>\n",
       "<text text-anchor=\"middle\" x=\"231\" y=\"-158.3\" font-family=\"Times,serif\" font-size=\"14.00\" fill=\"#000000\">SST</text>\n",
       "</g>\n",
       "<!-- SST&#45;&gt;chlor_a -->\n",
       "<g id=\"edge4\" class=\"edge\">\n",
       "<title>SST&#45;&gt;chlor_a</title>\n",
       "<path fill=\"none\" stroke=\"#000000\" d=\"M215.0132,-147.4297C204.1108,-137.4934 189.451,-124.1326 177.0148,-112.7983\"/>\n",
       "<polygon fill=\"#000000\" stroke=\"#000000\" points=\"179.361,-110.201 169.6124,-106.0518 174.6457,-115.3747 179.361,-110.201\"/>\n",
       "</g>\n",
       "<!-- chlor_a&#45;&gt;sat_rrs -->\n",
       "<g id=\"edge1\" class=\"edge\">\n",
       "<title>chlor_a&#45;&gt;sat_rrs</title>\n",
       "<path fill=\"none\" stroke=\"#000000\" d=\"M136.1159,-73.6621C126.8975,-64.1803 115.1269,-52.0734 104.9191,-41.5739\"/>\n",
       "<polygon fill=\"#000000\" stroke=\"#000000\" points=\"107.3015,-39.0035 97.8212,-34.2733 102.2825,-43.883 107.3015,-39.0035\"/>\n",
       "</g>\n",
       "</g>\n",
       "</svg>\n"
      ],
      "text/plain": [
       "<graphviz.dot.Digraph at 0x7fa482f38240>"
      ]
     },
     "execution_count": 32,
     "metadata": {},
     "output_type": "execute_result"
    }
   ],
   "source": [
    "data_causal_graph = CausalGraphicalModel(nodes=['sat_rrs', 'chlor_a', 'solz', 'SST', 'depth', 'senz'],\n",
    "                                         edges = [('chlor_a', 'sat_rrs'), ('senz', 'sat_rrs'),\n",
    "                                                  ('solz', 'sat_rrs'), ('oisst', 'chlor_a'), \n",
    "                                                  ('solz', 'chlor_a'), ('depth', 'chlor_a'),\n",
    "                                                  ('SST', 'chlor_a')])\n",
    "data_causal_graph.draw()"
   ]
  },
  {
   "cell_type": "code",
   "execution_count": 85,
   "metadata": {},
   "outputs": [
    {
     "data": {
      "text/plain": [
       "frozenset({frozenset({'solz'}),\n",
       "           frozenset({'senz', 'solz'}),\n",
       "           frozenset({'depth', 'solz'}),\n",
       "           frozenset({'depth', 'senz', 'solz'}),\n",
       "           frozenset({'SST', 'solz'}),\n",
       "           frozenset({'SST', 'depth', 'solz'}),\n",
       "           frozenset({'SST', 'senz', 'solz'}),\n",
       "           frozenset({'SST', 'depth', 'senz', 'solz'})})"
      ]
     },
     "execution_count": 85,
     "metadata": {},
     "output_type": "execute_result"
    }
   ],
   "source": [
    "data_causal_graph.get_all_backdoor_adjustment_sets('sat_rrs', 'chlor_a')"
   ]
  },
  {
   "cell_type": "code",
   "execution_count": 66,
   "metadata": {},
   "outputs": [],
   "source": [
    "def Daylight(row):\n",
    "    l = astral.Location()\n",
    "    l.latitude = row['lat']\n",
    "    l.longitude = row['lon']\n",
    "    try:\n",
    "        td = l.sunset(date=row['datetime']) - l.sunrise(date=row['datetime'])\n",
    "        return td.seconds\n",
    "    except:\n",
    "        return np.NaN"
   ]
  },
  {
   "cell_type": "code",
   "execution_count": 67,
   "metadata": {},
   "outputs": [],
   "source": [
    "df['daylength'] = df.apply(Daylight, axis=1)"
   ]
  },
  {
   "cell_type": "code",
   "execution_count": 68,
   "metadata": {},
   "outputs": [
    {
     "data": {
      "text/html": [
       "<div>\n",
       "<style scoped>\n",
       "    .dataframe tbody tr th:only-of-type {\n",
       "        vertical-align: middle;\n",
       "    }\n",
       "\n",
       "    .dataframe tbody tr th {\n",
       "        vertical-align: top;\n",
       "    }\n",
       "\n",
       "    .dataframe thead th {\n",
       "        text-align: right;\n",
       "    }\n",
       "</style>\n",
       "<table border=\"1\" class=\"dataframe\">\n",
       "  <thead>\n",
       "    <tr style=\"text-align: right;\">\n",
       "      <th></th>\n",
       "      <th>daylength</th>\n",
       "    </tr>\n",
       "  </thead>\n",
       "  <tbody>\n",
       "    <tr>\n",
       "      <th>count</th>\n",
       "      <td>291.000000</td>\n",
       "    </tr>\n",
       "    <tr>\n",
       "      <th>mean</th>\n",
       "      <td>45397.288660</td>\n",
       "    </tr>\n",
       "    <tr>\n",
       "      <th>std</th>\n",
       "      <td>5622.147367</td>\n",
       "    </tr>\n",
       "    <tr>\n",
       "      <th>min</th>\n",
       "      <td>37580.000000</td>\n",
       "    </tr>\n",
       "    <tr>\n",
       "      <th>25%</th>\n",
       "      <td>41882.000000</td>\n",
       "    </tr>\n",
       "    <tr>\n",
       "      <th>50%</th>\n",
       "      <td>43700.000000</td>\n",
       "    </tr>\n",
       "    <tr>\n",
       "      <th>75%</th>\n",
       "      <td>49240.500000</td>\n",
       "    </tr>\n",
       "    <tr>\n",
       "      <th>max</th>\n",
       "      <td>70301.000000</td>\n",
       "    </tr>\n",
       "  </tbody>\n",
       "</table>\n",
       "</div>"
      ],
      "text/plain": [
       "          daylength\n",
       "count    291.000000\n",
       "mean   45397.288660\n",
       "std     5622.147367\n",
       "min    37580.000000\n",
       "25%    41882.000000\n",
       "50%    43700.000000\n",
       "75%    49240.500000\n",
       "max    70301.000000"
      ]
     },
     "execution_count": 68,
     "metadata": {},
     "output_type": "execute_result"
    }
   ],
   "source": [
    "df[['daylength']].describe()"
   ]
  },
  {
   "cell_type": "code",
   "execution_count": 70,
   "metadata": {},
   "outputs": [
    {
     "name": "stdout",
     "output_type": "stream",
     "text": [
      "<class 'pandas.core.frame.DataFrame'>\n",
      "RangeIndex: 292 entries, 0 to 291\n",
      "Data columns (total 1 columns):\n",
      "daylength    291 non-null float64\n",
      "dtypes: float64(1)\n",
      "memory usage: 2.4 KB\n"
     ]
    }
   ],
   "source": [
    "df[['daylength']].info()"
   ]
  },
  {
   "cell_type": "code",
   "execution_count": 83,
   "metadata": {},
   "outputs": [
    {
     "data": {
      "text/plain": [
       "11.11111111111111"
      ]
     },
     "execution_count": 83,
     "metadata": {},
     "output_type": "execute_result"
    }
   ],
   "source": [
    "40000/3600"
   ]
  },
  {
   "cell_type": "code",
   "execution_count": 74,
   "metadata": {},
   "outputs": [
    {
     "data": {
      "image/png": "[encoded data removed]",
      "text/plain": [
       "<Figure size 432x288 with 4 Axes>"
      ]
     },
     "metadata": {
      "needs_background": "light"
     },
     "output_type": "display_data"
    }
   ],
   "source": [
    "pd.plotting.scatter_matrix(df[['chlor_a', 'daylength']]);"
   ]
  },
  {
   "cell_type": "code",
   "execution_count": 80,
   "metadata": {},
   "outputs": [],
   "source": [
    "cols_s = ['chlor_a', 'daylength']\n",
    "df_s = (np.log10(df[cols_s]) - np.log10(df[cols_s].mean(axis=0))) / np.log10(df[cols_s].std(axis=0))"
   ]
  },
  {
   "cell_type": "code",
   "execution_count": 82,
   "metadata": {},
   "outputs": [
    {
     "data": {
      "image/png": "[encoded data removed]",
      "text/plain": [
       "<Figure size 432x288 with 4 Axes>"
      ]
     },
     "metadata": {
      "needs_background": "light"
     },
     "output_type": "display_data"
    }
   ],
   "source": [
    "pd.plotting.scatter_matrix(df_s);"
   ]
  },
  {
   "cell_type": "code",
   "execution_count": 90,
   "metadata": {},
   "outputs": [
    {
     "data": {
      "text/plain": [
       "<matplotlib.axes._subplots.AxesSubplot at 0x7fa47f99c160>"
      ]
     },
     "execution_count": 90,
     "metadata": {},
     "output_type": "execute_result"
    },
    {
     "data": {
      "image/png": "[encoded data removed]",
      "text/plain": [
       "<Figure size 432x288 with 2 Axes>"
      ]
     },
     "metadata": {
      "needs_background": "light"
     },
     "output_type": "display_data"
    }
   ],
   "source": [
    "\n",
    "heatmap(df.filter(regex='sat_rrs').corr(), annot=True, mask=np.triu(np.ones((6,6))))"
   ]
  },
  {
   "cell_type": "code",
   "execution_count": null,
   "metadata": {},
   "outputs": [],
   "source": []
  }
 ],
 "metadata": {
  "kernelspec": {
   "display_name": "Python 3",
   "language": "python",
   "name": "python3"
  },
  "language_info": {
   "codemirror_mode": {
    "name": "ipython",
    "version": 3
   },
   "file_extension": ".py",
   "mimetype": "text/x-python",
   "name": "python",
   "nbconvert_exporter": "python",
   "pygments_lexer": "ipython3",
   "version": "3.7.1"
  }
 },
 "nbformat": 4,
 "nbformat_minor": 2
}
