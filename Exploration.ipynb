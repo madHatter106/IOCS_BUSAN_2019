{
 "cells": [
  {
   "cell_type": "code",
   "execution_count": 136,
   "metadata": {},
   "outputs": [],
   "source": [
    "import numpy as np\n",
    "import pandas as pd\n",
    "import re\n",
    "from seaborn import pairplot, kdeplot\n",
    "import matplotlib.pyplot as pl"
   ]
  },
  {
   "cell_type": "code",
   "execution_count": 122,
   "metadata": {},
   "outputs": [],
   "source": [
    "from causalgraphicalmodels import CausalGraphicalModel"
   ]
  },
  {
   "cell_type": "code",
   "execution_count": 2,
   "metadata": {},
   "outputs": [],
   "source": [
    "%matplotlib inline"
   ]
  },
  {
   "cell_type": "code",
   "execution_count": 111,
   "metadata": {},
   "outputs": [],
   "source": [
    "with open('./nomad_seawifs_v1.3_2005262.txt') as f:\n",
    "    for i, line in enumerate(f.readlines()):\n",
    "        if 'fields' in line:\n",
    "            col_names = line.strip('/fields=').strip().split(',')\n",
    "        if '/end_header' in line:\n",
    "            rowskips = i+1\n",
    "            break\n",
    "df = pd.read_csv('./nomad_seawifs_v1.3_2005262.txt', header=None, names=col_names, skiprows=rowskips,\n",
    "                na_values=-999)"
   ]
  },
  {
   "cell_type": "code",
   "execution_count": 112,
   "metadata": {},
   "outputs": [
    {
     "data": {
      "text/html": [
       "<div>\n",
       "<style scoped>\n",
       "    .dataframe tbody tr th:only-of-type {\n",
       "        vertical-align: middle;\n",
       "    }\n",
       "\n",
       "    .dataframe tbody tr th {\n",
       "        vertical-align: top;\n",
       "    }\n",
       "\n",
       "    .dataframe thead th {\n",
       "        text-align: right;\n",
       "    }\n",
       "</style>\n",
       "<table border=\"1\" class=\"dataframe\">\n",
       "  <thead>\n",
       "    <tr style=\"text-align: right;\">\n",
       "      <th></th>\n",
       "      <th>year</th>\n",
       "      <th>month</th>\n",
       "      <th>day</th>\n",
       "      <th>hour</th>\n",
       "      <th>minute</th>\n",
       "      <th>second</th>\n",
       "      <th>lat</th>\n",
       "      <th>lon</th>\n",
       "      <th>id</th>\n",
       "      <th>oisst</th>\n",
       "      <th>...</th>\n",
       "      <th>sat_rrs490</th>\n",
       "      <th>sat_rrs510</th>\n",
       "      <th>sat_rrs555</th>\n",
       "      <th>sat_rrs670</th>\n",
       "      <th>sat_file</th>\n",
       "      <th>tdiff</th>\n",
       "      <th>solz</th>\n",
       "      <th>senz</th>\n",
       "      <th>cv</th>\n",
       "      <th>valid</th>\n",
       "    </tr>\n",
       "  </thead>\n",
       "  <tbody>\n",
       "    <tr>\n",
       "      <th>0</th>\n",
       "      <td>1997</td>\n",
       "      <td>10</td>\n",
       "      <td>7</td>\n",
       "      <td>9</td>\n",
       "      <td>41</td>\n",
       "      <td>0</td>\n",
       "      <td>42.5100</td>\n",
       "      <td>39.5200</td>\n",
       "      <td>4065</td>\n",
       "      <td>19.54</td>\n",
       "      <td>...</td>\n",
       "      <td>0.00345</td>\n",
       "      <td>0.00297</td>\n",
       "      <td>0.00217</td>\n",
       "      <td>0.00026</td>\n",
       "      <td>S1997280094210.L1A_GAC</td>\n",
       "      <td>480</td>\n",
       "      <td>49.0</td>\n",
       "      <td>25.4</td>\n",
       "      <td>0.2098</td>\n",
       "      <td>0</td>\n",
       "    </tr>\n",
       "    <tr>\n",
       "      <th>1</th>\n",
       "      <td>1997</td>\n",
       "      <td>10</td>\n",
       "      <td>11</td>\n",
       "      <td>9</td>\n",
       "      <td>32</td>\n",
       "      <td>0</td>\n",
       "      <td>39.2900</td>\n",
       "      <td>25.1100</td>\n",
       "      <td>4069</td>\n",
       "      <td>19.57</td>\n",
       "      <td>...</td>\n",
       "      <td>0.00494</td>\n",
       "      <td>0.00348</td>\n",
       "      <td>0.00191</td>\n",
       "      <td>0.00018</td>\n",
       "      <td>S1997284110315.L1A_MLAC</td>\n",
       "      <td>5880</td>\n",
       "      <td>48.7</td>\n",
       "      <td>37.8</td>\n",
       "      <td>0.1043</td>\n",
       "      <td>1</td>\n",
       "    </tr>\n",
       "    <tr>\n",
       "      <th>2</th>\n",
       "      <td>1997</td>\n",
       "      <td>9</td>\n",
       "      <td>27</td>\n",
       "      <td>11</td>\n",
       "      <td>29</td>\n",
       "      <td>0</td>\n",
       "      <td>24.1392</td>\n",
       "      <td>-20.9995</td>\n",
       "      <td>6083</td>\n",
       "      <td>24.67</td>\n",
       "      <td>...</td>\n",
       "      <td>0.00625</td>\n",
       "      <td>0.00375</td>\n",
       "      <td>0.00168</td>\n",
       "      <td>0.00022</td>\n",
       "      <td>S1997270134450.L1A_MLAC</td>\n",
       "      <td>8880</td>\n",
       "      <td>28.0</td>\n",
       "      <td>35.5</td>\n",
       "      <td>0.1012</td>\n",
       "      <td>1</td>\n",
       "    </tr>\n",
       "    <tr>\n",
       "      <th>3</th>\n",
       "      <td>1998</td>\n",
       "      <td>5</td>\n",
       "      <td>16</td>\n",
       "      <td>8</td>\n",
       "      <td>30</td>\n",
       "      <td>0</td>\n",
       "      <td>-32.3397</td>\n",
       "      <td>17.8766</td>\n",
       "      <td>6119</td>\n",
       "      <td>17.21</td>\n",
       "      <td>...</td>\n",
       "      <td>0.00177</td>\n",
       "      <td>0.00193</td>\n",
       "      <td>0.00196</td>\n",
       "      <td>0.00055</td>\n",
       "      <td>S1998136102611.L1A_MLAC</td>\n",
       "      <td>7200</td>\n",
       "      <td>51.6</td>\n",
       "      <td>22.4</td>\n",
       "      <td>0.0940</td>\n",
       "      <td>1</td>\n",
       "    </tr>\n",
       "    <tr>\n",
       "      <th>4</th>\n",
       "      <td>1998</td>\n",
       "      <td>5</td>\n",
       "      <td>16</td>\n",
       "      <td>9</td>\n",
       "      <td>16</td>\n",
       "      <td>0</td>\n",
       "      <td>-32.3447</td>\n",
       "      <td>17.8735</td>\n",
       "      <td>6120</td>\n",
       "      <td>17.21</td>\n",
       "      <td>...</td>\n",
       "      <td>0.00180</td>\n",
       "      <td>0.00198</td>\n",
       "      <td>0.00199</td>\n",
       "      <td>0.00056</td>\n",
       "      <td>S1998136102611.L1A_MLAC</td>\n",
       "      <td>4440</td>\n",
       "      <td>51.6</td>\n",
       "      <td>22.4</td>\n",
       "      <td>0.0836</td>\n",
       "      <td>1</td>\n",
       "    </tr>\n",
       "  </tbody>\n",
       "</table>\n",
       "<p>5 rows × 169 columns</p>\n",
       "</div>"
      ],
      "text/plain": [
       "   year  month  day  hour  minute  second      lat      lon    id  oisst  \\\n",
       "0  1997     10    7     9      41       0  42.5100  39.5200  4065  19.54   \n",
       "1  1997     10   11     9      32       0  39.2900  25.1100  4069  19.57   \n",
       "2  1997      9   27    11      29       0  24.1392 -20.9995  6083  24.67   \n",
       "3  1998      5   16     8      30       0 -32.3397  17.8766  6119  17.21   \n",
       "4  1998      5   16     9      16       0 -32.3447  17.8735  6120  17.21   \n",
       "\n",
       "   ...    sat_rrs490  sat_rrs510  sat_rrs555  sat_rrs670  \\\n",
       "0  ...       0.00345     0.00297     0.00217     0.00026   \n",
       "1  ...       0.00494     0.00348     0.00191     0.00018   \n",
       "2  ...       0.00625     0.00375     0.00168     0.00022   \n",
       "3  ...       0.00177     0.00193     0.00196     0.00055   \n",
       "4  ...       0.00180     0.00198     0.00199     0.00056   \n",
       "\n",
       "                  sat_file  tdiff  solz  senz      cv  valid  \n",
       "0   S1997280094210.L1A_GAC    480  49.0  25.4  0.2098      0  \n",
       "1  S1997284110315.L1A_MLAC   5880  48.7  37.8  0.1043      1  \n",
       "2  S1997270134450.L1A_MLAC   8880  28.0  35.5  0.1012      1  \n",
       "3  S1998136102611.L1A_MLAC   7200  51.6  22.4  0.0940      1  \n",
       "4  S1998136102611.L1A_MLAC   4440  51.6  22.4  0.0836      1  \n",
       "\n",
       "[5 rows x 169 columns]"
      ]
     },
     "execution_count": 112,
     "metadata": {},
     "output_type": "execute_result"
    }
   ],
   "source": [
    "df.head()"
   ]
  },
  {
   "cell_type": "code",
   "execution_count": 113,
   "metadata": {},
   "outputs": [
    {
     "name": "stdout",
     "output_type": "stream",
     "text": [
      "<class 'pandas.core.frame.DataFrame'>\n",
      "RangeIndex: 292 entries, 0 to 291\n",
      "Columns: 169 entries, year to valid\n",
      "dtypes: float64(157), int64(10), object(2)\n",
      "memory usage: 385.6+ KB\n"
     ]
    }
   ],
   "source": [
    "df.info()"
   ]
  },
  {
   "cell_type": "code",
   "execution_count": 161,
   "metadata": {},
   "outputs": [],
   "source": [
    "date_time_columns = ['year', 'month', 'day', 'hour', 'minute', 'second']\n",
    "df.insert(0, 'datetime', pd.to_datetime(df[date_time_columns], format='%Y-%m-%d %H:%M:%S'))"
   ]
  },
  {
   "cell_type": "code",
   "execution_count": 162,
   "metadata": {},
   "outputs": [],
   "source": [
    "df.drop(date_time_columns, axis=1, inplace=True)"
   ]
  },
  {
   "cell_type": "code",
   "execution_count": 102,
   "metadata": {},
   "outputs": [],
   "source": [
    "name_set = set()\n",
    "matcher = re.compile('[\\D]+')\n",
    "for name in df.columns:\n",
    "    try:\n",
    "        match = matcher.findall(name)[0]\n",
    "        name_set.add(match)\n",
    "    except IndexError:\n",
    "        continue"
   ]
  },
  {
   "cell_type": "code",
   "execution_count": 103,
   "metadata": {},
   "outputs": [
    {
     "name": "stdout",
     "output_type": "stream",
     "text": [
      "{'sat_rrs', 'lat', 'cruise', 'kd', 'id', 'flag', 'cv', 'datetime', 'chl', 'tdiff', 'bb', 'lon', 'chl_a', 'senz', 'oisst', 'lw', 'sal', 'ap', 'valid', 'sat_file', 'ad', 'etopo', 'wt', 'solz', 'ag', 'es'}\n"
     ]
    }
   ],
   "source": [
    "print(name_set)"
   ]
  },
  {
   "cell_type": "code",
   "execution_count": null,
   "metadata": {},
   "outputs": [],
   "source": [
    "df[['sat_rrs', 'senz', 'sal', 'oisst', 'chl_a', 'wt']]"
   ]
  },
  {
   "cell_type": "code",
   "execution_count": null,
   "metadata": {},
   "outputs": [],
   "source": []
  },
  {
   "cell_type": "code",
   "execution_count": 114,
   "metadata": {},
   "outputs": [
    {
     "name": "stdout",
     "output_type": "stream",
     "text": [
      "<class 'pandas.core.frame.DataFrame'>\n",
      "RangeIndex: 292 entries, 0 to 291\n",
      "Data columns (total 2 columns):\n",
      "chl      262 non-null float64\n",
      "chl_a    33 non-null float64\n",
      "dtypes: float64(2)\n",
      "memory usage: 4.6 KB\n"
     ]
    }
   ],
   "source": [
    "df.filter(regex='chl', axis=1).info()"
   ]
  },
  {
   "cell_type": "code",
   "execution_count": 123,
   "metadata": {},
   "outputs": [
    {
     "name": "stdout",
     "output_type": "stream",
     "text": [
      "<class 'pandas.core.frame.DataFrame'>\n",
      "RangeIndex: 292 entries, 0 to 291\n",
      "Data columns (total 2 columns):\n",
      "wt       97 non-null float64\n",
      "oisst    292 non-null float64\n",
      "dtypes: float64(2)\n",
      "memory usage: 4.6 KB\n"
     ]
    }
   ],
   "source": [
    "df[['wt', 'oisst']].info()"
   ]
  },
  {
   "cell_type": "code",
   "execution_count": 138,
   "metadata": {},
   "outputs": [
    {
     "name": "stderr",
     "output_type": "stream",
     "text": [
      "/home/madhatter106/anaconda3/lib/python3.7/site-packages/ipykernel_launcher.py:1: RuntimeWarning: divide by zero encountered in log10\n",
      "  \"\"\"Entry point for launching an IPython kernel.\n",
      "/home/madhatter106/anaconda3/lib/python3.7/site-packages/scipy/stats/stats.py:1713: FutureWarning: Using a non-tuple sequence for multidimensional indexing is deprecated; use `arr[tuple(seq)]` instead of `arr[seq]`. In the future this will be interpreted as an array index, `arr[np.array(seq)]`, which will result either in an error or a different result.\n",
      "  return np.add.reduce(sorted[indexer] * weights, axis=axis) / sumval\n"
     ]
    },
    {
     "data": {
      "image/png": "[encoded data removed]",
      "text/plain": [
       "<Figure size 432x288 with 1 Axes>"
      ]
     },
     "metadata": {
      "needs_background": "light"
     },
     "output_type": "display_data"
    }
   ],
   "source": [
    "kdeplot(np.log10(df.etopo2));"
   ]
  },
  {
   "cell_type": "code",
   "execution_count": 155,
   "metadata": {},
   "outputs": [
    {
     "data": {
      "text/plain": [
       "32.534246575342465"
      ]
     },
     "execution_count": 155,
     "metadata": {},
     "output_type": "execute_result"
    }
   ],
   "source": [
    "df.loc[df.etopo2<=30, 'etopo2'].size / 292 * 100"
   ]
  },
  {
   "cell_type": "code",
   "execution_count": 156,
   "metadata": {},
   "outputs": [
    {
     "data": {
      "image/png": "[encoded data removed]",
      "text/plain": [
       "<Figure size 360x360 with 1 Axes>"
      ]
     },
     "metadata": {
      "needs_background": "light"
     },
     "output_type": "display_data"
    }
   ],
   "source": [
    "_, ax = pl.subplots(figsize=(5, 5))\n",
    "df.loc[df.etopo2<=30, ].plot('wt', 'oisst', kind='scatter', ax=ax, color='g', label='ocean')\n",
    "df.loc[df.etopo2>30, ].plot('wt', 'oisst', kind='scatter', ax=ax, color='b', label='open')\n",
    "pl.plot([0, 30], [0, 30], ls='--', color='k');"
   ]
  },
  {
   "cell_type": "code",
   "execution_count": 133,
   "metadata": {},
   "outputs": [
    {
     "data": {
      "image/png": "[encoded data removed]",
      "text/plain": [
       "<Figure size 360x360 with 1 Axes>"
      ]
     },
     "metadata": {
      "needs_background": "light"
     },
     "output_type": "display_data"
    }
   ],
   "source": [
    "df.plot('wt', 'oisst', kind='scatter', figsize=(5, 5))\n",
    "pl.plot([0, 30], [0, 30], ls='--', color='k');"
   ]
  },
  {
   "cell_type": "code",
   "execution_count": 119,
   "metadata": {},
   "outputs": [],
   "source": [
    "def fill_chl(row):\n",
    "    return row['chl_a'] if np.isfinite(row['chl_a']) else row['chl']\n",
    "df['chlor_a'] = df.apply(fill_chl, axis=1)\n",
    "df['is_hplc'] = np.isfinite(df['chl_a'])"
   ]
  },
  {
   "cell_type": "code",
   "execution_count": 157,
   "metadata": {},
   "outputs": [],
   "source": [
    "causal_graph = CausalGraphicalModel(nodes=['sat_rrs', 'chlor_a', 'solz', 'oisst', 'etopo2', 'senz'],\n",
    "                                   edges = [('chlor_a', 'sat_rrs'), ('senz', 'sat_rrs'), ('solz', 'sat_rrs'),\n",
    "                                           ('oisst', 'chlor_a'), ('solz', 'chlor_a'), ('etopo2', 'chlor_a'),\n",
    "                                           ('etopo2', 'sat_rrs')])"
   ]
  },
  {
   "cell_type": "code",
   "execution_count": 159,
   "metadata": {},
   "outputs": [
    {
     "data": {
      "image/svg+xml": [
       "<?xml version=\"1.0\" encoding=\"UTF-8\" standalone=\"no\"?>\n",
       "<!DOCTYPE svg PUBLIC \"-//W3C//DTD SVG 1.1//EN\"\n",
       " \"http://www.w3.org/Graphics/SVG/1.1/DTD/svg11.dtd\">\n",
       "<!-- Generated by graphviz version 2.40.1 (20161225.0304)\n",
       " -->\n",
       "<!-- Title: %3 Pages: 1 -->\n",
       "<svg width=\"268pt\" height=\"188pt\"\n",
       " viewBox=\"0.00 0.00 268.45 188.00\" xmlns=\"http://www.w3.org/2000/svg\" xmlns:xlink=\"http://www.w3.org/1999/xlink\">\n",
       "<g id=\"graph0\" class=\"graph\" transform=\"scale(1 1) rotate(0) translate(4 184)\">\n",
       "<title>%3</title>\n",
       "<polygon fill=\"#ffffff\" stroke=\"transparent\" points=\"-4,4 -4,-184 264.4469,-184 264.4469,4 -4,4\"/>\n",
       "<!-- chlor_a -->\n",
       "<g id=\"node1\" class=\"node\">\n",
       "<title>chlor_a</title>\n",
       "<ellipse fill=\"none\" stroke=\"#000000\" cx=\"113.4469\" cy=\"-90\" rx=\"37.0935\" ry=\"18\"/>\n",
       "<text text-anchor=\"middle\" x=\"113.4469\" y=\"-86.3\" font-family=\"Times,serif\" font-size=\"14.00\" fill=\"#000000\">chlor_a</text>\n",
       "</g>\n",
       "<!-- sat_rrs -->\n",
       "<g id=\"node2\" class=\"node\">\n",
       "<title>sat_rrs</title>\n",
       "<ellipse fill=\"none\" stroke=\"#000000\" cx=\"145.4469\" cy=\"-18\" rx=\"34.394\" ry=\"18\"/>\n",
       "<text text-anchor=\"middle\" x=\"145.4469\" y=\"-14.3\" font-family=\"Times,serif\" font-size=\"14.00\" fill=\"#000000\">sat_rrs</text>\n",
       "</g>\n",
       "<!-- chlor_a&#45;&gt;sat_rrs -->\n",
       "<g id=\"edge1\" class=\"edge\">\n",
       "<title>chlor_a&#45;&gt;sat_rrs</title>\n",
       "<path fill=\"none\" stroke=\"#000000\" d=\"M121.3571,-72.2022C124.9997,-64.0064 129.4014,-54.1024 133.4405,-45.0145\"/>\n",
       "<polygon fill=\"#000000\" stroke=\"#000000\" points=\"136.7647,-46.1527 137.6278,-35.593 130.368,-43.3096 136.7647,-46.1527\"/>\n",
       "</g>\n",
       "<!-- etopo2 -->\n",
       "<g id=\"node3\" class=\"node\">\n",
       "<title>etopo2</title>\n",
       "<ellipse fill=\"none\" stroke=\"#000000\" cx=\"34.4469\" cy=\"-162\" rx=\"34.394\" ry=\"18\"/>\n",
       "<text text-anchor=\"middle\" x=\"34.4469\" y=\"-158.3\" font-family=\"Times,serif\" font-size=\"14.00\" fill=\"#000000\">etopo2</text>\n",
       "</g>\n",
       "<!-- etopo2&#45;&gt;chlor_a -->\n",
       "<g id=\"edge5\" class=\"edge\">\n",
       "<title>etopo2&#45;&gt;chlor_a</title>\n",
       "<path fill=\"none\" stroke=\"#000000\" d=\"M51.5888,-146.3771C62.3098,-136.606 76.3073,-123.8487 88.275,-112.9415\"/>\n",
       "<polygon fill=\"#000000\" stroke=\"#000000\" points=\"90.7582,-115.4139 95.7916,-106.091 86.043,-110.2402 90.7582,-115.4139\"/>\n",
       "</g>\n",
       "<!-- etopo2&#45;&gt;sat_rrs -->\n",
       "<g id=\"edge6\" class=\"edge\">\n",
       "<title>etopo2&#45;&gt;sat_rrs</title>\n",
       "<path fill=\"none\" stroke=\"#000000\" d=\"M37.6998,-143.8485C41.9018,-124.4532 50.7486,-93.5891 67.4469,-72 78.9627,-57.1115 95.741,-44.7545 110.7884,-35.6358\"/>\n",
       "<polygon fill=\"#000000\" stroke=\"#000000\" points=\"112.9669,-38.4191 119.8714,-30.383 109.4625,-32.3595 112.9669,-38.4191\"/>\n",
       "</g>\n",
       "<!-- solz -->\n",
       "<g id=\"node4\" class=\"node\">\n",
       "<title>solz</title>\n",
       "<ellipse fill=\"none\" stroke=\"#000000\" cx=\"185.4469\" cy=\"-162\" rx=\"27\" ry=\"18\"/>\n",
       "<text text-anchor=\"middle\" x=\"185.4469\" y=\"-158.3\" font-family=\"Times,serif\" font-size=\"14.00\" fill=\"#000000\">solz</text>\n",
       "</g>\n",
       "<!-- solz&#45;&gt;chlor_a -->\n",
       "<g id=\"edge3\" class=\"edge\">\n",
       "<title>solz&#45;&gt;chlor_a</title>\n",
       "<path fill=\"none\" stroke=\"#000000\" d=\"M170.1776,-146.7307C160.5183,-137.0713 147.8384,-124.3915 136.9166,-113.4696\"/>\n",
       "<polygon fill=\"#000000\" stroke=\"#000000\" points=\"139.2409,-110.8442 129.6949,-106.248 134.2911,-115.794 139.2409,-110.8442\"/>\n",
       "</g>\n",
       "<!-- solz&#45;&gt;sat_rrs -->\n",
       "<g id=\"edge2\" class=\"edge\">\n",
       "<title>solz&#45;&gt;sat_rrs</title>\n",
       "<path fill=\"none\" stroke=\"#000000\" d=\"M180.4618,-144.0535C173.6351,-119.4774 161.3083,-75.1008 153.2518,-46.0974\"/>\n",
       "<polygon fill=\"#000000\" stroke=\"#000000\" points=\"156.5437,-44.8711 150.4949,-36.1727 149.7991,-46.7447 156.5437,-44.8711\"/>\n",
       "</g>\n",
       "<!-- senz -->\n",
       "<g id=\"node5\" class=\"node\">\n",
       "<title>senz</title>\n",
       "<ellipse fill=\"none\" stroke=\"#000000\" cx=\"233.4469\" cy=\"-90\" rx=\"27\" ry=\"18\"/>\n",
       "<text text-anchor=\"middle\" x=\"233.4469\" y=\"-86.3\" font-family=\"Times,serif\" font-size=\"14.00\" fill=\"#000000\">senz</text>\n",
       "</g>\n",
       "<!-- senz&#45;&gt;sat_rrs -->\n",
       "<g id=\"edge7\" class=\"edge\">\n",
       "<title>senz&#45;&gt;sat_rrs</title>\n",
       "<path fill=\"none\" stroke=\"#000000\" d=\"M216.061,-75.7751C203.4994,-65.4975 186.3023,-51.4271 172.0243,-39.7451\"/>\n",
       "<polygon fill=\"#000000\" stroke=\"#000000\" points=\"173.968,-36.8132 164.012,-33.1896 169.5353,-42.2309 173.968,-36.8132\"/>\n",
       "</g>\n",
       "<!-- oisst -->\n",
       "<g id=\"node6\" class=\"node\">\n",
       "<title>oisst</title>\n",
       "<ellipse fill=\"none\" stroke=\"#000000\" cx=\"113.4469\" cy=\"-162\" rx=\"27\" ry=\"18\"/>\n",
       "<text text-anchor=\"middle\" x=\"113.4469\" y=\"-158.3\" font-family=\"Times,serif\" font-size=\"14.00\" fill=\"#000000\">oisst</text>\n",
       "</g>\n",
       "<!-- oisst&#45;&gt;chlor_a -->\n",
       "<g id=\"edge4\" class=\"edge\">\n",
       "<title>oisst&#45;&gt;chlor_a</title>\n",
       "<path fill=\"none\" stroke=\"#000000\" d=\"M113.4469,-143.8314C113.4469,-136.131 113.4469,-126.9743 113.4469,-118.4166\"/>\n",
       "<polygon fill=\"#000000\" stroke=\"#000000\" points=\"116.947,-118.4132 113.4469,-108.4133 109.947,-118.4133 116.947,-118.4132\"/>\n",
       "</g>\n",
       "</g>\n",
       "</svg>\n"
      ],
      "text/plain": [
       "<graphviz.dot.Digraph at 0x7fdaa4c75208>"
      ]
     },
     "execution_count": 159,
     "metadata": {},
     "output_type": "execute_result"
    }
   ],
   "source": [
    "causal_graph.draw()"
   ]
  },
  {
   "cell_type": "code",
   "execution_count": 160,
   "metadata": {},
   "outputs": [
    {
     "name": "stdout",
     "output_type": "stream",
     "text": [
      "Collecting package metadata: done\n",
      "Solving environment: failed\n",
      "\n",
      "PackagesNotFoundError: The following packages are not available from current channels:\n",
      "\n",
      "  - timezone\n",
      "\n",
      "Current channels:\n",
      "\n",
      "  - https://repo.anaconda.com/pkgs/main/linux-64\n",
      "  - https://repo.anaconda.com/pkgs/main/noarch\n",
      "  - https://repo.anaconda.com/pkgs/free/linux-64\n",
      "  - https://repo.anaconda.com/pkgs/free/noarch\n",
      "  - https://repo.anaconda.com/pkgs/r/linux-64\n",
      "  - https://repo.anaconda.com/pkgs/r/noarch\n",
      "\n",
      "To search for alternate channels that may provide the conda package you're\n",
      "looking for, navigate to\n",
      "\n",
      "    https://anaconda.org\n",
      "\n",
      "and use the search bar at the top of the page.\n",
      "\n",
      "\n"
     ]
    }
   ],
   "source": [
    "!conda install timezone"
   ]
  },
  {
   "cell_type": "code",
   "execution_count": 188,
   "metadata": {},
   "outputs": [],
   "source": [
    "import math\n",
    "def Daylight(row):\n",
    "    latitude = abs(row['lat'])\n",
    "    day = row['dayofyear']\n",
    "    P = math.asin(0.39795 * math.cos(0.2163108 + 2 * math.atan(0.9671396 * math.tan(.00860 * (day - 186)))))\n",
    "    pi = math.pi\n",
    "    daylightamount = sin24+(24 * cos-18^12)^(day)+(latitude)^24\n",
    "    return daylightamount"
   ]
  },
  {
   "cell_type": "code",
   "execution_count": 189,
   "metadata": {},
   "outputs": [
    {
     "ename": "ValueError",
     "evalue": "('math domain error', 'occurred at index 235')",
     "output_type": "error",
     "traceback": [
      "\u001b[0;31m---------------------------------------------------------------------------\u001b[0m",
      "\u001b[0;31mValueError\u001b[0m                                Traceback (most recent call last)",
      "\u001b[0;32m<ipython-input-189-b42eaab4ca3f>\u001b[0m in \u001b[0;36m<module>\u001b[0;34m\u001b[0m\n\u001b[1;32m      1\u001b[0m \u001b[0mdf\u001b[0m\u001b[0;34m[\u001b[0m\u001b[0;34m'dayofyear'\u001b[0m\u001b[0;34m]\u001b[0m \u001b[0;34m=\u001b[0m \u001b[0mdf\u001b[0m\u001b[0;34m.\u001b[0m\u001b[0mdatetime\u001b[0m\u001b[0;34m.\u001b[0m\u001b[0mdt\u001b[0m\u001b[0;34m.\u001b[0m\u001b[0mdayofyear\u001b[0m\u001b[0;34m\u001b[0m\u001b[0;34m\u001b[0m\u001b[0m\n\u001b[0;32m----> 2\u001b[0;31m \u001b[0mdf\u001b[0m\u001b[0;34m[\u001b[0m\u001b[0;34m'daylength'\u001b[0m\u001b[0;34m]\u001b[0m \u001b[0;34m=\u001b[0m \u001b[0mdf\u001b[0m\u001b[0;34m.\u001b[0m\u001b[0mapply\u001b[0m\u001b[0;34m(\u001b[0m\u001b[0mDaylight\u001b[0m\u001b[0;34m,\u001b[0m \u001b[0maxis\u001b[0m\u001b[0;34m=\u001b[0m\u001b[0;36m1\u001b[0m\u001b[0;34m)\u001b[0m\u001b[0;34m\u001b[0m\u001b[0;34m\u001b[0m\u001b[0m\n\u001b[0m",
      "\u001b[0;32m~/anaconda3/lib/python3.7/site-packages/pandas/core/frame.py\u001b[0m in \u001b[0;36mapply\u001b[0;34m(self, func, axis, broadcast, raw, reduce, result_type, args, **kwds)\u001b[0m\n\u001b[1;32m   6012\u001b[0m                          \u001b[0margs\u001b[0m\u001b[0;34m=\u001b[0m\u001b[0margs\u001b[0m\u001b[0;34m,\u001b[0m\u001b[0;34m\u001b[0m\u001b[0;34m\u001b[0m\u001b[0m\n\u001b[1;32m   6013\u001b[0m                          kwds=kwds)\n\u001b[0;32m-> 6014\u001b[0;31m         \u001b[0;32mreturn\u001b[0m \u001b[0mop\u001b[0m\u001b[0;34m.\u001b[0m\u001b[0mget_result\u001b[0m\u001b[0;34m(\u001b[0m\u001b[0;34m)\u001b[0m\u001b[0;34m\u001b[0m\u001b[0;34m\u001b[0m\u001b[0m\n\u001b[0m\u001b[1;32m   6015\u001b[0m \u001b[0;34m\u001b[0m\u001b[0m\n\u001b[1;32m   6016\u001b[0m     \u001b[0;32mdef\u001b[0m \u001b[0mapplymap\u001b[0m\u001b[0;34m(\u001b[0m\u001b[0mself\u001b[0m\u001b[0;34m,\u001b[0m \u001b[0mfunc\u001b[0m\u001b[0;34m)\u001b[0m\u001b[0;34m:\u001b[0m\u001b[0;34m\u001b[0m\u001b[0;34m\u001b[0m\u001b[0m\n",
      "\u001b[0;32m~/anaconda3/lib/python3.7/site-packages/pandas/core/apply.py\u001b[0m in \u001b[0;36mget_result\u001b[0;34m(self)\u001b[0m\n\u001b[1;32m    140\u001b[0m             \u001b[0;32mreturn\u001b[0m \u001b[0mself\u001b[0m\u001b[0;34m.\u001b[0m\u001b[0mapply_raw\u001b[0m\u001b[0;34m(\u001b[0m\u001b[0;34m)\u001b[0m\u001b[0;34m\u001b[0m\u001b[0;34m\u001b[0m\u001b[0m\n\u001b[1;32m    141\u001b[0m \u001b[0;34m\u001b[0m\u001b[0m\n\u001b[0;32m--> 142\u001b[0;31m         \u001b[0;32mreturn\u001b[0m \u001b[0mself\u001b[0m\u001b[0;34m.\u001b[0m\u001b[0mapply_standard\u001b[0m\u001b[0;34m(\u001b[0m\u001b[0;34m)\u001b[0m\u001b[0;34m\u001b[0m\u001b[0;34m\u001b[0m\u001b[0m\n\u001b[0m\u001b[1;32m    143\u001b[0m \u001b[0;34m\u001b[0m\u001b[0m\n\u001b[1;32m    144\u001b[0m     \u001b[0;32mdef\u001b[0m \u001b[0mapply_empty_result\u001b[0m\u001b[0;34m(\u001b[0m\u001b[0mself\u001b[0m\u001b[0;34m)\u001b[0m\u001b[0;34m:\u001b[0m\u001b[0;34m\u001b[0m\u001b[0;34m\u001b[0m\u001b[0m\n",
      "\u001b[0;32m~/anaconda3/lib/python3.7/site-packages/pandas/core/apply.py\u001b[0m in \u001b[0;36mapply_standard\u001b[0;34m(self)\u001b[0m\n\u001b[1;32m    246\u001b[0m \u001b[0;34m\u001b[0m\u001b[0m\n\u001b[1;32m    247\u001b[0m         \u001b[0;31m# compute the result using the series generator\u001b[0m\u001b[0;34m\u001b[0m\u001b[0;34m\u001b[0m\u001b[0;34m\u001b[0m\u001b[0m\n\u001b[0;32m--> 248\u001b[0;31m         \u001b[0mself\u001b[0m\u001b[0;34m.\u001b[0m\u001b[0mapply_series_generator\u001b[0m\u001b[0;34m(\u001b[0m\u001b[0;34m)\u001b[0m\u001b[0;34m\u001b[0m\u001b[0;34m\u001b[0m\u001b[0m\n\u001b[0m\u001b[1;32m    249\u001b[0m \u001b[0;34m\u001b[0m\u001b[0m\n\u001b[1;32m    250\u001b[0m         \u001b[0;31m# wrap results\u001b[0m\u001b[0;34m\u001b[0m\u001b[0;34m\u001b[0m\u001b[0;34m\u001b[0m\u001b[0m\n",
      "\u001b[0;32m~/anaconda3/lib/python3.7/site-packages/pandas/core/apply.py\u001b[0m in \u001b[0;36mapply_series_generator\u001b[0;34m(self)\u001b[0m\n\u001b[1;32m    275\u001b[0m             \u001b[0;32mtry\u001b[0m\u001b[0;34m:\u001b[0m\u001b[0;34m\u001b[0m\u001b[0;34m\u001b[0m\u001b[0m\n\u001b[1;32m    276\u001b[0m                 \u001b[0;32mfor\u001b[0m \u001b[0mi\u001b[0m\u001b[0;34m,\u001b[0m \u001b[0mv\u001b[0m \u001b[0;32min\u001b[0m \u001b[0menumerate\u001b[0m\u001b[0;34m(\u001b[0m\u001b[0mseries_gen\u001b[0m\u001b[0;34m)\u001b[0m\u001b[0;34m:\u001b[0m\u001b[0;34m\u001b[0m\u001b[0;34m\u001b[0m\u001b[0m\n\u001b[0;32m--> 277\u001b[0;31m                     \u001b[0mresults\u001b[0m\u001b[0;34m[\u001b[0m\u001b[0mi\u001b[0m\u001b[0;34m]\u001b[0m \u001b[0;34m=\u001b[0m \u001b[0mself\u001b[0m\u001b[0;34m.\u001b[0m\u001b[0mf\u001b[0m\u001b[0;34m(\u001b[0m\u001b[0mv\u001b[0m\u001b[0;34m)\u001b[0m\u001b[0;34m\u001b[0m\u001b[0;34m\u001b[0m\u001b[0m\n\u001b[0m\u001b[1;32m    278\u001b[0m                     \u001b[0mkeys\u001b[0m\u001b[0;34m.\u001b[0m\u001b[0mappend\u001b[0m\u001b[0;34m(\u001b[0m\u001b[0mv\u001b[0m\u001b[0;34m.\u001b[0m\u001b[0mname\u001b[0m\u001b[0;34m)\u001b[0m\u001b[0;34m\u001b[0m\u001b[0;34m\u001b[0m\u001b[0m\n\u001b[1;32m    279\u001b[0m             \u001b[0;32mexcept\u001b[0m \u001b[0mException\u001b[0m \u001b[0;32mas\u001b[0m \u001b[0me\u001b[0m\u001b[0;34m:\u001b[0m\u001b[0;34m\u001b[0m\u001b[0;34m\u001b[0m\u001b[0m\n",
      "\u001b[0;32m<ipython-input-188-9994f311bff9>\u001b[0m in \u001b[0;36mDaylight\u001b[0;34m(row)\u001b[0m\n\u001b[1;32m      7\u001b[0m     daylightamount = 24 - (24 / pi) * math.acos((math.sin(0.8333 * pi / 180) \n\u001b[1;32m      8\u001b[0m                                                  + math.sin(latitude * pi / 180) * math.sin(P)) /\n\u001b[0;32m----> 9\u001b[0;31m                                                 (math.cos(latitude * pi / 180) * math.cos(P)))\n\u001b[0m\u001b[1;32m     10\u001b[0m     \u001b[0;32mreturn\u001b[0m \u001b[0mdaylightamount\u001b[0m\u001b[0;34m\u001b[0m\u001b[0;34m\u001b[0m\u001b[0m\n",
      "\u001b[0;31mValueError\u001b[0m: ('math domain error', 'occurred at index 235')"
     ]
    }
   ],
   "source": [
    "df['dayofyear'] = df.datetime.dt.dayofyear\n",
    "df['daylength'] = df.apply(Daylight, axis=1)"
   ]
  },
  {
   "cell_type": "code",
   "execution_count": 185,
   "metadata": {},
   "outputs": [
    {
     "data": {
      "text/html": [
       "<div>\n",
       "<style scoped>\n",
       "    .dataframe tbody tr th:only-of-type {\n",
       "        vertical-align: middle;\n",
       "    }\n",
       "\n",
       "    .dataframe tbody tr th {\n",
       "        vertical-align: top;\n",
       "    }\n",
       "\n",
       "    .dataframe thead th {\n",
       "        text-align: right;\n",
       "    }\n",
       "</style>\n",
       "<table border=\"1\" class=\"dataframe\">\n",
       "  <thead>\n",
       "    <tr style=\"text-align: right;\">\n",
       "      <th></th>\n",
       "      <th>daylength</th>\n",
       "    </tr>\n",
       "  </thead>\n",
       "  <tbody>\n",
       "    <tr>\n",
       "      <th>count</th>\n",
       "      <td>292.000000</td>\n",
       "    </tr>\n",
       "    <tr>\n",
       "      <th>mean</th>\n",
       "      <td>12.120861</td>\n",
       "    </tr>\n",
       "    <tr>\n",
       "      <th>std</th>\n",
       "      <td>0.022367</td>\n",
       "    </tr>\n",
       "    <tr>\n",
       "      <th>min</th>\n",
       "      <td>12.091048</td>\n",
       "    </tr>\n",
       "    <tr>\n",
       "      <th>25%</th>\n",
       "      <td>12.104019</td>\n",
       "    </tr>\n",
       "    <tr>\n",
       "      <th>50%</th>\n",
       "      <td>12.113027</td>\n",
       "    </tr>\n",
       "    <tr>\n",
       "      <th>75%</th>\n",
       "      <td>12.136398</td>\n",
       "    </tr>\n",
       "    <tr>\n",
       "      <th>max</th>\n",
       "      <td>12.196520</td>\n",
       "    </tr>\n",
       "  </tbody>\n",
       "</table>\n",
       "</div>"
      ],
      "text/plain": [
       "        daylength\n",
       "count  292.000000\n",
       "mean    12.120861\n",
       "std      0.022367\n",
       "min     12.091048\n",
       "25%     12.104019\n",
       "50%     12.113027\n",
       "75%     12.136398\n",
       "max     12.196520"
      ]
     },
     "execution_count": 185,
     "metadata": {},
     "output_type": "execute_result"
    }
   ],
   "source": [
    "df[['daylength']].describe()"
   ]
  },
  {
   "cell_type": "code",
   "execution_count": 182,
   "metadata": {},
   "outputs": [
    {
     "data": {
      "text/html": [
       "<div>\n",
       "<style scoped>\n",
       "    .dataframe tbody tr th:only-of-type {\n",
       "        vertical-align: middle;\n",
       "    }\n",
       "\n",
       "    .dataframe tbody tr th {\n",
       "        vertical-align: top;\n",
       "    }\n",
       "\n",
       "    .dataframe thead th {\n",
       "        text-align: right;\n",
       "    }\n",
       "</style>\n",
       "<table border=\"1\" class=\"dataframe\">\n",
       "  <thead>\n",
       "    <tr style=\"text-align: right;\">\n",
       "      <th></th>\n",
       "      <th>dayofyear</th>\n",
       "    </tr>\n",
       "  </thead>\n",
       "  <tbody>\n",
       "    <tr>\n",
       "      <th>count</th>\n",
       "      <td>292.000000</td>\n",
       "    </tr>\n",
       "    <tr>\n",
       "      <th>mean</th>\n",
       "      <td>163.154110</td>\n",
       "    </tr>\n",
       "    <tr>\n",
       "      <th>std</th>\n",
       "      <td>95.635585</td>\n",
       "    </tr>\n",
       "    <tr>\n",
       "      <th>min</th>\n",
       "      <td>11.000000</td>\n",
       "    </tr>\n",
       "    <tr>\n",
       "      <th>25%</th>\n",
       "      <td>63.000000</td>\n",
       "    </tr>\n",
       "    <tr>\n",
       "      <th>50%</th>\n",
       "      <td>182.000000</td>\n",
       "    </tr>\n",
       "    <tr>\n",
       "      <th>75%</th>\n",
       "      <td>243.500000</td>\n",
       "    </tr>\n",
       "    <tr>\n",
       "      <th>max</th>\n",
       "      <td>361.000000</td>\n",
       "    </tr>\n",
       "  </tbody>\n",
       "</table>\n",
       "</div>"
      ],
      "text/plain": [
       "        dayofyear\n",
       "count  292.000000\n",
       "mean   163.154110\n",
       "std     95.635585\n",
       "min     11.000000\n",
       "25%     63.000000\n",
       "50%    182.000000\n",
       "75%    243.500000\n",
       "max    361.000000"
      ]
     },
     "execution_count": 182,
     "metadata": {},
     "output_type": "execute_result"
    }
   ],
   "source": [
    "df[['dayofyear']].describe()"
   ]
  },
  {
   "cell_type": "code",
   "execution_count": null,
   "metadata": {},
   "outputs": [],
   "source": []
  }
 ],
 "metadata": {
  "kernelspec": {
   "display_name": "Python 3",
   "language": "python",
   "name": "python3"
  },
  "language_info": {
   "codemirror_mode": {
    "name": "ipython",
    "version": 3
   },
   "file_extension": ".py",
   "mimetype": "text/x-python",
   "name": "python",
   "nbconvert_exporter": "python",
   "pygments_lexer": "ipython3",
   "version": "3.7.1"
  }
 },
 "nbformat": 4,
 "nbformat_minor": 2
}
